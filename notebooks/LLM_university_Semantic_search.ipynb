{
  "cells": [
    {
      "cell_type": "markdown",
      "metadata": {
        "id": "xhiR0rcSL7k-"
      },
      "source": [
        "Let’s use the same 9 data points from the previous chapter and pretend that those make up a list of Frequently Asked Questions (FAQ). Whenever a new query comes in, we want to match that query to the closest FAQ so we can provide the most relevant answer. Here is the list again:\n",
        "\n",
        "- which airlines fly from boston to washington dc via other cities\n",
        "- show me the airlines that fly between toronto and denver\n",
        "- show me round trip first class tickets from new york to miami\n",
        "- i'd like the lowest fare from denver to pittsburgh\n",
        "- show me a list of ground transportation at boston airport\n",
        "- show me boston ground transportation\n",
        "- of all airlines which airline has the most arrivals in atlanta\n",
        "- what ground transportation is available in boston\n",
        "- i would like your rates between atlanta and boston on september third\n",
        "- which airlines fly between boston and pittsburgh\n",
        "\n",
        "Let’s say a person enters the query “How can I find a taxi or a bus when the plane lands?”. Note that the “taxi” and \"bus\" keywords don't exist anywhere in our FAQ, so let’s see what results we get with semantic search.\n",
        "\n",
        "Implementation-wise, there are many ways we can approach this. And in our case, we use cosine similarity to compare the embeddings of the search query with those from the FAQ and find the most similar ones."
      ]
    },
    {
      "cell_type": "markdown",
      "metadata": {
        "id": "ej3OUp1yMIV-"
      },
      "source": [
        "# Step 1: Embed the Documents\n",
        "\n",
        "The first step is to turn the documents into embeddings. We embed each inquiry by calling Cohere’s Embed endpoint with co.embed(). It takes in texts as input and returns embeddings as output. We supply three parameters:\n",
        "\n",
        "texts: The list of texts you want to embed\n",
        "model: The model to use to generate the embedding. At the time of writing, there are four models available\n",
        "input_type — Specifies the type of document to be embedded. At the time of writing, there are four options:\n",
        "search_document: For documents against which search is performed\n",
        "search_query: For query documents\n",
        "classification: For when the embeddings will be used as an input to a text classifier\n",
        "clustering: For when you want to cluster the embeddings"
      ]
    },
    {
      "cell_type": "code",
      "execution_count": 1,
      "metadata": {
        "colab": {
          "base_uri": "https://localhost:8080/"
        },
        "id": "_Mb3F_r3M4TQ",
        "outputId": "c226dd76-930a-499d-e465-2cb7bad0103b"
      },
      "outputs": [
        {
          "name": "stdout",
          "output_type": "stream",
          "text": [
            "Collecting cohere\n",
            "  Downloading cohere-5.12.0-py3-none-any.whl.metadata (3.5 kB)\n",
            "Collecting fastavro<2.0.0,>=1.9.4 (from cohere)\n",
            "  Downloading fastavro-1.9.7-cp310-cp310-manylinux_2_17_x86_64.manylinux2014_x86_64.whl.metadata (5.5 kB)\n",
            "Requirement already satisfied: httpx>=0.21.2 in /usr/local/lib/python3.10/dist-packages (from cohere) (0.27.2)\n",
            "Collecting httpx-sse==0.4.0 (from cohere)\n",
            "  Downloading httpx_sse-0.4.0-py3-none-any.whl.metadata (9.0 kB)\n",
            "Collecting parameterized<0.10.0,>=0.9.0 (from cohere)\n",
            "  Downloading parameterized-0.9.0-py2.py3-none-any.whl.metadata (18 kB)\n",
            "Requirement already satisfied: pydantic>=1.9.2 in /usr/local/lib/python3.10/dist-packages (from cohere) (2.9.2)\n",
            "Requirement already satisfied: pydantic-core<3.0.0,>=2.18.2 in /usr/local/lib/python3.10/dist-packages (from cohere) (2.23.4)\n",
            "Requirement already satisfied: requests<3.0.0,>=2.0.0 in /usr/local/lib/python3.10/dist-packages (from cohere) (2.32.3)\n",
            "Requirement already satisfied: tokenizers<1,>=0.15 in /usr/local/lib/python3.10/dist-packages (from cohere) (0.20.3)\n",
            "Collecting types-requests<3.0.0,>=2.0.0 (from cohere)\n",
            "  Downloading types_requests-2.32.0.20241016-py3-none-any.whl.metadata (1.9 kB)\n",
            "Requirement already satisfied: typing_extensions>=4.0.0 in /usr/local/lib/python3.10/dist-packages (from cohere) (4.12.2)\n",
            "Requirement already satisfied: anyio in /usr/local/lib/python3.10/dist-packages (from httpx>=0.21.2->cohere) (3.7.1)\n",
            "Requirement already satisfied: certifi in /usr/local/lib/python3.10/dist-packages (from httpx>=0.21.2->cohere) (2024.8.30)\n",
            "Requirement already satisfied: httpcore==1.* in /usr/local/lib/python3.10/dist-packages (from httpx>=0.21.2->cohere) (1.0.7)\n",
            "Requirement already satisfied: idna in /usr/local/lib/python3.10/dist-packages (from httpx>=0.21.2->cohere) (3.10)\n",
            "Requirement already satisfied: sniffio in /usr/local/lib/python3.10/dist-packages (from httpx>=0.21.2->cohere) (1.3.1)\n",
            "Requirement already satisfied: h11<0.15,>=0.13 in /usr/local/lib/python3.10/dist-packages (from httpcore==1.*->httpx>=0.21.2->cohere) (0.14.0)\n",
            "Requirement already satisfied: annotated-types>=0.6.0 in /usr/local/lib/python3.10/dist-packages (from pydantic>=1.9.2->cohere) (0.7.0)\n",
            "Requirement already satisfied: charset-normalizer<4,>=2 in /usr/local/lib/python3.10/dist-packages (from requests<3.0.0,>=2.0.0->cohere) (3.4.0)\n",
            "Requirement already satisfied: urllib3<3,>=1.21.1 in /usr/local/lib/python3.10/dist-packages (from requests<3.0.0,>=2.0.0->cohere) (2.2.3)\n",
            "Requirement already satisfied: huggingface-hub<1.0,>=0.16.4 in /usr/local/lib/python3.10/dist-packages (from tokenizers<1,>=0.15->cohere) (0.26.2)\n",
            "Requirement already satisfied: filelock in /usr/local/lib/python3.10/dist-packages (from huggingface-hub<1.0,>=0.16.4->tokenizers<1,>=0.15->cohere) (3.16.1)\n",
            "Requirement already satisfied: fsspec>=2023.5.0 in /usr/local/lib/python3.10/dist-packages (from huggingface-hub<1.0,>=0.16.4->tokenizers<1,>=0.15->cohere) (2024.10.0)\n",
            "Requirement already satisfied: packaging>=20.9 in /usr/local/lib/python3.10/dist-packages (from huggingface-hub<1.0,>=0.16.4->tokenizers<1,>=0.15->cohere) (24.2)\n",
            "Requirement already satisfied: pyyaml>=5.1 in /usr/local/lib/python3.10/dist-packages (from huggingface-hub<1.0,>=0.16.4->tokenizers<1,>=0.15->cohere) (6.0.2)\n",
            "Requirement already satisfied: tqdm>=4.42.1 in /usr/local/lib/python3.10/dist-packages (from huggingface-hub<1.0,>=0.16.4->tokenizers<1,>=0.15->cohere) (4.66.6)\n",
            "Requirement already satisfied: exceptiongroup in /usr/local/lib/python3.10/dist-packages (from anyio->httpx>=0.21.2->cohere) (1.2.2)\n",
            "Downloading cohere-5.12.0-py3-none-any.whl (249 kB)\n",
            "\u001b[2K   \u001b[90m━━━━━━━━━━━━━━━━━━━━━━━━━━━━━━━━━━━━━━━━\u001b[0m \u001b[32m249.7/249.7 kB\u001b[0m \u001b[31m6.6 MB/s\u001b[0m eta \u001b[36m0:00:00\u001b[0m\n",
            "\u001b[?25hDownloading httpx_sse-0.4.0-py3-none-any.whl (7.8 kB)\n",
            "Downloading fastavro-1.9.7-cp310-cp310-manylinux_2_17_x86_64.manylinux2014_x86_64.whl (3.1 MB)\n",
            "\u001b[2K   \u001b[90m━━━━━━━━━━━━━━━━━━━━━━━━━━━━━━━━━━━━━━━━\u001b[0m \u001b[32m3.1/3.1 MB\u001b[0m \u001b[31m29.8 MB/s\u001b[0m eta \u001b[36m0:00:00\u001b[0m\n",
            "\u001b[?25hDownloading parameterized-0.9.0-py2.py3-none-any.whl (20 kB)\n",
            "Downloading types_requests-2.32.0.20241016-py3-none-any.whl (15 kB)\n",
            "Installing collected packages: types-requests, parameterized, httpx-sse, fastavro, cohere\n",
            "Successfully installed cohere-5.12.0 fastavro-1.9.7 httpx-sse-0.4.0 parameterized-0.9.0 types-requests-2.32.0.20241016\n"
          ]
        }
      ],
      "source": [
        "!pip install cohere"
      ]
    },
    {
      "cell_type": "code",
      "execution_count": 54,
      "metadata": {
        "id": "DEgmp3WMM_s8"
      },
      "outputs": [],
      "source": [
        "#import needed libraries\n",
        "import numpy as np\n",
        "import pandas as pd\n",
        "import cohere\n",
        "import altair as alt\n",
        "from sklearn.metrics.pairwise import cosine_similarity\n",
        "from sklearn.decomposition import PCA\n"
      ]
    },
    {
      "cell_type": "code",
      "execution_count": 3,
      "metadata": {
        "id": "ExcbWKidMw3a"
      },
      "outputs": [],
      "source": [
        "co = cohere.Client('COHERE_API_KEY')"
      ]
    },
    {
      "cell_type": "markdown",
      "metadata": {
        "id": "y2eb6hlrOcdp"
      },
      "source": [
        "# Data preprocessing"
      ]
    },
    {
      "cell_type": "code",
      "execution_count": 4,
      "metadata": {
        "id": "L7ffeC4_N5tQ"
      },
      "outputs": [],
      "source": [
        "#load the dataset\n",
        "dataset = pd.read_csv('https://raw.githubusercontent.com/cohere-ai/notebooks/main/notebooks/data/atis_intents_train.csv', names = ['intent', 'query'])"
      ]
    },
    {
      "cell_type": "code",
      "execution_count": 7,
      "metadata": {
        "colab": {
          "base_uri": "https://localhost:8080/",
          "height": 206
        },
        "id": "FQdYRLkpONxY",
        "outputId": "2084f258-4127-44dc-aa3c-a700479c6e77"
      },
      "outputs": [
        {
          "data": {
            "application/vnd.google.colaboratory.intrinsic+json": {
              "summary": "{\n  \"name\": \"dataset\",\n  \"rows\": 4834,\n  \"fields\": [\n    {\n      \"column\": \"intent\",\n      \"properties\": {\n        \"dtype\": \"category\",\n        \"num_unique_values\": 8,\n        \"samples\": [\n          \"atis_flight_time\",\n          \"atis_airline\",\n          \"atis_flight\"\n        ],\n        \"semantic_type\": \"\",\n        \"description\": \"\"\n      }\n    },\n    {\n      \"column\": \"query\",\n      \"properties\": {\n        \"dtype\": \"string\",\n        \"num_unique_values\": 4499,\n        \"samples\": [\n          \" i am looking to get one air fare from baltimore to san francisco on a 747 leaving august twenty seventh\",\n          \" what are the classes of service on lufthansa\",\n          \" what is the ground transportation from boston airport to boston downtown\"\n        ],\n        \"semantic_type\": \"\",\n        \"description\": \"\"\n      }\n    }\n  ]\n}",
              "type": "dataframe",
              "variable_name": "dataset"
            },
            "text/html": [
              "\n",
              "  <div id=\"df-a5f93927-2f0a-4be5-a045-b32cbaa32a2f\" class=\"colab-df-container\">\n",
              "    <div>\n",
              "<style scoped>\n",
              "    .dataframe tbody tr th:only-of-type {\n",
              "        vertical-align: middle;\n",
              "    }\n",
              "\n",
              "    .dataframe tbody tr th {\n",
              "        vertical-align: top;\n",
              "    }\n",
              "\n",
              "    .dataframe thead th {\n",
              "        text-align: right;\n",
              "    }\n",
              "</style>\n",
              "<table border=\"1\" class=\"dataframe\">\n",
              "  <thead>\n",
              "    <tr style=\"text-align: right;\">\n",
              "      <th></th>\n",
              "      <th>intent</th>\n",
              "      <th>query</th>\n",
              "    </tr>\n",
              "  </thead>\n",
              "  <tbody>\n",
              "    <tr>\n",
              "      <th>0</th>\n",
              "      <td>atis_flight</td>\n",
              "      <td>i want to fly from boston at 838 am and arriv...</td>\n",
              "    </tr>\n",
              "    <tr>\n",
              "      <th>1</th>\n",
              "      <td>atis_flight</td>\n",
              "      <td>what flights are available from pittsburgh to...</td>\n",
              "    </tr>\n",
              "    <tr>\n",
              "      <th>2</th>\n",
              "      <td>atis_flight_time</td>\n",
              "      <td>what is the arrival time in san francisco for...</td>\n",
              "    </tr>\n",
              "    <tr>\n",
              "      <th>3</th>\n",
              "      <td>atis_airfare</td>\n",
              "      <td>cheapest airfare from tacoma to orlando</td>\n",
              "    </tr>\n",
              "    <tr>\n",
              "      <th>4</th>\n",
              "      <td>atis_airfare</td>\n",
              "      <td>round trip fares from pittsburgh to philadelp...</td>\n",
              "    </tr>\n",
              "  </tbody>\n",
              "</table>\n",
              "</div>\n",
              "    <div class=\"colab-df-buttons\">\n",
              "\n",
              "  <div class=\"colab-df-container\">\n",
              "    <button class=\"colab-df-convert\" onclick=\"convertToInteractive('df-a5f93927-2f0a-4be5-a045-b32cbaa32a2f')\"\n",
              "            title=\"Convert this dataframe to an interactive table.\"\n",
              "            style=\"display:none;\">\n",
              "\n",
              "  <svg xmlns=\"http://www.w3.org/2000/svg\" height=\"24px\" viewBox=\"0 -960 960 960\">\n",
              "    <path d=\"M120-120v-720h720v720H120Zm60-500h600v-160H180v160Zm220 220h160v-160H400v160Zm0 220h160v-160H400v160ZM180-400h160v-160H180v160Zm440 0h160v-160H620v160ZM180-180h160v-160H180v160Zm440 0h160v-160H620v160Z\"/>\n",
              "  </svg>\n",
              "    </button>\n",
              "\n",
              "  <style>\n",
              "    .colab-df-container {\n",
              "      display:flex;\n",
              "      gap: 12px;\n",
              "    }\n",
              "\n",
              "    .colab-df-convert {\n",
              "      background-color: #E8F0FE;\n",
              "      border: none;\n",
              "      border-radius: 50%;\n",
              "      cursor: pointer;\n",
              "      display: none;\n",
              "      fill: #1967D2;\n",
              "      height: 32px;\n",
              "      padding: 0 0 0 0;\n",
              "      width: 32px;\n",
              "    }\n",
              "\n",
              "    .colab-df-convert:hover {\n",
              "      background-color: #E2EBFA;\n",
              "      box-shadow: 0px 1px 2px rgba(60, 64, 67, 0.3), 0px 1px 3px 1px rgba(60, 64, 67, 0.15);\n",
              "      fill: #174EA6;\n",
              "    }\n",
              "\n",
              "    .colab-df-buttons div {\n",
              "      margin-bottom: 4px;\n",
              "    }\n",
              "\n",
              "    [theme=dark] .colab-df-convert {\n",
              "      background-color: #3B4455;\n",
              "      fill: #D2E3FC;\n",
              "    }\n",
              "\n",
              "    [theme=dark] .colab-df-convert:hover {\n",
              "      background-color: #434B5C;\n",
              "      box-shadow: 0px 1px 3px 1px rgba(0, 0, 0, 0.15);\n",
              "      filter: drop-shadow(0px 1px 2px rgba(0, 0, 0, 0.3));\n",
              "      fill: #FFFFFF;\n",
              "    }\n",
              "  </style>\n",
              "\n",
              "    <script>\n",
              "      const buttonEl =\n",
              "        document.querySelector('#df-a5f93927-2f0a-4be5-a045-b32cbaa32a2f button.colab-df-convert');\n",
              "      buttonEl.style.display =\n",
              "        google.colab.kernel.accessAllowed ? 'block' : 'none';\n",
              "\n",
              "      async function convertToInteractive(key) {\n",
              "        const element = document.querySelector('#df-a5f93927-2f0a-4be5-a045-b32cbaa32a2f');\n",
              "        const dataTable =\n",
              "          await google.colab.kernel.invokeFunction('convertToInteractive',\n",
              "                                                    [key], {});\n",
              "        if (!dataTable) return;\n",
              "\n",
              "        const docLinkHtml = 'Like what you see? Visit the ' +\n",
              "          '<a target=\"_blank\" href=https://colab.research.google.com/notebooks/data_table.ipynb>data table notebook</a>'\n",
              "          + ' to learn more about interactive tables.';\n",
              "        element.innerHTML = '';\n",
              "        dataTable['output_type'] = 'display_data';\n",
              "        await google.colab.output.renderOutput(dataTable, element);\n",
              "        const docLink = document.createElement('div');\n",
              "        docLink.innerHTML = docLinkHtml;\n",
              "        element.appendChild(docLink);\n",
              "      }\n",
              "    </script>\n",
              "  </div>\n",
              "\n",
              "\n",
              "<div id=\"df-4d44dc92-41d6-444d-b514-0d95c1bab99d\">\n",
              "  <button class=\"colab-df-quickchart\" onclick=\"quickchart('df-4d44dc92-41d6-444d-b514-0d95c1bab99d')\"\n",
              "            title=\"Suggest charts\"\n",
              "            style=\"display:none;\">\n",
              "\n",
              "<svg xmlns=\"http://www.w3.org/2000/svg\" height=\"24px\"viewBox=\"0 0 24 24\"\n",
              "     width=\"24px\">\n",
              "    <g>\n",
              "        <path d=\"M19 3H5c-1.1 0-2 .9-2 2v14c0 1.1.9 2 2 2h14c1.1 0 2-.9 2-2V5c0-1.1-.9-2-2-2zM9 17H7v-7h2v7zm4 0h-2V7h2v10zm4 0h-2v-4h2v4z\"/>\n",
              "    </g>\n",
              "</svg>\n",
              "  </button>\n",
              "\n",
              "<style>\n",
              "  .colab-df-quickchart {\n",
              "      --bg-color: #E8F0FE;\n",
              "      --fill-color: #1967D2;\n",
              "      --hover-bg-color: #E2EBFA;\n",
              "      --hover-fill-color: #174EA6;\n",
              "      --disabled-fill-color: #AAA;\n",
              "      --disabled-bg-color: #DDD;\n",
              "  }\n",
              "\n",
              "  [theme=dark] .colab-df-quickchart {\n",
              "      --bg-color: #3B4455;\n",
              "      --fill-color: #D2E3FC;\n",
              "      --hover-bg-color: #434B5C;\n",
              "      --hover-fill-color: #FFFFFF;\n",
              "      --disabled-bg-color: #3B4455;\n",
              "      --disabled-fill-color: #666;\n",
              "  }\n",
              "\n",
              "  .colab-df-quickchart {\n",
              "    background-color: var(--bg-color);\n",
              "    border: none;\n",
              "    border-radius: 50%;\n",
              "    cursor: pointer;\n",
              "    display: none;\n",
              "    fill: var(--fill-color);\n",
              "    height: 32px;\n",
              "    padding: 0;\n",
              "    width: 32px;\n",
              "  }\n",
              "\n",
              "  .colab-df-quickchart:hover {\n",
              "    background-color: var(--hover-bg-color);\n",
              "    box-shadow: 0 1px 2px rgba(60, 64, 67, 0.3), 0 1px 3px 1px rgba(60, 64, 67, 0.15);\n",
              "    fill: var(--button-hover-fill-color);\n",
              "  }\n",
              "\n",
              "  .colab-df-quickchart-complete:disabled,\n",
              "  .colab-df-quickchart-complete:disabled:hover {\n",
              "    background-color: var(--disabled-bg-color);\n",
              "    fill: var(--disabled-fill-color);\n",
              "    box-shadow: none;\n",
              "  }\n",
              "\n",
              "  .colab-df-spinner {\n",
              "    border: 2px solid var(--fill-color);\n",
              "    border-color: transparent;\n",
              "    border-bottom-color: var(--fill-color);\n",
              "    animation:\n",
              "      spin 1s steps(1) infinite;\n",
              "  }\n",
              "\n",
              "  @keyframes spin {\n",
              "    0% {\n",
              "      border-color: transparent;\n",
              "      border-bottom-color: var(--fill-color);\n",
              "      border-left-color: var(--fill-color);\n",
              "    }\n",
              "    20% {\n",
              "      border-color: transparent;\n",
              "      border-left-color: var(--fill-color);\n",
              "      border-top-color: var(--fill-color);\n",
              "    }\n",
              "    30% {\n",
              "      border-color: transparent;\n",
              "      border-left-color: var(--fill-color);\n",
              "      border-top-color: var(--fill-color);\n",
              "      border-right-color: var(--fill-color);\n",
              "    }\n",
              "    40% {\n",
              "      border-color: transparent;\n",
              "      border-right-color: var(--fill-color);\n",
              "      border-top-color: var(--fill-color);\n",
              "    }\n",
              "    60% {\n",
              "      border-color: transparent;\n",
              "      border-right-color: var(--fill-color);\n",
              "    }\n",
              "    80% {\n",
              "      border-color: transparent;\n",
              "      border-right-color: var(--fill-color);\n",
              "      border-bottom-color: var(--fill-color);\n",
              "    }\n",
              "    90% {\n",
              "      border-color: transparent;\n",
              "      border-bottom-color: var(--fill-color);\n",
              "    }\n",
              "  }\n",
              "</style>\n",
              "\n",
              "  <script>\n",
              "    async function quickchart(key) {\n",
              "      const quickchartButtonEl =\n",
              "        document.querySelector('#' + key + ' button');\n",
              "      quickchartButtonEl.disabled = true;  // To prevent multiple clicks.\n",
              "      quickchartButtonEl.classList.add('colab-df-spinner');\n",
              "      try {\n",
              "        const charts = await google.colab.kernel.invokeFunction(\n",
              "            'suggestCharts', [key], {});\n",
              "      } catch (error) {\n",
              "        console.error('Error during call to suggestCharts:', error);\n",
              "      }\n",
              "      quickchartButtonEl.classList.remove('colab-df-spinner');\n",
              "      quickchartButtonEl.classList.add('colab-df-quickchart-complete');\n",
              "    }\n",
              "    (() => {\n",
              "      let quickchartButtonEl =\n",
              "        document.querySelector('#df-4d44dc92-41d6-444d-b514-0d95c1bab99d button');\n",
              "      quickchartButtonEl.style.display =\n",
              "        google.colab.kernel.accessAllowed ? 'block' : 'none';\n",
              "    })();\n",
              "  </script>\n",
              "</div>\n",
              "\n",
              "    </div>\n",
              "  </div>\n"
            ],
            "text/plain": [
              "             intent                                              query\n",
              "0       atis_flight   i want to fly from boston at 838 am and arriv...\n",
              "1       atis_flight   what flights are available from pittsburgh to...\n",
              "2  atis_flight_time   what is the arrival time in san francisco for...\n",
              "3      atis_airfare            cheapest airfare from tacoma to orlando\n",
              "4      atis_airfare   round trip fares from pittsburgh to philadelp..."
            ]
          },
          "execution_count": 7,
          "metadata": {},
          "output_type": "execute_result"
        }
      ],
      "source": [
        "dataset.head()"
      ]
    },
    {
      "cell_type": "code",
      "execution_count": 8,
      "metadata": {
        "id": "ZNb0YaJIOfVI"
      },
      "outputs": [],
      "source": [
        "#take a small sample for illustration purposes\n",
        "sampled_row_data = ['atis_airfare', 'atis_airline', 'atis_ground_service']\n",
        "#take a fraction from the whole dataset\n",
        "df = dataset.sample(frac = 0.1, random_state=30)\n",
        "#check if the intent column of the taken fraction of the whole dataset is present in the sampled_row_data\n",
        "df = df[df['intent'].isin(sampled_row_data)]\n",
        "#remove rows present in both dataset and df\n",
        "dataset = dataset.drop(df.index)\n",
        "df.reset_index(drop=True, inplace=True)"
      ]
    },
    {
      "cell_type": "code",
      "execution_count": 9,
      "metadata": {
        "id": "crMwm2QPOjis"
      },
      "outputs": [],
      "source": [
        "# Remove unnecessary column\n",
        "intent = df.intent #save for a later need\n",
        "df.drop('intent', axis = 1, inplace = True)"
      ]
    },
    {
      "cell_type": "code",
      "execution_count": 10,
      "metadata": {
        "colab": {
          "base_uri": "https://localhost:8080/",
          "height": 206
        },
        "id": "nP8X9itmOo7C",
        "outputId": "179d29bc-c5c8-46d5-ddaa-496cd4b34e4a"
      },
      "outputs": [
        {
          "data": {
            "application/vnd.google.colaboratory.intrinsic+json": {
              "summary": "{\n  \"name\": \"df\",\n  \"rows\": 91,\n  \"fields\": [\n    {\n      \"column\": \"query\",\n      \"properties\": {\n        \"dtype\": \"string\",\n        \"num_unique_values\": 90,\n        \"samples\": [\n          \" show me a list of ground transportation at denver\",\n          \" what is the first class fare for a round trip dallas to denver\",\n          \" what are the coach class fares on flights from pittsburgh to atlanta\"\n        ],\n        \"semantic_type\": \"\",\n        \"description\": \"\"\n      }\n    }\n  ]\n}",
              "type": "dataframe",
              "variable_name": "df"
            },
            "text/html": [
              "\n",
              "  <div id=\"df-a816c0fb-4cf1-4a54-9b6a-03e88ca51e80\" class=\"colab-df-container\">\n",
              "    <div>\n",
              "<style scoped>\n",
              "    .dataframe tbody tr th:only-of-type {\n",
              "        vertical-align: middle;\n",
              "    }\n",
              "\n",
              "    .dataframe tbody tr th {\n",
              "        vertical-align: top;\n",
              "    }\n",
              "\n",
              "    .dataframe thead th {\n",
              "        text-align: right;\n",
              "    }\n",
              "</style>\n",
              "<table border=\"1\" class=\"dataframe\">\n",
              "  <thead>\n",
              "    <tr style=\"text-align: right;\">\n",
              "      <th></th>\n",
              "      <th>query</th>\n",
              "    </tr>\n",
              "  </thead>\n",
              "  <tbody>\n",
              "    <tr>\n",
              "      <th>0</th>\n",
              "      <td>which airlines fly from boston to washington ...</td>\n",
              "    </tr>\n",
              "    <tr>\n",
              "      <th>1</th>\n",
              "      <td>show me the airlines that fly between toronto...</td>\n",
              "    </tr>\n",
              "    <tr>\n",
              "      <th>2</th>\n",
              "      <td>show me round trip first class tickets from n...</td>\n",
              "    </tr>\n",
              "    <tr>\n",
              "      <th>3</th>\n",
              "      <td>i'd like the lowest fare from denver to pitts...</td>\n",
              "    </tr>\n",
              "    <tr>\n",
              "      <th>4</th>\n",
              "      <td>show me a list of ground transportation at bo...</td>\n",
              "    </tr>\n",
              "  </tbody>\n",
              "</table>\n",
              "</div>\n",
              "    <div class=\"colab-df-buttons\">\n",
              "\n",
              "  <div class=\"colab-df-container\">\n",
              "    <button class=\"colab-df-convert\" onclick=\"convertToInteractive('df-a816c0fb-4cf1-4a54-9b6a-03e88ca51e80')\"\n",
              "            title=\"Convert this dataframe to an interactive table.\"\n",
              "            style=\"display:none;\">\n",
              "\n",
              "  <svg xmlns=\"http://www.w3.org/2000/svg\" height=\"24px\" viewBox=\"0 -960 960 960\">\n",
              "    <path d=\"M120-120v-720h720v720H120Zm60-500h600v-160H180v160Zm220 220h160v-160H400v160Zm0 220h160v-160H400v160ZM180-400h160v-160H180v160Zm440 0h160v-160H620v160ZM180-180h160v-160H180v160Zm440 0h160v-160H620v160Z\"/>\n",
              "  </svg>\n",
              "    </button>\n",
              "\n",
              "  <style>\n",
              "    .colab-df-container {\n",
              "      display:flex;\n",
              "      gap: 12px;\n",
              "    }\n",
              "\n",
              "    .colab-df-convert {\n",
              "      background-color: #E8F0FE;\n",
              "      border: none;\n",
              "      border-radius: 50%;\n",
              "      cursor: pointer;\n",
              "      display: none;\n",
              "      fill: #1967D2;\n",
              "      height: 32px;\n",
              "      padding: 0 0 0 0;\n",
              "      width: 32px;\n",
              "    }\n",
              "\n",
              "    .colab-df-convert:hover {\n",
              "      background-color: #E2EBFA;\n",
              "      box-shadow: 0px 1px 2px rgba(60, 64, 67, 0.3), 0px 1px 3px 1px rgba(60, 64, 67, 0.15);\n",
              "      fill: #174EA6;\n",
              "    }\n",
              "\n",
              "    .colab-df-buttons div {\n",
              "      margin-bottom: 4px;\n",
              "    }\n",
              "\n",
              "    [theme=dark] .colab-df-convert {\n",
              "      background-color: #3B4455;\n",
              "      fill: #D2E3FC;\n",
              "    }\n",
              "\n",
              "    [theme=dark] .colab-df-convert:hover {\n",
              "      background-color: #434B5C;\n",
              "      box-shadow: 0px 1px 3px 1px rgba(0, 0, 0, 0.15);\n",
              "      filter: drop-shadow(0px 1px 2px rgba(0, 0, 0, 0.3));\n",
              "      fill: #FFFFFF;\n",
              "    }\n",
              "  </style>\n",
              "\n",
              "    <script>\n",
              "      const buttonEl =\n",
              "        document.querySelector('#df-a816c0fb-4cf1-4a54-9b6a-03e88ca51e80 button.colab-df-convert');\n",
              "      buttonEl.style.display =\n",
              "        google.colab.kernel.accessAllowed ? 'block' : 'none';\n",
              "\n",
              "      async function convertToInteractive(key) {\n",
              "        const element = document.querySelector('#df-a816c0fb-4cf1-4a54-9b6a-03e88ca51e80');\n",
              "        const dataTable =\n",
              "          await google.colab.kernel.invokeFunction('convertToInteractive',\n",
              "                                                    [key], {});\n",
              "        if (!dataTable) return;\n",
              "\n",
              "        const docLinkHtml = 'Like what you see? Visit the ' +\n",
              "          '<a target=\"_blank\" href=https://colab.research.google.com/notebooks/data_table.ipynb>data table notebook</a>'\n",
              "          + ' to learn more about interactive tables.';\n",
              "        element.innerHTML = '';\n",
              "        dataTable['output_type'] = 'display_data';\n",
              "        await google.colab.output.renderOutput(dataTable, element);\n",
              "        const docLink = document.createElement('div');\n",
              "        docLink.innerHTML = docLinkHtml;\n",
              "        element.appendChild(docLink);\n",
              "      }\n",
              "    </script>\n",
              "  </div>\n",
              "\n",
              "\n",
              "<div id=\"df-edff4e79-f6dc-4218-bcf9-8f7a63cbba34\">\n",
              "  <button class=\"colab-df-quickchart\" onclick=\"quickchart('df-edff4e79-f6dc-4218-bcf9-8f7a63cbba34')\"\n",
              "            title=\"Suggest charts\"\n",
              "            style=\"display:none;\">\n",
              "\n",
              "<svg xmlns=\"http://www.w3.org/2000/svg\" height=\"24px\"viewBox=\"0 0 24 24\"\n",
              "     width=\"24px\">\n",
              "    <g>\n",
              "        <path d=\"M19 3H5c-1.1 0-2 .9-2 2v14c0 1.1.9 2 2 2h14c1.1 0 2-.9 2-2V5c0-1.1-.9-2-2-2zM9 17H7v-7h2v7zm4 0h-2V7h2v10zm4 0h-2v-4h2v4z\"/>\n",
              "    </g>\n",
              "</svg>\n",
              "  </button>\n",
              "\n",
              "<style>\n",
              "  .colab-df-quickchart {\n",
              "      --bg-color: #E8F0FE;\n",
              "      --fill-color: #1967D2;\n",
              "      --hover-bg-color: #E2EBFA;\n",
              "      --hover-fill-color: #174EA6;\n",
              "      --disabled-fill-color: #AAA;\n",
              "      --disabled-bg-color: #DDD;\n",
              "  }\n",
              "\n",
              "  [theme=dark] .colab-df-quickchart {\n",
              "      --bg-color: #3B4455;\n",
              "      --fill-color: #D2E3FC;\n",
              "      --hover-bg-color: #434B5C;\n",
              "      --hover-fill-color: #FFFFFF;\n",
              "      --disabled-bg-color: #3B4455;\n",
              "      --disabled-fill-color: #666;\n",
              "  }\n",
              "\n",
              "  .colab-df-quickchart {\n",
              "    background-color: var(--bg-color);\n",
              "    border: none;\n",
              "    border-radius: 50%;\n",
              "    cursor: pointer;\n",
              "    display: none;\n",
              "    fill: var(--fill-color);\n",
              "    height: 32px;\n",
              "    padding: 0;\n",
              "    width: 32px;\n",
              "  }\n",
              "\n",
              "  .colab-df-quickchart:hover {\n",
              "    background-color: var(--hover-bg-color);\n",
              "    box-shadow: 0 1px 2px rgba(60, 64, 67, 0.3), 0 1px 3px 1px rgba(60, 64, 67, 0.15);\n",
              "    fill: var(--button-hover-fill-color);\n",
              "  }\n",
              "\n",
              "  .colab-df-quickchart-complete:disabled,\n",
              "  .colab-df-quickchart-complete:disabled:hover {\n",
              "    background-color: var(--disabled-bg-color);\n",
              "    fill: var(--disabled-fill-color);\n",
              "    box-shadow: none;\n",
              "  }\n",
              "\n",
              "  .colab-df-spinner {\n",
              "    border: 2px solid var(--fill-color);\n",
              "    border-color: transparent;\n",
              "    border-bottom-color: var(--fill-color);\n",
              "    animation:\n",
              "      spin 1s steps(1) infinite;\n",
              "  }\n",
              "\n",
              "  @keyframes spin {\n",
              "    0% {\n",
              "      border-color: transparent;\n",
              "      border-bottom-color: var(--fill-color);\n",
              "      border-left-color: var(--fill-color);\n",
              "    }\n",
              "    20% {\n",
              "      border-color: transparent;\n",
              "      border-left-color: var(--fill-color);\n",
              "      border-top-color: var(--fill-color);\n",
              "    }\n",
              "    30% {\n",
              "      border-color: transparent;\n",
              "      border-left-color: var(--fill-color);\n",
              "      border-top-color: var(--fill-color);\n",
              "      border-right-color: var(--fill-color);\n",
              "    }\n",
              "    40% {\n",
              "      border-color: transparent;\n",
              "      border-right-color: var(--fill-color);\n",
              "      border-top-color: var(--fill-color);\n",
              "    }\n",
              "    60% {\n",
              "      border-color: transparent;\n",
              "      border-right-color: var(--fill-color);\n",
              "    }\n",
              "    80% {\n",
              "      border-color: transparent;\n",
              "      border-right-color: var(--fill-color);\n",
              "      border-bottom-color: var(--fill-color);\n",
              "    }\n",
              "    90% {\n",
              "      border-color: transparent;\n",
              "      border-bottom-color: var(--fill-color);\n",
              "    }\n",
              "  }\n",
              "</style>\n",
              "\n",
              "  <script>\n",
              "    async function quickchart(key) {\n",
              "      const quickchartButtonEl =\n",
              "        document.querySelector('#' + key + ' button');\n",
              "      quickchartButtonEl.disabled = true;  // To prevent multiple clicks.\n",
              "      quickchartButtonEl.classList.add('colab-df-spinner');\n",
              "      try {\n",
              "        const charts = await google.colab.kernel.invokeFunction(\n",
              "            'suggestCharts', [key], {});\n",
              "      } catch (error) {\n",
              "        console.error('Error during call to suggestCharts:', error);\n",
              "      }\n",
              "      quickchartButtonEl.classList.remove('colab-df-spinner');\n",
              "      quickchartButtonEl.classList.add('colab-df-quickchart-complete');\n",
              "    }\n",
              "    (() => {\n",
              "      let quickchartButtonEl =\n",
              "        document.querySelector('#df-edff4e79-f6dc-4218-bcf9-8f7a63cbba34 button');\n",
              "      quickchartButtonEl.style.display =\n",
              "        google.colab.kernel.accessAllowed ? 'block' : 'none';\n",
              "    })();\n",
              "  </script>\n",
              "</div>\n",
              "\n",
              "    </div>\n",
              "  </div>\n"
            ],
            "text/plain": [
              "                                               query\n",
              "0   which airlines fly from boston to washington ...\n",
              "1   show me the airlines that fly between toronto...\n",
              "2   show me round trip first class tickets from n...\n",
              "3   i'd like the lowest fare from denver to pitts...\n",
              "4   show me a list of ground transportation at bo..."
            ]
          },
          "execution_count": 10,
          "metadata": {},
          "output_type": "execute_result"
        }
      ],
      "source": [
        "df.head()"
      ]
    },
    {
      "cell_type": "code",
      "execution_count": 63,
      "metadata": {
        "colab": {
          "base_uri": "https://localhost:8080/"
        },
        "id": "GIWa0O5RlQFp",
        "outputId": "3be5d1b0-3350-40c8-9a5d-27326b3e02e7"
      },
      "outputs": [
        {
          "name": "stdout",
          "output_type": "stream",
          "text": [
            " which airlines fly from boston to washington dc via other cities\n",
            " show me the airlines that fly between toronto and denver\n",
            " show me round trip first class tickets from new york to miami\n",
            " i'd like the lowest fare from denver to pittsburgh\n",
            " show me a list of ground transportation at boston airport\n",
            " show me boston ground transportation\n",
            " of all airlines which airline has the most arrivals in atlanta\n",
            " what ground transportation is available in boston\n",
            " i would like your rates between atlanta and boston on september third\n",
            " which airlines fly between boston and pittsburgh\n"
          ]
        }
      ],
      "source": [
        "for i in df.head(10)[\"query\"]:\n",
        "    print(i)"
      ]
    },
    {
      "cell_type": "markdown",
      "metadata": {
        "id": "OCXGe_mjO6Pg"
      },
      "source": [
        "# Embeddings"
      ]
    },
    {
      "cell_type": "code",
      "execution_count": 31,
      "metadata": {
        "id": "OK2CjWz1MJmA"
      },
      "outputs": [],
      "source": [
        "def get_embeddings(texts, model = 'embed-english-v3.0', input_type = 'search_document'):\n",
        "  response = co.embed(\n",
        "      texts = texts,\n",
        "      model = model,\n",
        "      input_type = input_type,\n",
        "\n",
        "  )\n",
        "  return response.embeddings"
      ]
    },
    {
      "cell_type": "code",
      "execution_count": 32,
      "metadata": {
        "id": "LXjv8RnyN-J-"
      },
      "outputs": [],
      "source": [
        "df[\"query_embed\"] = get_embeddings(df['query'].tolist())"
      ]
    },
    {
      "cell_type": "code",
      "execution_count": 49,
      "metadata": {
        "id": "QOYNcHC_dBBn"
      },
      "outputs": [],
      "source": [
        "# Function to return the principal components\n",
        "def get_pc(arr, n):\n",
        "    pca = PCA(n_components=n)\n",
        "    embeds_transform = pca.fit_transform(arr)\n",
        "    return embeds_transform"
      ]
    },
    {
      "cell_type": "code",
      "execution_count": 52,
      "metadata": {
        "id": "F-ns1mkbeSjQ"
      },
      "outputs": [],
      "source": [
        "# Function to generate the 2D plot\n",
        "def generate_chart(df,xcol,ycol,lbl='on',color='basic',title=''):\n",
        "    chart = alt.Chart(df).mark_circle(size=500).encode(\n",
        "        x=\n",
        "        alt.X(xcol,\n",
        "              scale=alt.Scale(zero=False),\n",
        "              axis=alt.Axis(labels=False, ticks=False, domain=False)\n",
        "             ),\n",
        "        y=\n",
        "        alt.Y(ycol,\n",
        "              scale=alt.Scale(zero=False),\n",
        "              axis=alt.Axis(labels=False, ticks=False, domain=False)\n",
        "             ),\n",
        "        color= alt.value('#333293') if color == 'basic' else color,\n",
        "        tooltip=['query']\n",
        "    )\n",
        "\n",
        "    if lbl == 'on':\n",
        "        text = chart.mark_text(align='left', baseline='middle',dx=15, size=13,color='black').encode(text='query', color= alt.value('black'))\n",
        "    else:\n",
        "        text = chart.mark_text(align='left', baseline='middle',dx=10).encode()\n",
        "\n",
        "    result = (chart + text).configure(background=\"#FDF7F0\").properties(\n",
        "        width=800,\n",
        "        height=500,\n",
        "        title=title\n",
        "    ).configure_legend(orient='bottom', titleFontSize=18,labelFontSize=18)\n",
        "\n",
        "    return result"
      ]
    },
    {
      "cell_type": "code",
      "execution_count": 56,
      "metadata": {
        "id": "LUtVoQuqY7xQ"
      },
      "outputs": [],
      "source": [
        "embed = np.array(df['query_embed'].tolist())\n",
        "sample = 9"
      ]
    },
    {
      "cell_type": "markdown",
      "metadata": {
        "id": "oyYOy7ggPDvD"
      },
      "source": [
        "# Step 2: Embed the Search Query\n",
        "\n",
        "Next, we embed the query using the same get_embeddings() function. But now we set search_query as the input_type because we're now embedding the search query."
      ]
    },
    {
      "cell_type": "code",
      "execution_count": 57,
      "metadata": {
        "id": "QlVu0CnOOKJ0"
      },
      "outputs": [],
      "source": [
        "#Define a querey\n",
        "query = \"How can I find a taxi or a bus when the plan lands?\"\n",
        "\n",
        "#get embedddings of first of the new query\n",
        "query_embeds = get_embeddings([query], input_type=\"search_query\")[0]"
      ]
    },
    {
      "cell_type": "markdown",
      "metadata": {
        "id": "g0XGMQf8SvEo"
      },
      "source": [
        "# Step 3: Perform Search\n",
        "\n",
        "Next, we create a function get_similarity() that uses cosine similarity to determine how similar each of the documents is to the query."
      ]
    },
    {
      "cell_type": "code",
      "execution_count": 58,
      "metadata": {
        "id": "bIruyPQ1P7Xx"
      },
      "outputs": [],
      "source": [
        "#calculate the similaries between the search embeddings and the given queries\n",
        "def get_similarity(query_embed, document_embed):\n",
        "  #ensure that both embed are in two dimensional array\n",
        "  document_embed = np.array(document_embed)\n",
        "  query_embed = np.expand_dims(np.array(query_embed), axis=0)\n",
        "\n",
        "  #calculate cosine similarities\n",
        "  sim = cosine_similarity(query_embed, document_embed)\n",
        "\n",
        "  #remove any extra dimension added then convert to list\n",
        "  sim = np.squeeze(sim).tolist()\n",
        "  # use argsort to get the index of similar document to the query but it should be returned in descending order\n",
        "  sort_index = np.argsort(sim)[::-1]\n",
        "  #use the sorted index (which is in descending order) to the the similarity score using the cosine similarity list defined above and return the list of scores\n",
        "  sort_score = [sim[i] for i in sort_index]\n",
        "  #similarities scores and indices\n",
        "  similarity_scores = zip(sort_index, sort_score)\n",
        "\n",
        "  #return similarity score\n",
        "  return similarity_scores\n",
        "\n"
      ]
    },
    {
      "cell_type": "code",
      "execution_count": 59,
      "metadata": {
        "id": "NjAoPYMTYAcg"
      },
      "outputs": [],
      "source": [
        "# Get the similarity between the search query and existing queries\n",
        "similarity = get_similarity(query_embeds, embed[:sample])"
      ]
    },
    {
      "cell_type": "markdown",
      "metadata": {
        "id": "ytdKTfqhaQ5E"
      },
      "source": [
        "# View top 5 Articles"
      ]
    },
    {
      "cell_type": "code",
      "execution_count": 60,
      "metadata": {
        "colab": {
          "base_uri": "https://localhost:8080/"
        },
        "id": "4gu9Dyr3ZwUW",
        "outputId": "33a0e21d-0039-436b-9eac-4a76b2f0d617"
      },
      "outputs": [
        {
          "name": "stdout",
          "output_type": "stream",
          "text": [
            "Query:\n",
            "How can I find a taxi or a bus when the plan lands? \n",
            "\n",
            "Most similar documents:\n",
            "Similarity: 0.38  what ground transportation is available in boston\n",
            "Similarity: 0.34  show me a list of ground transportation at boston airport\n",
            "Similarity: 0.32  show me boston ground transportation\n",
            "Similarity: 0.23  which airlines fly from boston to washington dc via other cities\n",
            "Similarity: 0.21  show me the airlines that fly between toronto and denver\n",
            "Similarity: 0.20  i would like your rates between atlanta and boston on september third\n",
            "Similarity: 0.19  of all airlines which airline has the most arrivals in atlanta\n",
            "Similarity: 0.19  i'd like the lowest fare from denver to pittsburgh\n",
            "Similarity: 0.18  show me round trip first class tickets from new york to miami\n"
          ]
        }
      ],
      "source": [
        "print(\"Query:\")\n",
        "print(query, \"\\n\")\n",
        "\n",
        "print(\"Most similar documents:\")\n",
        "for idx, score in similarity:\n",
        "  print(f\"Similarity: {score:.2f}\", df.iloc[idx]['query'])"
      ]
    },
    {
      "cell_type": "markdown",
      "metadata": {
        "id": "ldHOHHF_cVSu"
      },
      "source": [
        "# Step 4: Visualize the Results in a 2D Plot\n",
        "To prepare for plotting, we use PCA to reduce the query embedding to 2 dimensions with the get_pc() function we defined earlier."
      ]
    },
    {
      "cell_type": "code",
      "execution_count": 61,
      "metadata": {
        "id": "-uiSUdJSbgF0"
      },
      "outputs": [],
      "source": [
        "# Create new dataframe and append new query\n",
        "df_sem = df.copy()\n",
        "df_sem.loc[len(df_sem.index)] = [query, query_embeds]\n",
        "\n",
        "# Reduce embeddings dimension to 2\n",
        "embeds_sem = np.array(df_sem['query_embed'].tolist())\n",
        "embeds_sem_pc2 = get_pc(embeds_sem, 2)\n",
        "\n",
        "# Add the principal components to dataframe\n",
        "df_sem_pc2 = pd.concat([df_sem, pd.DataFrame(embeds_sem_pc2)], axis=1)"
      ]
    },
    {
      "cell_type": "code",
      "execution_count": 62,
      "metadata": {
        "colab": {
          "base_uri": "https://localhost:8080/",
          "height": 747
        },
        "id": "B0wVbj1wdWQo",
        "outputId": "ae227026-1fe4-420f-90b2-2a036624e5e1"
      },
      "outputs": [
        {
          "name": "stderr",
          "output_type": "stream",
          "text": [
            "/usr/local/lib/python3.10/dist-packages/altair/utils/core.py:384: FutureWarning: the convert_dtype parameter is deprecated and will be removed in a future version.  Do ``ser.astype(object).apply()`` instead if you want ``convert_dtype=False``.\n",
            "  col = df[col_name].apply(to_list_if_array, convert_dtype=False)\n",
            "/usr/local/lib/python3.10/dist-packages/altair/utils/core.py:384: FutureWarning: the convert_dtype parameter is deprecated and will be removed in a future version.  Do ``ser.astype(object).apply()`` instead if you want ``convert_dtype=False``.\n",
            "  col = df[col_name].apply(to_list_if_array, convert_dtype=False)\n",
            "/usr/local/lib/python3.10/dist-packages/altair/utils/core.py:384: FutureWarning: the convert_dtype parameter is deprecated and will be removed in a future version.  Do ``ser.astype(object).apply()`` instead if you want ``convert_dtype=False``.\n",
            "  col = df[col_name].apply(to_list_if_array, convert_dtype=False)\n"
          ]
        },
        {
          "data": {
            "text/html": [
              "\n",
              "<div id=\"altair-viz-efe42e6a37d2490a8746d3ee9d337633\"></div>\n",
              "<script type=\"text/javascript\">\n",
              "  var VEGA_DEBUG = (typeof VEGA_DEBUG == \"undefined\") ? {} : VEGA_DEBUG;\n",
              "  (function(spec, embedOpt){\n",
              "    let outputDiv = document.currentScript.previousElementSibling;\n",
              "    if (outputDiv.id !== \"altair-viz-efe42e6a37d2490a8746d3ee9d337633\") {\n",
              "      outputDiv = document.getElementById(\"altair-viz-efe42e6a37d2490a8746d3ee9d337633\");\n",
              "    }\n",
              "    const paths = {\n",
              "      \"vega\": \"https://cdn.jsdelivr.net/npm//vega@5?noext\",\n",
              "      \"vega-lib\": \"https://cdn.jsdelivr.net/npm//vega-lib?noext\",\n",
              "      \"vega-lite\": \"https://cdn.jsdelivr.net/npm//vega-lite@4.17.0?noext\",\n",
              "      \"vega-embed\": \"https://cdn.jsdelivr.net/npm//vega-embed@6?noext\",\n",
              "    };\n",
              "\n",
              "    function maybeLoadScript(lib, version) {\n",
              "      var key = `${lib.replace(\"-\", \"\")}_version`;\n",
              "      return (VEGA_DEBUG[key] == version) ?\n",
              "        Promise.resolve(paths[lib]) :\n",
              "        new Promise(function(resolve, reject) {\n",
              "          var s = document.createElement('script');\n",
              "          document.getElementsByTagName(\"head\")[0].appendChild(s);\n",
              "          s.async = true;\n",
              "          s.onload = () => {\n",
              "            VEGA_DEBUG[key] = version;\n",
              "            return resolve(paths[lib]);\n",
              "          };\n",
              "          s.onerror = () => reject(`Error loading script: ${paths[lib]}`);\n",
              "          s.src = paths[lib];\n",
              "        });\n",
              "    }\n",
              "\n",
              "    function showError(err) {\n",
              "      outputDiv.innerHTML = `<div class=\"error\" style=\"color:red;\">${err}</div>`;\n",
              "      throw err;\n",
              "    }\n",
              "\n",
              "    function displayChart(vegaEmbed) {\n",
              "      vegaEmbed(outputDiv, spec, embedOpt)\n",
              "        .catch(err => showError(`Javascript Error: ${err.message}<br>This usually means there's a typo in your chart specification. See the javascript console for the full traceback.`));\n",
              "    }\n",
              "\n",
              "    if(typeof define === \"function\" && define.amd) {\n",
              "      requirejs.config({paths});\n",
              "      require([\"vega-embed\"], displayChart, err => showError(`Error loading script: ${err.message}`));\n",
              "    } else {\n",
              "      maybeLoadScript(\"vega\", \"5\")\n",
              "        .then(() => maybeLoadScript(\"vega-lite\", \"4.17.0\"))\n",
              "        .then(() => maybeLoadScript(\"vega-embed\", \"6\"))\n",
              "        .catch(showError)\n",
              "        .then(() => displayChart(vegaEmbed));\n",
              "    }\n",
              "  })({\"config\": {\"view\": {\"continuousWidth\": 400, \"continuousHeight\": 300}, \"background\": \"#FDF7F0\", \"legend\": {\"labelFontSize\": 18, \"orient\": \"bottom\", \"titleFontSize\": 18}}, \"layer\": [{\"mark\": {\"type\": \"circle\", \"size\": 500}, \"encoding\": {\"color\": {\"field\": \"Source\", \"type\": \"nominal\"}, \"tooltip\": [{\"field\": \"query\", \"type\": \"nominal\"}], \"x\": {\"axis\": {\"domain\": false, \"labels\": false, \"ticks\": false}, \"field\": \"0\", \"scale\": {\"zero\": false}, \"type\": \"quantitative\"}, \"y\": {\"axis\": {\"domain\": false, \"labels\": false, \"ticks\": false}, \"field\": \"1\", \"scale\": {\"zero\": false}, \"type\": \"quantitative\"}}}, {\"mark\": {\"type\": \"text\", \"align\": \"left\", \"baseline\": \"middle\", \"color\": \"black\", \"dx\": 15, \"size\": 13}, \"encoding\": {\"color\": {\"value\": \"black\"}, \"text\": {\"field\": \"query\", \"type\": \"nominal\"}, \"tooltip\": [{\"field\": \"query\", \"type\": \"nominal\"}], \"x\": {\"axis\": {\"domain\": false, \"labels\": false, \"ticks\": false}, \"field\": \"0\", \"scale\": {\"zero\": false}, \"type\": \"quantitative\"}, \"y\": {\"axis\": {\"domain\": false, \"labels\": false, \"ticks\": false}, \"field\": \"1\", \"scale\": {\"zero\": false}, \"type\": \"quantitative\"}}}], \"data\": {\"name\": \"data-26f22667f188591c29928890a0b3e768\"}, \"height\": 500, \"title\": \"Semantic Search\", \"width\": 800, \"$schema\": \"https://vega.github.io/schema/vega-lite/v4.17.0.json\", \"datasets\": {\"data-26f22667f188591c29928890a0b3e768\": [{\"query\": \" which airlines fly from boston to washington dc via other cities\", \"query_embed\": [0.02609253, 0.012168884, -0.008903503, 0.011489868, -0.0012817383, -0.010368347, 0.01663208, -0.03375244, -0.0501709, 0.015487671, -0.015029907, 0.0012874603, -0.029541016, -0.0317688, 0.01928711, -0.039031982, 0.043304443, -0.017944336, 0.012039185, -0.00035333633, -0.012931824, 0.0446167, -0.0009965897, 0.05895996, -0.0012111664, 0.038513184, -0.054351807, -0.0035324097, -0.024871826, -0.028839111, 0.0023994446, 0.046875, 0.017822266, 0.00018906593, 0.00995636, 0.06585693, 1.4603138e-05, 0.011627197, 0.038116455, -0.04727173, 0.013420105, -0.008003235, 0.058410645, 0.004070282, -0.0066833496, -0.034423828, 0.029769897, -0.022613525, 0.0060691833, 0.06414795, 0.01499939, -0.020828247, -0.0079422, 0.07659912, -0.00080251694, -0.0009965897, 0.07519531, 0.00434494, 0.032989502, -0.06878662, -0.066467285, 0.02407837, 0.04800415, 0.023452759, 0.0010871887, -0.008171082, 0.042785645, 0.010116577, 0.0059890747, -0.0013427734, 0.020645142, 0.005958557, 0.0071754456, 0.0019760132, -0.00756073, -0.07550049, 0.060821533, -0.0127334595, -0.028915405, 0.029251099, -0.06707764, -0.0047798157, 0.0074272156, -0.07318115, 0.024505615, -0.01146698, -0.022644043, 0.010574341, -0.010757446, 0.0015735626, -0.011062622, 0.022766113, -0.037109375, 0.03677368, -0.023666382, 0.0004184246, -0.04940796, -0.014854431, -0.019927979, -0.011123657, -0.035186768, 0.0012264252, -0.06994629, 0.019180298, -0.0046157837, 0.0013961792, 0.037231445, 0.017822266, 0.008377075, -0.0026378632, -0.014312744, 0.051635742, 0.012527466, 0.018737793, -0.005542755, -0.03149414, -0.026489258, 0.007408142, -0.020690918, -0.02229309, 0.017807007, 0.06970215, -0.006034851, -0.036376953, -0.033111572, -0.006877899, 0.007785797, -0.07720947, -0.012382507, -0.0011043549, 0.013015747, 0.051696777, -0.060455322, -0.057922363, -0.0692749, 0.015464783, 0.013015747, 0.031433105, -0.00655365, -0.03567505, 0.04876709, -0.028335571, -0.013389587, 0.04333496, -0.011924744, 0.04824829, 0.036499023, -0.015853882, -0.023345947, -0.06774902, -0.032440186, 0.031188965, -0.018722534, 0.037628174, 0.044525146, -0.0077400208, 0.015167236, -0.021820068, 0.040893555, 0.01701355, -0.024627686, -0.0020885468, 0.027877808, -0.0022468567, 0.0065307617, 0.021453857, 0.00028657913, 0.001871109, 0.012748718, -0.007575989, 0.014884949, -0.03189087, -0.056396484, -0.034210205, 0.0077285767, 0.011062622, -0.016174316, -0.016036987, 0.0031394958, 0.026016235, 0.008911133, -0.024414062, -0.044433594, 0.037872314, -0.0670166, 0.08111572, -0.007095337, 0.042144775, 0.014907837, -0.007511139, 0.031082153, 0.061553955, -0.036895752, -0.036102295, -0.032836914, 0.016311646, 0.045562744, 0.033966064, 0.006477356, 0.0131073, -0.016983032, 0.030532837, -0.012023926, 0.0008764267, 0.05886841, -0.029403687, 0.045166016, -0.0029525757, 0.013702393, 0.019500732, -0.022109985, -0.020965576, 0.048309326, -0.09991455, -0.03555298, 0.0029640198, 0.0028476715, -0.082336426, -0.0035705566, -0.06567383, -0.015533447, 0.062927246, -0.045928955, 0.034240723, -0.019546509, -0.021987915, -0.01638794, -0.018463135, -0.07397461, 0.0135650635, -0.028289795, 0.04663086, 0.005771637, 0.059265137, -0.023086548, 0.007083893, 0.02166748, 0.041931152, 0.0069236755, -0.0105896, 0.015060425, -0.011100769, -0.042663574, 0.02305603, -0.03262329, -0.053649902, -0.008476257, 0.025421143, 0.001241684, 0.048309326, 0.022918701, 0.0010004044, -0.008003235, 0.03274536, 0.01878357, -0.004299164, 0.049682617, 0.025894165, -0.004753113, 0.03656006, -0.02609253, 0.062438965, -0.0132369995, 0.01889038, -0.060943604, -0.03036499, -0.039031982, -0.018936157, 0.016967773, -0.015792847, 0.019851685, -0.04901123, 0.025939941, 0.05090332, 0.0075950623, 0.045135498, 0.04272461, -0.046447754, 0.019866943, 0.02468872, 0.009757996, 0.03640747, 0.060028076, 0.0115356445, -0.00039696693, 0.07531738, 0.034729004, 0.0021648407, 0.005050659, -0.015541077, 0.036132812, -0.028564453, 0.008056641, -0.010604858, 0.012969971, -0.041534424, 0.0101623535, 0.05154419, -0.007820129, 0.0028018951, -0.05218506, 0.021774292, 0.0053253174, -0.014465332, -0.018676758, 0.05758667, -0.02835083, 0.00078725815, -0.008644104, -0.012023926, -0.02017212, 0.006790161, 0.014503479, 0.03338623, -0.0032653809, -0.031982422, -0.0014238358, 0.018569946, -0.020477295, -0.040802002, -0.020065308, 0.0368042, -0.027313232, -0.024307251, 0.03302002, 0.018722534, -0.047454834, -0.00894928, 0.047973633, -0.050720215, -0.052856445, -0.050445557, -0.06317139, -0.012702942, 0.008872986, -0.011375427, 0.008773804, 0.05609131, 0.0028305054, -0.025985718, 0.01436615, -0.019515991, 0.00033903122, -0.0021514893, 0.03878784, -0.030181885, -0.02885437, 0.009277344, 0.031341553, 0.025543213, -0.04574585, 0.0068473816, -0.011764526, -0.000828743, 0.029541016, -0.037231445, -0.013687134, 0.029464722, 0.009056091, -0.04257202, 0.01626587, 0.01184082, -0.007926941, -0.009490967, 0.015357971, -0.05291748, -0.012634277, -0.0004336834, 0.020309448, 0.0008687973, -0.040161133, -0.014015198, 0.014259338, 0.014442444, 0.025665283, -0.0037708282, -0.030700684, -0.015716553, -0.00579834, -0.020507812, 0.056762695, -0.015594482, 0.10333252, -0.05230713, -0.018035889, 0.025665283, -0.0093688965, 0.015838623, -0.015472412, 0.0016670227, -0.017059326, 0.029937744, 0.003900528, -0.020187378, 0.018493652, 0.010620117, -0.018615723, 0.03253174, -0.039733887, -0.013305664, -0.0046577454, -0.027740479, -0.028427124, -0.00554657, -0.011894226, -0.04107666, -0.0018796921, -0.025970459, 0.02947998, 0.012359619, 0.0010271072, -0.023208618, 0.025650024, -0.06488037, 0.0009965897, -0.0063934326, -0.012374878, 0.0236969, -0.05215454, -0.017242432, 0.019729614, 0.001294136, -0.016738892, -0.017623901, 0.021392822, 0.022918701, -0.0033473969, -0.0151901245, -0.008125305, -0.00079250336, 0.00018167496, -0.024505615, 0.008728027, 0.012527466, 0.0073432922, 0.0158844, -0.031433105, -0.0033779144, -0.013557434, -0.022979736, -0.055725098, -0.026367188, 0.0079956055, -0.006664276, 0.04815674, -0.043121338, -0.022964478, -0.03781128, -0.007789612, 0.03286743, -0.021026611, 0.005367279, -0.008163452, 0.014839172, -0.027908325, 0.025024414, -0.008804321, 0.043151855, -0.007724762, 0.0154418945, 0.036254883, -0.02255249, -0.030014038, 0.021484375, -0.0022735596, -0.075927734, 0.0803833, 0.0023097992, -0.0015640259, 0.019638062, -0.0071258545, 0.05215454, 0.014892578, -0.008232117, 0.0045700073, -0.03451538, -0.011810303, 0.041992188, -0.03894043, -0.033203125, 0.03857422, -0.029037476, 0.0713501, 0.039123535, 0.064331055, -0.0012845993, -0.017166138, 0.03970337, 0.021835327, 0.009475708, -3.629923e-05, -0.017349243, 0.008995056, 0.020248413, -0.023071289, 0.0066108704, -0.010910034, 0.05065918, -0.019241333, -0.027267456, -0.053955078, -0.022232056, -0.029464722, 0.031402588, -0.012870789, -0.006462097, 0.029266357, 0.015914917, 0.012329102, 0.012634277, 0.032196045, -0.0024776459, 0.0021858215, -0.012748718, -0.024368286, 0.054351807, -0.04824829, -0.037841797, -0.0064315796, 0.012741089, -0.013458252, 0.0109939575, -0.032958984, 0.030044556, 0.055633545, -0.0071144104, -0.059143066, 0.030380249, -0.02104187, -0.048583984, -0.010803223, 0.0016889572, 0.05783081, 0.055419922, 0.016708374, 0.051849365, -0.023635864, -0.011253357, -0.0118255615, -0.042175293, -0.009155273, -0.0090789795, -0.025939941, 0.008346558, -0.008140564, -0.008659363, -0.020095825, 0.0713501, 0.0010213852, 0.03274536, -0.0066337585, -0.03152466, -0.005935669, 0.00020825863, -0.02760315, -0.0035972595, -0.046569824, 0.016616821, -0.009689331, 0.0015935898, -0.015975952, 0.013450623, -0.04534912, 0.034729004, 0.00035381317, -0.0025730133, 0.028625488, 0.005748749, -0.009277344, -0.05142212, -0.038360596, -0.046905518, -0.00730896, -0.00642395, -0.028320312, 0.020751953, 0.03378296, -0.009239197, 0.006793976, -0.06173706, -0.028060913, 0.05368042, 0.072265625, 0.020126343, -0.057861328, 0.06109619, -0.015052795, -0.014556885, -0.038635254, 0.02394104, 0.018676758, 0.021636963, 0.022857666, 0.0012969971, -0.047302246, -0.026855469, -0.0012311935, -0.015136719, 0.04019165, -0.008140564, 0.0236969, -0.0064048767, 0.013313293, -0.0116119385, -0.031982422, -0.033325195, 0.022216797, -0.030227661, -0.0129852295, -0.012771606, 0.0016536713, -0.013031006, 0.01725769, 0.008285522, 0.021835327, -0.030349731, -0.037353516, 0.047729492, 0.04333496, 0.0054626465, 0.022628784, -0.005016327, -0.0008826256, -0.028656006, -0.0042266846, -0.061065674, -0.032043457, -2.3841858e-05, 0.014282227, -0.011123657, 0.02645874, 0.010543823, -0.036102295, 0.012535095, 0.016113281, -0.0096206665, -0.014633179, -0.008102417, 0.0154800415, 0.0016117096, -0.0051651, 0.0020008087, -0.024017334, -0.029205322, 0.013893127, -0.053649902, -0.027801514, 0.017852783, -0.017715454, 0.008628845, -0.056243896, -0.008422852, 0.009338379, -0.04647827, -0.010696411, -0.012069702, -0.03692627, 0.0006008148, 0.018157959, -0.006515503, -0.030227661, 0.043182373, -0.041015625, 0.034698486, -0.04864502, -0.023422241, 0.027359009, -0.018432617, -0.021636963, -0.056732178, -0.018661499, -0.010971069, 0.031677246, 0.0065231323, 0.042114258, -0.00013244152, -0.007411957, 0.0004544258, -0.0034008026, -0.03100586, 0.012557983, 0.023101807, -0.019332886, 0.019317627, -0.03567505, 0.044067383, 0.0053215027, -0.0074768066, -0.007881165, -0.04107666, -0.054901123, -0.012016296, -0.05053711, -0.04449463, 0.019439697, -0.012313843, -0.015281677, -0.018600464, -0.009284973, -0.023757935, 0.011062622, -0.006980896, 0.0031700134, -0.023071289, -0.014816284, 0.04034424, -0.0022773743, 0.024642944, -0.005054474, 0.005630493, 0.024093628, -0.006603241, -0.054138184, -0.038391113, 0.04269409, 0.022018433, 0.072143555, 0.07696533, 0.05267334, -0.072387695, -0.004737854, -0.048034668, -0.0044898987, 0.0053710938, 0.023529053, -0.002544403, -0.0006790161, 0.010498047, 0.010932922, 0.031463623, -0.023773193, -0.002128601, 0.0206604, -0.02331543, 0.0031375885, -0.07397461, 0.03036499, 0.0066452026, 0.0088272095, 0.019104004, 0.005874634, 0.009269714, 0.02142334, 0.0014572144, 0.01637268, 0.03741455, 0.008399963, 0.027801514, 0.005634308, 0.02078247, 0.022842407, -0.00086307526, 0.031051636, -0.016860962, -0.007160187, -0.08843994, -0.004463196, 0.06890869, 0.07489014, -0.03363037, -0.014625549, -0.006164551, -0.026123047, 0.042419434, -0.061340332, 0.007835388, -0.058135986, -0.03451538, -0.050048828, 0.025115967, 0.037719727, 0.042877197, -0.035980225, -0.03475952, -0.05117798, -0.0038013458, -0.0025234222, 0.008781433, 0.028427124, 0.03552246, -0.020126343, 0.06542969, -0.020263672, -0.012168884, 0.0018539429, -0.0057144165, 0.041259766, -0.018295288, -0.007926941, 0.005832672, -0.025100708, 0.028335571, 0.0070762634, -0.001531601, 0.031463623, 0.011642456, 0.011665344, 0.013877869, 0.029449463, 0.0046958923, 0.004005432, -0.057159424, -0.0011053085, 0.0025482178, -0.0016651154, -0.0637207, -0.044647217, 0.0635376, 0.01576233, 0.0038967133, 0.018508911, 0.015098572, 0.006389618, 0.018218994, -0.039764404, 0.04736328, -0.03314209, -0.048614502, 0.020584106, 0.02142334, -0.0012683868, 0.022018433, -0.0044784546, 0.027755737, 0.019088745, 0.008674622, 0.014625549, -0.03753662, 0.0065231323, 0.007865906, 0.0143585205, -0.008460999, -0.069885254, -0.03729248, -0.061462402, 0.041778564, 0.08453369, -0.030441284, 0.041931152, 0.07519531, 0.027496338, -0.016845703, 0.016098022, 0.0039024353, -0.017578125, 0.007843018, 0.0047073364, -0.022842407, 0.046417236, 0.04220581, 0.013473511, -0.0026950836, 0.003622055, -0.02217102, -0.0027923584, 0.038970947, 0.048706055, -0.02130127, -0.03515625, -0.05441284, -0.029586792, 0.01574707, 0.014732361, 0.038604736, 0.023590088, 0.0058021545, 0.007537842, -0.022583008, 6.186962e-05, -0.022232056, 0.016494751, 0.011459351, -0.022750854, -0.017654419, -0.029449463, 0.013824463, -0.0124435425, 0.044555664, -0.018722534, -0.013702393, -0.014099121, -0.08190918, -0.0005631447, 0.030334473, -0.03540039, -0.097229004, 0.038635254, -0.0034160614, -0.0063591003, -0.023803711, -0.06072998, 0.013656616, 0.039764404, -0.018676758, 0.024627686, -0.040802002, 0.0385437, 0.020507812, -0.038269043, -0.025787354, -0.013153076, -0.06506348, 0.10284424, -0.05319214, -0.012573242, -0.017074585, -0.0014600754, -0.0049362183, -0.00340271, -0.03451538, 0.018981934, 0.015716553, 0.030776978, 0.033813477, -0.043548584, -0.02355957, 0.05053711, 0.028015137, 0.074035645, 0.044830322, -0.054107666, -0.02067566, 0.010383606, 0.0051956177, 0.05126953, 0.0038337708, 0.011558533, -0.019378662, 0.03010559, -0.049804688, -0.028320312, -0.02432251, -0.03878784, -0.035491943, 0.03375244, -0.03717041, -0.03125, 0.020935059, 0.0019550323, -0.027938843, -0.008171082, -0.0181427, -0.0211792, 0.0036258698, -0.026046753, 0.05053711, 0.0129852295, -0.021408081, 0.06451416, 0.044647217, 0.06549072, -0.029510498, -0.017684937, -2.7477741e-05, -0.010192871, 0.028579712, -0.01335907, -0.06774902, 0.01159668, 0.0032215118, -0.011978149, 0.05606079, 0.028640747, 0.005065918, -0.045776367, 0.033599854, -0.020507812, 0.0016889572, 0.052001953, 0.031188965, 0.013069153, 0.044158936, -0.027145386, 0.052947998, 0.013832092, -0.008705139, 0.021408081, -0.027801514, -0.022445679, 0.011390686, -0.03363037, 0.0236969, 0.016235352, 0.020751953, 0.058410645, -0.02633667, -0.0066566467, -0.0060157776, -0.010696411, -0.038269043, -0.015899658, 0.024154663, -0.03189087, -0.048858643, 0.0072517395, 0.02734375, -0.011459351, 0.05633545, -0.013290405, -0.026687622, -0.027023315, 0.031051636, 0.026641846, 0.03375244, -0.0146865845, 0.015129089, 0.034179688, 0.030853271, 0.03744507, -0.05999756, -0.0127334595, 0.033416748, -0.0027179718, -0.018722534, 0.020507812, -0.040405273, 0.018615723, 0.005996704, -0.01071167, -0.016983032, -0.0013113022, -0.0074539185, -0.009590149, 0.008171082], \"0\": 0.08137702519403793, \"1\": -0.26410547363889875, \"Source\": \"Existing\"}, {\"query\": \" show me the airlines that fly between toronto and denver\", \"query_embed\": [0.013801575, 0.017181396, -0.014984131, -0.003835678, -0.016952515, 0.0025424957, -0.028884888, -0.039642334, -0.081604004, 0.016189575, -0.004573822, 0.0068511963, -0.04537964, -0.036590576, 0.030044556, -0.043273926, 0.046081543, 0.0008325577, 0.010353088, 0.0011720657, -0.013290405, 0.06414795, -0.016159058, 0.05102539, 0.0009598732, 0.089782715, -0.06100464, -0.018249512, -0.01889038, -0.029724121, -0.0055389404, 0.022247314, 0.016326904, -0.004295349, 0.018508911, 0.039520264, -0.02027893, 0.021957397, 0.04324341, -0.05279541, -0.0014019012, -0.0047035217, 0.06072998, -0.027816772, 0.0056648254, -0.04196167, 0.043762207, -0.028945923, 0.017242432, 0.0149383545, -0.0006995201, 0.0038967133, -0.011070251, 0.038513184, -0.0021095276, 0.012321472, 0.04559326, 0.0435791, 0.011665344, -0.07476807, -0.055480957, 0.04827881, 0.03881836, 0.053649902, 0.017578125, -0.015464783, -0.043640137, 0.022415161, 0.03164673, 0.046203613, 0.008743286, -0.030792236, -0.009605408, -0.012710571, -0.01058197, -0.045684814, 0.021011353, -0.021438599, -0.015083313, 0.033447266, -0.072021484, -0.003932953, -0.02104187, -0.020553589, -0.019592285, 0.009010315, -0.03918457, 0.0029716492, -0.023651123, -0.02519226, -0.015098572, 0.025466919, -0.027053833, -0.010726929, -0.033966064, -0.04345703, 0.033813477, 0.048614502, -0.008308411, -0.049926758, -0.01852417, -0.029373169, -0.07733154, 0.002998352, -0.023910522, -0.027511597, 0.051239014, 0.037506104, 0.015701294, 0.011459351, -0.03010559, 0.09326172, 0.017654419, 0.018554688, -0.029327393, -0.051757812, -0.03640747, 0.011558533, -0.02142334, -0.013519287, 0.009422302, 0.043426514, -0.006416321, 0.005554199, 0.0031013489, 0.028060913, -0.01977539, -0.037994385, -0.027252197, -0.006587982, 0.006038666, 0.036102295, -0.03817749, -0.019088745, -0.036376953, 0.008415222, -0.015274048, 0.01449585, -0.026428223, -0.016555786, 0.032928467, -0.04736328, -0.0059165955, 0.031555176, -0.0110321045, 0.042541504, 0.020385742, -0.012237549, 0.0055885315, -0.07055664, -0.029434204, -0.015319824, -0.026657104, 0.070739746, 0.04864502, 0.029174805, 0.035461426, -0.009857178, 0.031951904, 0.017456055, 0.0018053055, -0.0053901672, 0.0026798248, 0.029251099, 0.05303955, 0.0025672913, 0.02230835, 0.017669678, 0.020889282, 0.046325684, -0.002861023, -0.001373291, -0.011512756, -0.016586304, -0.0030918121, -0.0059394836, -0.007423401, 0.019973755, 0.013511658, 0.047058105, 0.030319214, -0.028198242, 0.010429382, 0.014274597, -0.015655518, -0.026397705, 0.012130737, 0.0030002594, -0.0074386597, 0.024017334, 0.009918213, 0.03652954, -0.00035834312, -0.040100098, 0.0018196106, 0.025741577, -0.01689148, 0.0211792, -0.00554657, -0.0009713173, -0.085876465, 0.03857422, -0.0287323, 0.039733887, 0.03036499, 0.002696991, 0.027832031, 0.016342163, -0.0011024475, 0.04434204, -0.0008401871, -0.007205963, 0.0020275116, -0.016357422, 0.010772705, -0.0006980896, -0.03012085, -0.057434082, -0.005355835, -0.032287598, -0.009552002, 0.030975342, -0.030273438, -0.0018701553, -0.0592041, 0.0019416809, -0.038146973, -0.0027103424, -0.10180664, 0.0019416809, -0.01374054, 0.05230713, 0.021331787, 0.079711914, -0.026062012, -0.017944336, 0.045288086, 0.035064697, 0.019805908, -0.0022201538, -0.01600647, -0.019104004, -0.027954102, 0.078125, -0.060546875, 0.011459351, 0.021896362, 0.042388916, 0.014503479, 0.048828125, 0.0016307831, -0.010032654, 0.0109939575, 0.020874023, 0.015129089, 0.008888245, 0.023513794, 0.08001709, -0.041381836, 0.0524292, -0.054504395, 0.056396484, 0.05657959, -0.028762817, -0.038970947, 0.02104187, 0.004135132, 0.010284424, 0.008758545, 0.013999939, 0.005077362, -0.03665161, 0.009773254, 0.052764893, 0.031463623, 0.029190063, 0.025665283, -0.039093018, -0.0053482056, 0.026809692, 0.004360199, 0.035125732, 0.04510498, 0.0029182434, -0.0013065338, 0.052642822, 0.018371582, -0.025390625, 0.008056641, -0.014572144, 0.02633667, -0.023849487, -0.007068634, 0.005493164, -0.008087158, -0.038208008, -0.007457733, 0.047027588, -0.0011758804, -0.013923645, -0.0602417, 0.0076179504, -0.014732361, 0.002210617, 0.0006766319, 0.037200928, -0.00818634, 0.0088272095, 0.006755829, 0.0059928894, -0.06048584, 0.0066452026, 0.012870789, -0.080200195, 0.02003479, -0.0037879944, -0.04699707, -0.015380859, -0.047668457, 0.027160645, 0.037841797, 0.010871887, -0.052978516, -0.007637024, -0.010093689, 0.0021572113, -0.020523071, -0.017181396, 0.009239197, -0.008987427, 0.0013694763, -0.006717682, -0.013694763, -0.014198303, 0.004787445, -0.036956787, 0.010261536, -0.04046631, -0.01285553, 0.034423828, 0.013885498, -0.017852783, 0.015090942, -0.06958008, 0.048034668, -0.04272461, -0.03857422, 0.00014185905, 0.04449463, 0.011413574, -0.035095215, -0.0034427643, -0.007926941, 0.035736084, 0.03591919, -0.060668945, -0.028869629, 0.04244995, -0.015052795, -0.03692627, 0.0039749146, 0.045562744, -0.002368927, 0.0019073486, -0.013046265, -0.0541687, -6.2048435e-05, 0.040618896, 0.018875122, 0.0064697266, -0.028121948, -0.032226562, 0.023147583, 0.028564453, 0.038116455, -0.0072746277, 0.018295288, -0.00069856644, -0.028518677, 0.016571045, 0.066101074, 0.02128601, 0.062683105, -0.00868988, 0.0026378632, 0.021820068, -0.01133728, 0.027862549, -0.0029582977, -0.0107803345, -0.020935059, 0.050048828, 0.0013399124, -0.0042800903, -0.013946533, -0.000477314, -0.0024147034, 0.01676941, -0.035705566, -0.0032424927, -0.036224365, -0.031234741, -0.031707764, -0.01322937, 0.0116119385, -0.03616333, 0.025817871, -0.040893555, 0.024261475, 0.019836426, -0.024307251, -0.007801056, 0.008674622, -0.052734375, -0.015838623, 0.015617371, -0.046875, -0.007949829, 0.02671814, 0.009536743, -0.011390686, 0.0040893555, -0.01737976, 0.02897644, -0.008125305, -0.00021708012, 0.01864624, 0.030685425, 0.014625549, 0.011116028, 0.012634277, -0.023086548, -0.034820557, -8.183718e-05, 0.022994995, 0.029220581, -0.0036392212, -0.00090789795, 0.006942749, -0.014480591, -0.068359375, -0.018173218, 0.0040512085, 0.004928589, 0.022399902, -0.01991272, -0.013366699, -0.05517578, -0.04562378, 0.025009155, -0.031234741, 0.024459839, 0.0037269592, 0.034118652, -0.0026130676, 0.00793457, -0.014892578, 0.051483154, -0.011413574, 0.017349243, 0.031829834, -0.030319214, 0.026000977, 0.019256592, -0.010681152, -0.008476257, 0.033477783, 0.0055007935, -0.035858154, 0.033843994, 0.02357483, 0.0063934326, -0.011924744, 0.0038394928, -0.020843506, -0.016464233, 0.03326416, 0.023071289, -0.003856659, -0.044555664, 0.0158844, -0.014015198, 0.07550049, 0.03564453, 0.04156494, 0.012176514, -0.023361206, 0.029647827, 0.009941101, 0.015464783, 0.015144348, -0.03656006, 0.009552002, 0.015411377, -0.03933716, 0.010894775, -0.023666382, 0.07305908, -0.0046806335, -0.029144287, -0.026794434, -0.02532959, -0.019714355, 0.01689148, 0.004146576, -0.020477295, 0.038208008, 0.03475952, 0.041778564, 0.058929443, 0.046447754, 0.022064209, -0.009315491, -0.03717041, -0.0076904297, 0.017807007, -0.0009651184, -0.082092285, 0.016189575, 0.038024902, 0.03048706, 0.03933716, 0.028442383, 0.009140015, 0.04220581, -0.015594482, -0.0006327629, 0.0052223206, -0.020263672, -0.052093506, 0.028167725, 0.00093221664, 0.08337402, 0.08111572, -0.028335571, 0.064575195, -0.010353088, -0.010787964, -0.029724121, -0.045532227, -0.0032539368, 0.0053482056, -0.018798828, -0.015365601, -0.031219482, 0.07055664, -0.005065918, 0.10736084, -0.021469116, 0.049224854, 0.003080368, -0.0082473755, -0.011871338, 0.005680084, -0.005332947, -0.030761719, -0.031066895, 0.0036334991, -0.02458191, -0.0056915283, -0.005218506, -0.015556335, -0.036376953, 0.04071045, 0.011993408, -0.0036716461, 0.030456543, -0.016494751, -0.036132812, -0.058898926, -0.035827637, -0.032043457, 0.0033550262, -0.0065231323, -0.01398468, 0.015823364, 0.011817932, -0.007419586, -0.0070610046, -0.04598999, -0.029434204, 0.06359863, 0.061431885, 0.051818848, -0.0049209595, 0.015853882, -0.012825012, -0.007095337, -0.002910614, -0.008262634, -0.008430481, -0.020446777, 0.00083351135, -0.040924072, 0.013938904, -0.01626587, 0.036956787, -0.0029525757, 0.014099121, 0.02557373, 0.002817154, -0.0067367554, 0.014022827, -0.002746582, -0.009613037, -0.022109985, 0.0037612915, -0.012161255, 0.014877319, 0.020874023, 0.017944336, -0.018051147, -0.0016393661, 0.023742676, 0.010360718, -0.034851074, -0.008453369, 0.022628784, 0.044921875, -0.02545166, 0.022338867, 0.006149292, 0.003376007, 0.027740479, 0.009613037, -0.055786133, -0.018081665, 0.015167236, 0.010604858, -0.033691406, 0.016174316, -0.0067596436, -0.041015625, 0.013557434, 0.00036096573, -0.009773254, -0.033294678, -0.023040771, 0.016616821, 0.013336182, -0.028884888, 0.019256592, -0.021850586, -0.0038166046, 0.02999878, -0.04232788, -0.024490356, 0.00075626373, -0.019348145, 0.0047073364, -0.041534424, -0.013465881, -0.023803711, -0.020629883, 0.016143799, -0.0048828125, -0.046875, 0.030807495, -0.02154541, -0.0013790131, -0.017684937, 0.034179688, -0.022583008, 0.035003662, -0.027923584, 0.013694763, 0.046875, -0.010772705, 0.009742737, -0.05557251, -0.02822876, 0.009750366, -0.0067214966, -0.036590576, -0.0008330345, 0.010276794, -0.020309448, 0.020568848, 0.011039734, -0.025772095, 0.008773804, 0.021957397, 0.028930664, 0.03652954, -0.049560547, 0.061340332, -0.01586914, -0.03555298, -0.013084412, -0.037750244, -0.023544312, 0.04135132, -0.046173096, 0.0024108887, 0.00045728683, -0.031143188, -0.02406311, 0.010658264, 0.015541077, -0.008216858, 0.018508911, -0.0034484863, -0.005466461, -0.03152466, -0.0085372925, 0.027114868, 0.015136719, 0.060546875, -0.020645142, -0.01373291, 0.039916992, 0.036010742, -0.045776367, -0.03955078, 0.06781006, 0.005214691, 0.054229736, 0.078125, 0.04147339, -0.09509277, -0.027023315, 0.01448822, -0.017211914, -0.05621338, 0.000341177, -0.027236938, -0.048217773, 0.0015583038, 0.009475708, 0.019180298, -0.003025055, -0.011131287, -0.021499634, -0.012382507, 0.037078857, -0.0793457, -0.013717651, 0.007896423, 0.0003681183, -0.012771606, -0.044006348, 0.0053901672, 0.030227661, 0.018493652, 0.0071640015, 0.03237915, 0.0018749237, -0.0016317368, 0.033294678, 0.023864746, 0.049041748, 0.013267517, -0.010017395, -0.066345215, -0.013435364, -0.12036133, -0.0546875, 0.04660034, 0.034118652, 0.0027217865, -0.00793457, -0.0036811829, -0.02104187, 0.030288696, -0.09454346, -0.039764404, -0.09289551, -0.04586792, -0.05078125, 0.009651184, 0.008041382, 0.060546875, -0.04159546, -0.012718201, -0.04916382, -0.04434204, -0.021347046, 0.0031013489, 0.0019435883, 0.08416748, 0.017501831, 0.052642822, -0.034210205, -0.03753662, 0.0048599243, -0.01802063, 0.05001831, -0.004535675, -0.019210815, 0.006427765, 0.010238647, 0.035217285, 0.0138549805, 0.021240234, 0.015335083, 0.0007748604, 0.023651123, 0.01763916, 0.029815674, 0.0013628006, -0.019180298, -0.05355835, 0.070495605, 0.060913086, 0.03302002, -0.034606934, -0.007255554, 0.07574463, 0.012237549, 0.02659607, 0.005065918, 0.033721924, -0.0065956116, -0.027633667, -0.025436401, 0.009628296, 0.0017280579, -0.033966064, 0.037139893, -0.006336212, -0.014152527, 0.022888184, 0.011878967, 0.0026226044, 0.038757324, -0.009613037, 0.025054932, -0.010284424, 0.008575439, -0.018554688, 0.009170532, -0.0085372925, -0.04135132, -0.010879517, -0.010353088, -0.0053520203, 0.025543213, -0.011276245, 0.03286743, 0.018051147, 0.04534912, -0.020431519, 0.0357666, 0.005001068, 0.0017137527, 0.0054016113, 0.020431519, -0.028549194, 0.04373169, 0.08294678, 0.003566742, 0.013221741, 0.018722534, -0.021850586, -0.010894775, 0.04586792, -0.0006518364, -0.036224365, -0.033935547, -0.042999268, -0.031097412, 0.0016336441, -0.03366089, 0.006038666, -0.012489319, 0.060668945, -0.047668457, -0.006072998, -9.5427036e-05, 0.02079773, 0.03253174, 0.06555176, 0.0048599243, 0.011276245, -0.019638062, 0.0385437, 0.0029525757, 0.025390625, 0.027954102, -0.019821167, 0.015380859, -0.08526611, -0.004512787, -0.017837524, -0.024734497, -0.061706543, 0.07800293, 0.0020313263, 0.03567505, 0.0027446747, 0.0020771027, -0.02494812, 0.021987915, -0.024414062, 0.010971069, -0.057769775, 0.016921997, 0.019302368, -0.0317688, 0.0013694763, -0.03387451, -0.04815674, 0.07122803, -0.049835205, 0.029144287, -0.00045323372, 0.012641907, -0.0036182404, -0.011878967, -0.0016965866, 0.046875, 0.035339355, -0.013214111, 0.0016489029, -0.016220093, -0.009033203, -0.0033893585, 0.020568848, 0.01737976, 0.005935669, -0.035705566, -0.0345459, 0.011436462, 0.013633728, 0.059936523, 0.013145447, 0.04006958, -0.04244995, 0.021316528, -0.03579712, -0.027328491, -0.031585693, -0.031555176, 0.055999756, 0.020324707, -0.013252258, -0.03543091, 0.03491211, 0.014602661, -0.021057129, -0.011802673, -0.028823853, -0.02607727, -0.013687134, -0.026657104, 6.3717365e-05, 0.030975342, -0.026901245, 0.01260376, 0.022506714, 0.042541504, -0.035308838, 0.034576416, -0.013069153, 0.023834229, 0.08416748, 0.0023670197, -0.051239014, -0.03375244, -0.10003662, -0.006500244, 0.028518677, 0.039398193, 0.0070266724, -0.047027588, 0.00086069107, -0.029434204, 0.0053100586, 0.03225708, -0.0053367615, 0.031982422, 0.027679443, -0.03579712, 0.029434204, 0.0317688, -0.0009446144, 0.03100586, -0.037353516, -0.029266357, 0.017868042, -0.020141602, 0.03213501, 0.027954102, 0.024551392, 0.080322266, -0.015701294, -0.014846802, 0.007446289, -0.020690918, -0.047302246, -0.003396988, 1.7404556e-05, 0.0006322861, -0.020721436, 0.010192871, 0.01789856, 0.026931763, 0.008590698, 0.020980835, -0.031021118, -0.045654297, 0.020385742, 0.034210205, 0.026245117, -0.017333984, 0.039855957, 0.038757324, 0.016525269, 0.001080513, -0.03074646, -0.013427734, 0.024841309, -0.017364502, 0.0070343018, 0.019363403, -0.03564453, 0.019363403, -0.03189087, -0.015060425, -0.034698486, 0.0041046143, 0.015625, -0.024978638, 0.024795532], \"0\": 0.011670630809483731, \"1\": -0.30880701093806767, \"Source\": \"Existing\"}, {\"query\": \" show me round trip first class tickets from new york to miami\", \"query_embed\": [0.02053833, -0.038482666, 0.061523438, 0.009925842, -0.06390381, 0.016479492, -0.009994507, -0.037475586, -0.059417725, 0.022735596, 0.005832672, 0.0004515648, -0.032226562, -0.030471802, 0.021499634, -0.04473877, 0.038085938, -0.036987305, 0.0057640076, -0.0077209473, -0.01083374, 0.030715942, 0.025634766, 0.04373169, 0.034240723, 0.030334473, -0.054016113, -0.037475586, 0.024841309, -0.019042969, 0.02041626, 0.036834717, 0.018478394, 0.026351929, -0.02027893, 0.017150879, 0.022949219, 0.0046958923, 0.022033691, -0.024765015, 0.009994507, -0.0016174316, -0.034332275, -0.012229919, -0.03274536, -0.050964355, 0.03164673, 0.005001068, 0.023986816, -0.019760132, 0.029830933, -0.021102905, 0.031829834, 0.011207581, -0.049041748, -0.0047035217, 0.0256958, 0.0019445419, 0.0021305084, -0.06542969, -0.01586914, 0.03475952, 0.051483154, 0.08270264, -0.016677856, -0.0028362274, 0.01461792, 0.0067214966, 0.015342712, -0.009284973, -0.0036582947, 0.008239746, -0.0019512177, 0.006450653, -0.020599365, -0.037872314, 0.06036377, 0.015945435, -0.03741455, 0.04046631, -0.07720947, 0.0001295805, 0.013687134, -0.052612305, -0.018463135, -0.03479004, -0.032409668, 0.021011353, 0.004173279, 0.021072388, -0.00945282, 0.059387207, 0.0042266846, 0.046691895, -0.029647827, 0.0025691986, 0.015388489, 0.0524292, -0.01222229, -0.030273438, -0.032928467, -0.0044288635, -0.074279785, -0.0069122314, 0.00026774406, -0.030471802, 0.032989502, 0.029541016, 0.044677734, 0.0020580292, -0.030853271, 0.13391113, 0.009536743, -0.02279663, 0.023605347, 0.002922058, -0.021270752, 0.020904541, -0.019210815, -0.013824463, 0.0031433105, 0.054107666, -0.023345947, 0.004447937, 0.0027427673, 0.038269043, 0.02128601, -0.046020508, -0.040618896, 0.009384155, 0.010986328, 0.04168701, -0.053466797, -0.021911621, -0.05480957, -4.464388e-05, -0.007160187, 0.015213013, -0.0041885376, -0.02619934, 0.02178955, -0.027908325, 0.00970459, 0.023483276, -0.023956299, 0.047058105, 0.06829834, -0.018218994, -0.0690918, -0.095214844, -0.0039711, 0.03250122, -0.048095703, 0.06762695, 0.037902832, 0.056243896, 0.018447876, 0.021469116, 0.027740479, 0.0440979, 0.05355835, -0.008872986, -0.01687622, -0.0026931763, -0.0057678223, -0.00083208084, -0.023239136, 0.00073480606, 0.019592285, 0.07244873, 0.03439331, -0.03677368, -0.02178955, -0.022445679, -0.026657104, -0.026245117, -0.0074501038, 0.00052165985, -0.013572693, 0.060913086, 0.009338379, -0.053710938, -0.021347046, 0.0061683655, -0.0071983337, -0.03842163, -0.0066452026, -0.040222168, 0.023849487, -0.0029125214, 0.039276123, 0.0036735535, 0.0042266846, -0.029754639, -0.016983032, -0.0082092285, 0.031021118, 0.017913818, -0.0007419586, 0.018753052, -0.045776367, 0.02381897, -0.0014438629, -0.008056641, 0.047302246, -0.033355713, 0.052246094, 0.022201538, 0.010116577, 0.021514893, -0.006095886, 0.008407593, 0.039367676, -0.10229492, -0.041809082, 0.00037503242, 0.0049858093, -0.026031494, 0.01826477, -0.025741577, 0.0016441345, 0.041137695, -0.021499634, 0.019699097, -0.005783081, 0.024002075, -0.019317627, 0.0059318542, -0.026351929, 0.03717041, -0.039733887, -0.017211914, -0.004299164, 0.006351471, -0.05569458, 0.024932861, 0.039215088, 0.082092285, -0.017990112, -0.018112183, 0.0049934387, -0.0076789856, -0.0024318695, 0.06262207, -0.056121826, -0.02659607, 0.023101807, 0.02243042, -0.0012645721, -0.0059280396, -0.015312195, -0.022445679, 0.029724121, 0.01966858, -0.005191803, 0.025039673, -0.007904053, 0.056030273, -0.070007324, 0.060180664, -0.0440979, 0.045959473, 0.051452637, -0.026275635, -0.024337769, 0.037261963, -0.0033073425, 0.0020046234, -0.03378296, 0.041503906, 0.02645874, -0.009468079, 0.023773193, 0.06512451, 0.034423828, 0.033935547, -0.013198853, -0.05529785, 0.045684814, 0.04763794, 0.0027866364, 0.030334473, 0.016357422, 0.0010929108, -0.00365448, 0.046661377, 0.012626648, -0.026565552, -0.010246277, 0.003993988, 0.047058105, 0.015403748, 0.023391724, -0.009994507, 0.007019043, -0.008659363, -0.016448975, 0.041900635, -0.0070343018, -0.0004351139, -0.088012695, 0.0013456345, 0.0074539185, -0.013946533, 0.0063705444, 0.015625, -0.022842407, 0.00907135, 0.0030345917, -0.012298584, -0.00459671, 0.04168701, 0.037628174, 0.023513794, 0.026794434, -0.0104599, 0.010093689, 0.032348633, -0.030914307, -0.066711426, -0.025756836, 0.022460938, -0.054718018, -0.01360321, 0.0031585693, 0.032958984, -0.046844482, -0.014465332, 0.03048706, -0.015129089, -0.0418396, -0.0140686035, -0.04034424, 0.03543091, 0.0013370514, -0.0020160675, -0.011451721, 0.040130615, -0.03378296, -0.02885437, -0.05645752, -0.0065689087, 0.017822266, -0.026977539, 0.05633545, -0.047424316, -0.049438477, -0.0048713684, 0.033050537, 0.020263672, -0.058746338, 0.005317688, -0.017425537, 0.012840271, 0.0075302124, -0.030517578, 0.016677856, 0.06524658, 0.0049743652, -0.0053977966, 0.03753662, 0.030776978, 0.012168884, -0.10510254, -0.015533447, -0.045288086, -0.041168213, -0.006412506, 0.003917694, -0.0015068054, -0.032470703, -0.03527832, 0.02357483, 0.017150879, 0.02192688, 0.0069999695, 0.020141602, -0.016113281, -0.022628784, 0.0059165955, 0.03869629, -0.00071907043, 0.047729492, -0.02508545, -0.03942871, 0.012542725, -0.024154663, 0.028381348, -0.0033130646, 0.0034389496, -0.0019140244, 0.051940918, -0.005393982, -0.028045654, 0.0046806335, 0.0017089844, -0.0067253113, 0.016983032, -0.008728027, -0.01991272, -0.06994629, 0.014556885, -0.0021457672, -0.0013284683, -0.024734497, -0.046325684, -0.039978027, -0.042663574, 0.029312134, -0.024856567, 0.021026611, -0.014228821, 0.034423828, -0.048614502, 0.0011863708, -0.025924683, -0.028244019, 0.009925842, -0.014427185, -0.009490967, -0.0056495667, 0.0015001297, -0.02168274, -0.008224487, 0.01651001, 0.00073194504, 0.018234253, 0.012817383, 0.032806396, -0.016799927, 0.0031909943, -0.024795532, -0.027709961, -0.040985107, 0.012527466, 0.034851074, -0.026748657, 0.054138184, -0.04626465, 0.021759033, -0.033569336, -0.018630981, -0.0029697418, 0.030975342, 0.0027885437, 0.003238678, -0.018295288, -0.040374756, -0.0357666, 0.00062322617, -0.038879395, 0.027282715, -0.04135132, 0.017333984, 0.0053863525, -0.023590088, -0.009468079, 0.030075073, 0.024124146, 0.022903442, 0.01689148, -0.016677856, 0.011795044, 0.0031776428, -0.017974854, -0.040161133, 0.05114746, 0.002855301, -0.0017471313, 0.006996155, -0.0018157959, 0.042144775, -0.023269653, -0.027313232, 0.017318726, -0.03173828, 0.00687027, 0.031951904, -0.023620605, -0.035980225, 0.04421997, -0.031433105, 0.04147339, 0.042236328, 0.018371582, 0.014633179, -0.058380127, 0.016067505, 0.010269165, 0.059753418, 0.041809082, 0.005809784, 0.02407837, 0.062164307, -0.018814087, 0.0060653687, -0.006210327, 0.034942627, -0.0146102905, -0.014633179, -0.07080078, -0.028717041, 0.023666382, 0.010826111, -0.0055885315, -0.0051574707, 0.044036865, 0.04537964, 0.014976501, 0.02760315, 0.03274536, 0.015327454, 0.060577393, -0.000497818, -0.018508911, 0.018203735, -0.007858276, -0.051757812, -0.011451721, 0.032806396, 0.0021839142, 0.020523071, 0.013793945, 0.022613525, 0.02670288, -0.014953613, -0.01083374, 0.0119018555, -0.016723633, -0.07458496, -0.052703857, 0.009689331, 0.037841797, 0.064453125, 0.037384033, 0.042053223, -0.015403748, 0.0047073364, 0.010871887, -0.029769897, 0.01725769, 0.013450623, -0.016921997, 0.00072574615, -0.028671265, 0.043029785, 0.009567261, 0.11419678, -0.05078125, 0.07006836, -0.00029110909, -0.025299072, -0.0021839142, 0.010536194, 0.015434265, -0.044403076, -0.03753662, -0.004699707, -0.03173828, 0.022659302, -0.00198555, 0.0015878677, -0.039001465, 0.034606934, -0.0703125, 0.004299164, -0.01008606, -0.015525818, -0.027908325, -0.022155762, -0.0061569214, -0.014556885, 0.05670166, 0.012313843, -0.037628174, -0.029006958, 0.022506714, 0.0034503937, 0.013252258, -0.036743164, -0.0127334595, 0.05053711, 0.050445557, 0.047027588, 0.010620117, 0.037384033, -0.040283203, 0.03427124, 0.0046958923, -0.010047913, -0.04852295, -0.0067710876, 0.008644104, -0.01776123, -0.022659302, -0.03677368, 0.017425537, 0.009811401, 0.05014038, -0.004753113, 0.00028395653, -0.0057640076, 0.014129639, -0.013717651, 0.012275696, -0.028579712, -0.000790596, 0.018875122, 0.0026302338, 0.012023926, 0.012290955, 0.02607727, -0.022781372, -0.010902405, -0.0121536255, -0.04522705, 0.053009033, -0.023422241, 0.005874634, -0.010025024, 0.03265381, 0.0042381287, 0.032409668, 0.037994385, -0.040405273, -0.024124146, 0.006980896, 0.025100708, 0.00025844574, -7.95722e-05, 0.03845215, 0.0021038055, -0.0056037903, -0.0047302246, 0.019760132, -0.012710571, -0.0072669983, -0.01399231, 0.022949219, 0.052612305, 0.014411926, -0.034698486, -0.06304932, -0.024993896, 0.010986328, -0.021865845, -0.021957397, 0.011207581, 0.0059814453, -0.0027866364, -0.036895752, -0.024963379, -0.049438477, -0.026153564, 0.025436401, -0.018722534, -0.07977295, 0.0152282715, 0.009788513, -0.00381279, -0.018051147, 0.05999756, -0.0077171326, 0.053649902, -0.0059013367, -0.0059394836, 0.0033016205, -0.019821167, -0.004432678, -0.04812622, -0.027450562, -0.009674072, 0.03253174, -0.020065308, -0.009292603, -0.022567749, -0.024124146, 0.0035591125, -0.025421143, -0.004119873, -0.009407043, -0.034606934, 0.04663086, -0.014503479, -0.016738892, 0.018692017, 0.0017385483, 0.0072021484, -0.024414062, -0.057678223, -0.03237915, 0.057800293, -0.050079346, 0.047302246, 0.050720215, -0.01373291, -0.031463623, -0.0066490173, -0.020141602, 0.014915466, 0.028167725, -0.0116119385, -0.0011558533, -0.04763794, -0.0016784668, 0.010536194, 0.0287323, 0.020355225, -0.019958496, -0.031951904, 0.014221191, 0.05657959, -0.090270996, -0.03479004, 0.036865234, 0.0029468536, 0.013427734, 0.03265381, 0.024337769, -0.04876709, -0.019195557, -0.013381958, -0.0055885315, -0.017791748, 0.0032634735, 0.037841797, -0.034240723, 0.035186768, -0.004169464, -0.0040245056, 0.019607544, 0.016433716, -0.011787415, -0.00017511845, 0.015182495, -0.01737976, 0.010551453, 0.013282776, -0.017364502, 0.01109314, -0.08428955, 0.022399902, -0.003036499, 0.00022101402, -0.0004813671, 0.04638672, 0.008865356, -0.014854431, 0.010948181, 0.012565613, 0.0054626465, 0.014274597, 0.02760315, -0.017288208, 0.008888245, -0.07318115, -0.013946533, 0.045806885, 0.06719971, -0.016677856, -0.007270813, -0.0011291504, -0.01676941, 0.02154541, -0.045654297, 0.014297485, -0.04345703, -0.022659302, -0.072143555, 0.031829834, 0.012672424, 0.06439209, -0.05114746, -0.029724121, -0.074401855, 0.0009050369, -0.013458252, 0.018310547, 0.014671326, 0.035736084, 0.003955841, 0.024932861, -0.020614624, -0.018966675, -0.0015287399, 0.008712769, 0.054351807, -0.013130188, 0.004688263, -0.01436615, -0.0022716522, 0.022384644, 0.021118164, -0.022491455, 0.010406494, 0.0050697327, -0.007797241, 0.011703491, 0.024017334, -0.0022201538, 0.004306793, -0.009719849, 0.010261536, 0.023742676, -0.0024757385, -0.057769775, -0.018981934, 0.06488037, 0.013511658, 0.030456543, 0.028717041, 0.014465332, -0.034088135, -0.007537842, -0.025650024, 0.0289917, -0.062164307, -0.017059326, 0.019561768, -0.014350891, -0.0029144287, 0.018463135, -0.02960205, 0.047973633, -0.010757446, 0.032684326, 0.008285522, -0.055145264, 0.012176514, -0.019500732, 0.0033817291, -0.0045547485, -0.053131104, -0.025543213, -0.03894043, 0.033966064, 0.03894043, 0.016113281, 0.00415802, 0.052642822, 0.042266846, -0.0023040771, 0.05911255, 0.017791748, 0.0037631989, 0.0149383545, 0.028930664, -0.034301758, 0.0070610046, 0.056488037, 0.010002136, 0.0025539398, 0.018585205, 0.00068712234, -0.005718231, 0.010391235, 0.020828247, 0.0021896362, -0.026779175, 0.0012340546, 0.0035800934, 0.022659302, 0.051330566, 0.0024147034, 0.03579712, 0.060760498, -0.019699097, 0.014511108, -0.054748535, 0.04537964, 0.01625061, 0.06774902, 0.06488037, -0.001830101, -0.022079468, 0.026168823, 0.014099121, -0.049468994, 0.0178833, 0.005443573, 0.009132385, -0.084472656, -0.003967285, -0.0037975311, -0.03366089, -0.062469482, 0.058898926, -0.016159058, -0.03250122, -0.031829834, -0.026763916, -0.014701843, 0.028778076, -0.03741455, -0.052825928, -0.0826416, 0.025222778, 0.02432251, -0.038024902, -0.023590088, 0.008323669, -0.055786133, 0.068847656, -0.052825928, -0.031021118, -0.012237549, 0.0087509155, 0.0087509155, -0.079956055, -0.045013428, 0.07965088, -0.039916992, 0.03656006, 0.038085938, -0.04711914, 0.016525269, 0.029907227, 0.049865723, 0.0579834, 0.02949524, -0.032836914, -0.019836426, 0.025238037, 0.011497498, 0.05090332, -0.0158844, 0.07684326, -0.041931152, 0.030548096, -0.0027275085, 0.0028381348, -0.011405945, -0.030075073, 0.029907227, -0.0023765564, -0.020446777, -0.0110321045, 0.011962891, -0.02520752, 0.022888184, 0.00095415115, -0.01852417, 0.016616821, 0.019226074, -0.017959595, 0.015266418, 0.02911377, -0.0062828064, 0.01675415, 0.029891968, 0.028625488, -0.043273926, 0.019592285, -0.012573242, 0.017654419, 0.049468994, -0.028274536, -0.04031372, -0.005630493, -0.04385376, 0.025421143, -0.0029716492, 0.009773254, -0.0012359619, -0.04019165, 0.020736694, -0.01651001, -0.012466431, 0.061950684, 0.04446411, -0.0519104, 0.006755829, 0.017166138, 0.004623413, -0.02128601, -0.0044441223, 0.035949707, -0.005870819, -0.051635742, 0.032318115, -0.028823853, 0.011657715, -0.0014276505, 0.019088745, 0.043426514, 0.0051002502, -0.010391235, -0.009727478, -0.023773193, -0.0032424927, -0.004261017, -0.0143585205, -0.00315094, 0.0025520325, 0.015945435, 0.0010433197, 0.02583313, 0.018997192, 0.01058197, -0.012077332, -0.0146102905, 0.04058838, 0.017684937, 0.059051514, 0.0015525818, 0.012626648, 0.021957397, -0.0345459, -0.004333496, -0.015235901, -0.01689148, 0.02470398, -0.008758545, 0.00036931038, 0.048736572, -0.043060303, 0.0119018555, 0.008270264, -0.01626587, -0.008895874, -0.011222839, -0.032318115, -0.008743286, -0.0006227493], \"0\": 0.1988180669314965, \"1\": 0.09782235778920775, \"Source\": \"Existing\"}, {\"query\": \" i'd like the lowest fare from denver to pittsburgh\", \"query_embed\": [0.0016708374, 0.015625, -0.029022217, 0.037597656, -0.0107421875, -0.009010315, 0.016052246, -0.04937744, -0.024841309, 0.043701172, -0.036376953, -0.008163452, 0.015594482, -0.02243042, 0.022491455, -0.013374329, -0.00283432, -0.0010242462, -0.008964539, -0.029052734, 0.016540527, -0.018005371, -0.044158936, -0.012969971, -0.0077056885, 0.07067871, -0.036193848, -0.037384033, -0.004917145, -0.015899658, -0.011657715, 0.028289795, 0.00440979, -0.02809143, 0.07305908, 0.07067871, 0.0010490417, 0.021957397, 0.07220459, -0.07342529, 0.02331543, -0.010116577, -0.024475098, 0.010848999, -0.058654785, -0.01687622, 0.026367188, 0.017120361, 0.039215088, -0.0501709, 0.018981934, -0.0016975403, 0.036590576, -0.04534912, -0.041290283, 0.016784668, 0.0670166, 0.030654907, 0.007019043, -0.08782959, -0.045898438, 0.05722046, 0.04776001, 0.078125, 0.025344849, -0.028015137, -4.762411e-05, 0.0127334595, 0.040161133, 0.07159424, 0.027282715, -0.0029182434, 0.018554688, 0.00070238113, 0.00082206726, -0.02507019, 0.012969971, -0.0015850067, 0.006816864, 0.006996155, -0.06726074, 0.0023097992, -0.04550171, -0.01802063, -0.0029697418, 0.020126343, -0.030899048, -0.013572693, 0.018310547, -0.041534424, 0.0028324127, 0.039886475, -0.04421997, 0.035858154, -0.023529053, -0.032562256, 0.008430481, 0.015419006, -0.02279663, -0.084472656, -0.011871338, -0.024536133, -0.0947876, 0.017532349, 0.017501831, -0.042297363, 0.020828247, -0.021972656, 0.048950195, 0.0105896, -0.04812622, 0.13012695, 0.0155181885, 0.017242432, -0.010986328, -0.037750244, -0.030685425, 0.023376465, -0.02319336, 0.011390686, -0.000895977, 0.035461426, -0.0048217773, 0.01777649, -0.037384033, -0.0032234192, -0.009140015, -0.029769897, 0.032104492, -0.025924683, -0.0019874573, 0.036376953, -0.0064735413, -0.012550354, -0.01008606, 0.0052604675, 0.016342163, 0.002708435, -0.016586304, -0.018173218, -0.004447937, -0.026351929, 0.02104187, -0.0074806213, -0.05407715, 0.0076408386, 0.0109939575, 0.025909424, -0.017944336, -0.059143066, 0.00043082237, -0.012413025, -0.018295288, 0.05596924, 0.050994873, 0.046783447, 0.034851074, 0.0028572083, -0.007583618, 0.035736084, 0.03326416, 0.006324768, -0.0047416687, 0.05041504, 0.051483154, -0.019958496, 0.024917603, 0.016204834, 0.009429932, 0.034240723, -0.0014448166, 0.028274536, -0.04449463, -0.01739502, 0.010665894, -0.0070381165, 0.004852295, 0.049621582, -0.0056037903, -0.0052948, 0.025512695, -0.033294678, 0.053894043, 0.006614685, -0.0435791, 0.02243042, 0.004173279, 0.047088623, 0.0062026978, 0.016326904, -0.0007658005, 0.024169922, -0.021316528, -0.033203125, -0.031021118, -0.0031490326, 0.01234436, 0.011749268, -0.017807007, 0.035949707, -0.044891357, 0.03643799, -0.024093628, 0.03643799, 0.036071777, 0.014175415, 0.0137786865, 0.0067596436, 0.027816772, 0.06945801, -0.027069092, -0.0058288574, 0.013877869, -0.02722168, 0.010688782, -0.008979797, -0.03527832, -0.0574646, -0.012817383, -0.031402588, -0.005077362, 0.003419876, -0.03643799, 0.009628296, 0.0045166016, 0.016113281, -0.017074585, 0.00068998337, 0.02418518, 0.021499634, 0.043640137, 0.012199402, 0.018676758, 0.027496338, -0.039398193, 0.02204895, 0.03704834, 0.10424805, -0.041259766, -0.027618408, -0.0014419556, 0.025558472, -0.036621094, 0.025436401, 0.019958496, 0.01586914, 0.003145218, 0.034301758, 0.03427124, 0.022369385, 0.027374268, -0.047180176, 0.036712646, -0.006767273, 0.056549072, -0.0051727295, 0.017364502, 0.05331421, -0.04751587, 0.038726807, -0.020355225, 0.08850098, 0.03591919, 0.009597778, -0.005657196, -0.004989624, 0.012336731, 0.0184021, 0.010223389, 0.016906738, -0.007423401, -0.057159424, 0.009315491, -0.019256592, -0.058013916, 0.022125244, -0.0015563965, 0.013420105, 0.014442444, -0.02267456, 0.016204834, 0.074523926, 0.05307007, -0.015388489, -0.0134887695, 0.028198242, 0.007286072, -0.014122009, -0.019851685, -0.008110046, 0.033325195, 0.019943237, 0.007041931, 0.001405716, 0.029190063, -0.00894928, -0.022415161, 0.007446289, 0.014198303, 0.01108551, -0.07019043, 0.031555176, 0.020477295, -0.02798462, 0.006313324, 0.045288086, -0.0063438416, -0.0009498596, -0.0011758804, 0.009353638, -0.03982544, 0.014389038, 0.02885437, -0.057891846, 0.05392456, 0.009437561, -0.0064811707, 0.0234375, -0.021316528, -0.0051994324, 0.011360168, -0.023864746, -0.03778076, -0.019012451, -0.032043457, 0.011108398, -0.027008057, -0.014839172, 0.032440186, -0.00022697449, -0.0513916, -0.004497528, -0.045043945, -0.0042648315, -0.014060974, -0.013618469, 0.0038776398, 0.0033283234, -0.011245728, 0.013786316, 0.024429321, -0.031311035, 0.0034065247, -0.017623901, 0.02999878, -0.041015625, -0.060791016, 0.0073776245, 0.022842407, 0.020690918, -0.034606934, 0.0036201477, -0.029891968, 0.010185242, 0.0058135986, 0.015312195, 0.026535034, -0.019470215, 0.012077332, -0.04547119, -0.04232788, 0.051757812, -0.030410767, 0.014663696, 0.016845703, -0.051361084, 0.0041389465, 0.030517578, -0.010627747, -0.0011940002, 0.03552246, -0.033721924, 0.013763428, -0.009010315, -0.032409668, -0.033203125, 0.04876709, -0.019424438, 0.006336212, 0.025772095, 0.028030396, 0.011779785, -0.0010185242, -0.031082153, 0.0029296875, 0.009384155, -0.014175415, 0.0184021, 0.020462036, 0.008979797, -0.0038471222, 0.02897644, 0.01776123, -0.043945312, -0.0041770935, 0.01586914, 0.027816772, 0.03173828, 0.016418457, -0.033935547, -0.004360199, -0.019302368, -0.022109985, -0.005680084, 0.015625, -0.07885742, 0.02281189, -0.030960083, 0.02746582, 0.03451538, 0.0016736984, -0.027557373, 0.010253906, -0.039031982, 0.0030117035, 0.00055646896, 0.026473999, 0.01902771, -0.007965088, -0.06359863, -0.009346008, 0.030426025, -0.013038635, -0.008102417, -0.030715942, -0.021728516, 0.021057129, 0.056671143, -0.042114258, 0.008430481, 0.0011119843, -0.04534912, -0.028320312, -0.043182373, 0.0075569153, 0.022537231, -0.0024986267, 0.06915283, -3.9935112e-05, 0.0024356842, -0.055541992, -0.026641846, 0.04675293, 0.056121826, 0.040771484, 0.0014333725, -0.029190063, -0.04711914, -0.046905518, 0.045806885, -0.03793335, 0.026763916, -0.03704834, 0.02960205, -0.013221741, -0.0017757416, -0.012969971, 0.029769897, 0.008651733, 0.02949524, 0.021026611, -0.022872925, 0.020477295, 0.013008118, -0.011146545, -0.0043258667, 0.010284424, 0.00868988, -0.039154053, 0.025436401, 0.015388489, 0.005672455, 0.015319824, -0.013465881, -0.032073975, -0.04840088, 0.05130005, 0.013549805, 0.025604248, -0.059509277, -0.02619934, -0.0093688965, 0.028060913, -0.0019931793, 0.027297974, 0.009765625, -0.011291504, 0.03274536, 0.010574341, -0.044799805, -0.030441284, -0.055267334, -0.0009937286, -0.0059013367, -0.036956787, -0.0039253235, 0.0006117821, 0.03262329, -0.016189575, -0.044403076, -0.08258057, 0.01751709, 0.0107803345, 0.02331543, -0.018493652, -0.038513184, 0.014678955, 0.010093689, 0.04534912, 0.014427185, 0.033813477, 0.037109375, 0.017822266, -0.017166138, -0.014884949, -0.012069702, 0.020187378, -0.066589355, 0.0141067505, 0.020812988, 0.018875122, 0.02545166, 0.009559631, 0.042907715, -0.01651001, 0.006401062, -0.03881836, -0.00484848, 0.001291275, -0.086242676, 0.01411438, 0.01424408, 0.029312134, 0.09649658, -0.02420044, 0.060180664, -0.014770508, -0.02104187, 0.0034923553, -0.036987305, 0.015716553, -0.011253357, -0.05419922, -0.009315491, -0.02204895, 0.016036987, -0.009864807, 0.06323242, 0.027633667, 0.0055236816, 0.02671814, 0.002286911, 0.006843567, -0.03677368, -0.047180176, 0.041015625, 0.026123047, -0.013893127, -0.016708374, -0.003446579, -0.04550171, -0.004180908, -0.010406494, 0.04776001, -0.0026302338, 0.04006958, -0.01701355, -0.011894226, -0.009819031, -0.025421143, -0.050689697, -0.020095825, -0.034423828, -0.044647217, -0.0060539246, 0.0143966675, 0.008621216, 0.018234253, -0.007648468, -0.055755615, -0.00067329407, 0.007534027, 0.019119263, -0.0005412102, -0.045715332, 0.020843506, 0.01626587, -0.019882202, -0.011177063, 0.04058838, 0.071777344, -0.040863037, 0.001950264, -0.060699463, -0.020614624, -0.0033855438, -0.020828247, 0.0057792664, 0.00944519, 0.02494812, -0.013381958, 0.025787354, 0.012611389, -0.005012512, -0.03387451, 0.057800293, 0.044647217, -0.029647827, 0.011451721, 0.04638672, 0.0061416626, -0.01763916, -0.0033683777, 0.012710571, 0.013923645, -0.0069885254, -0.023391724, -0.008155823, -0.017868042, 0.0090408325, 0.019805908, -0.0440979, 0.026611328, 0.000872612, 0.006416321, -0.010185242, -0.008377075, 0.013809204, -0.0019550323, -0.002286911, 0.0046539307, 0.0057144165, -0.062805176, 0.028137207, 0.00095653534, -0.015853882, -0.042388916, -0.0073623657, 0.0026474, -0.06524658, -0.0056877136, -0.036193848, -0.07116699, -0.020187378, -0.01878357, -0.05480957, -0.05102539, 0.00459671, -0.009094238, -0.00091409683, -0.011978149, -0.0028743744, -0.046936035, 0.025360107, 0.060821533, -0.0026798248, -0.033996582, 0.059020996, -0.0259552, -0.01222229, -0.051849365, 0.00051546097, 0.044647217, -0.04083252, -0.037719727, -0.027862549, 0.037994385, 0.004096985, -0.02003479, -0.04119873, -0.0030345917, 0.021575928, 0.024978638, -0.03665161, 0.0023021698, -0.03778076, -0.016540527, 0.013183594, 0.008232117, -0.052001953, -0.0030269623, -0.040039062, 0.018600464, 0.023239136, -0.02444458, 0.042266846, 0.0021648407, -0.05343628, -0.0062065125, -0.036254883, -0.009101868, 0.07269287, -0.04864502, 0.04309082, 0.0015478134, -0.00869751, 0.0019893646, 0.08380127, 0.038513184, -0.026992798, 0.020492554, 0.038513184, -0.020584106, 0.036987305, -0.013175964, 0.012290955, 0.029937744, 0.044281006, -0.014045715, -0.0038051605, 0.031402588, 0.014877319, -0.033081055, -0.010894775, -0.008331299, -0.036865234, -0.04385376, 0.031021118, 0.0031814575, 0.0039749146, -0.026672363, -0.011886597, -0.006286621, -0.004043579, 0.013931274, 0.010475159, -0.038848877, 0.013999939, 0.027450562, 0.038757324, 0.0056495667, 0.007083893, -0.04434204, 0.0003771782, 0.04071045, -0.022338867, 0.0036373138, 0.027282715, 0.0022621155, 0.012809753, -0.03161621, -0.0028457642, 0.025360107, -0.0042686462, -0.034118652, 0.011405945, -0.023651123, 0.03152466, -0.009239197, -0.038604736, 0.015411377, 0.056732178, 0.07800293, -0.042266846, -0.004043579, -0.105407715, 0.012939453, -0.0015029907, 0.07672119, -0.060394287, 0.013153076, 0.013641357, -0.0032672882, 0.024307251, -0.05053711, 0.014533997, -0.08972168, -0.0803833, 0.014503479, -0.021484375, -0.017562866, 0.049682617, -0.019592285, -0.0075912476, -0.003030777, -0.045898438, 0.05026245, -0.02229309, 0.0029335022, 0.020767212, -0.029327393, 0.0032672882, -0.10614014, -0.00061416626, 0.026535034, 0.024475098, 0.03765869, -0.033111572, 0.018707275, -0.012878418, 0.00044822693, 0.012794495, 0.014968872, 0.037841797, 0.013435364, 0.013298035, 0.024780273, 0.010368347, 0.025604248, -0.0012722015, -0.021728516, -0.050048828, 0.03289795, 0.03692627, 0.0065994263, -0.02217102, -0.0072021484, 0.060272217, 0.022720337, 0.00079345703, 0.033111572, 0.017929077, 0.00063562393, 0.014907837, -0.030166626, 0.052490234, 0.050354004, 0.012825012, -0.009674072, 0.0065727234, -0.01979065, 0.025909424, -0.0034732819, 0.03652954, 0.04019165, 1.6510487e-05, 0.017959595, -0.014564514, 0.009262085, -0.016860962, 0.019073486, 0.0035381317, -0.07873535, -0.009613037, -0.031311035, -0.0046157837, 0.015174866, 0.017745972, 0.04257202, 0.017501831, 0.006389618, -0.022750854, 0.0031375885, 0.021652222, -0.028839111, 0.0013751984, 0.008399963, -0.019744873, 0.035888672, 0.029571533, 0.039520264, -0.010536194, -0.003829956, -0.011024475, 0.019241333, 0.01322937, -0.010124207, -0.04397583, -0.026794434, -0.028244019, -0.033691406, 0.012969971, -0.021194458, 0.030853271, 0.025970459, 0.01235199, -0.00258255, 0.0029792786, -0.041931152, -0.004589081, 0.008720398, 0.02760315, 0.051635742, -0.003917694, -0.0053863525, 0.05606079, -0.01398468, -0.009902954, 0.015640259, 0.024765015, -0.011917114, -0.1048584, -0.0020809174, 0.006061554, -0.009849548, -0.10253906, 0.072021484, -0.0057411194, 0.034179688, -0.006877899, 0.0069465637, -0.016921997, 0.010513306, 0.019729614, -0.036010742, -0.026260376, -0.009300232, -0.02166748, -0.044189453, 0.019714355, -0.041015625, -0.018432617, 0.03086853, -0.0748291, -0.052490234, 0.0026817322, -0.0033493042, 0.012252808, -0.044891357, -0.010612488, 0.06359863, 0.012138367, -0.011932373, 0.03086853, -0.008934021, -0.036499023, 0.008804321, 0.0024986267, 0.03656006, -0.03060913, -0.009666443, -0.016448975, 0.014190674, 0.0024909973, -0.0071144104, 0.010543823, -0.014877319, -0.02116394, 0.08996582, -0.07562256, -0.026504517, -0.023086548, -0.0057907104, -0.011878967, 0.062927246, -0.03640747, 0.009498596, 0.037597656, -0.015899658, 0.0001322031, 0.022705078, -0.027862549, 0.018005371, -0.010475159, -0.03326416, -0.015106201, -0.0032596588, -0.048553467, -0.022705078, 0.03387451, 0.07287598, -0.019042969, 0.031143188, -0.018798828, 0.06719971, 0.07043457, -0.021209717, 0.039642334, -0.015090942, -0.04638672, -0.003944397, -0.01386261, 0.015304565, -0.025527954, -0.041992188, 0.024154663, -0.022140503, 0.011413574, 0.010520935, -0.00071907043, 0.026062012, 0.00283432, -0.013084412, -0.009857178, 0.016159058, 0.0048446655, 0.03366089, -0.0078125, -0.04647827, 0.045410156, -0.020095825, 0.03942871, 0.01537323, 0.045715332, 0.0004787445, -0.022079468, -0.008872986, -0.022277832, -0.010192871, -0.004184723, -0.025131226, 0.041107178, -0.010620117, 0.005519867, 0.0048980713, 0.031097412, -0.007850647, 0.022323608, 0.0061836243, -0.015579224, -0.05996704, 0.003627777, 0.0473938, -0.0032691956, 0.003528595, -0.047698975, 0.040893555, -0.009262085, 0.0046043396, 0.0054473877, -0.021469116, 0.054107666, 0.012245178, -0.028411865, 0.034484863, -0.056854248, 0.038726807, -0.015296936, 0.024627686, 0.021987915, 0.013664246, -0.0107040405, -0.024353027, 0.0011348724], \"0\": 0.11289781486706908, \"1\": 0.2077062534634788, \"Source\": \"Existing\"}, {\"query\": \" show me a list of ground transportation at boston airport\", \"query_embed\": [0.037628174, -0.007888794, -0.0024662018, -0.01133728, -0.020004272, -0.024124146, 0.01109314, -0.030380249, -0.04498291, 0.028747559, -0.0284729, -0.0038528442, -0.041931152, -0.008201599, -0.0035743713, -0.06329346, 0.042297363, 0.015808105, 0.026855469, -0.006214142, -0.0009870529, 0.05307007, -0.05593872, 0.10119629, 0.00065231323, 0.012283325, -0.06286621, 0.018218994, -0.019119263, -0.01473999, -0.00042533875, 0.03817749, 0.023117065, -0.009284973, -0.010894775, 0.07293701, 0.00907135, 0.005493164, 0.026260376, -0.023345947, 0.021011353, -0.040405273, 0.03741455, -0.06555176, -0.0018367767, -0.028747559, 0.075805664, 0.0053138733, 0.020568848, -0.021057129, -0.012565613, 0.0009355545, -0.01222229, 0.033935547, -0.02029419, 0.027313232, 0.010284424, 0.0028438568, 0.016616821, -0.041625977, -0.010139465, 0.026473999, 0.028457642, 0.046325684, -0.005809784, -0.027740479, 0.007358551, 0.0034427643, -0.0019454956, 0.0020503998, 0.027236938, 0.0009860992, 0.00050354004, 0.03942871, 0.015777588, -0.08081055, 0.015304565, -0.012863159, -0.012245178, 0.07556152, -0.01953125, 0.032958984, -0.031234741, -0.002872467, -0.025497437, 0.01663208, -0.024261475, -0.010116577, 0.009338379, -0.00057697296, 0.0036697388, 0.022216797, -0.030227661, 0.052764893, 0.015808105, -0.03930664, -0.016464233, -0.016998291, -0.013908386, -0.04586792, 0.0067710876, -0.040924072, -0.03894043, 0.014587402, -0.000269413, -0.03111267, 0.033294678, -0.024291992, 0.029296875, 0.009407043, -0.04949951, 0.12286377, 0.02368164, 0.019424438, -0.01979065, -0.03579712, -0.032684326, 0.025360107, -0.008659363, -0.0064468384, 0.040374756, 0.06298828, -0.031585693, -0.017456055, 0.008132935, 0.011375427, -0.018585205, -0.028060913, 0.030715942, -0.053833008, 0.009490967, 0.06665039, -0.07342529, -0.05960083, -0.047973633, 0.023712158, -0.041503906, 0.027404785, 0.0036449432, -0.027023315, 0.047698975, -0.02217102, 0.050354004, 0.039978027, -0.02357483, 0.052368164, 0.03390503, -0.0077323914, 0.014816284, -0.09484863, -0.012107849, 0.006690979, -0.03164673, 0.08306885, 0.0011634827, 0.04699707, 0.022659302, -0.0053863525, -0.006111145, 0.018081665, -0.008415222, -0.0053596497, 0.007293701, -0.022613525, -0.002521515, -0.02128601, 0.0059928894, 0.015357971, 0.026062012, 0.025665283, 0.0007314682, -0.0027618408, -0.01939392, -0.021377563, -0.010063171, -0.00737381, -0.0141067505, -0.00166893, 0.022094727, 0.059631348, 0.024810791, -0.023208618, -0.0040512085, 0.029541016, -0.07159424, 0.0491333, -0.009086609, 0.03866577, 0.026870728, -0.0015506744, 0.02758789, 0.04547119, -0.027893066, -0.025360107, 0.017120361, 0.011878967, -0.03540039, -0.014190674, 0.003753662, 0.011390686, -0.027816772, 0.031188965, -0.0013971329, -0.0069084167, 0.070373535, -0.024597168, 0.05532837, -0.0037403107, 0.049468994, 0.013763428, -0.01953125, -0.024017334, 0.027175903, -0.043518066, -0.049804688, 0.018951416, -0.024642944, -0.06793213, -0.0028018951, -0.0423584, 0.006965637, 0.015106201, -0.025497437, 0.015808105, -0.052978516, 0.040374756, -0.038970947, 0.032165527, -0.05368042, 0.040863037, 0.015319824, -0.004890442, 0.030212402, 0.07659912, -0.036315918, 4.3213367e-05, 0.021438599, 0.050872803, -0.0013303757, -0.001039505, 0.0050964355, -0.018630981, -0.042755127, 0.026519775, -0.02758789, 0.02784729, 0.015975952, 0.012779236, 0.028656006, 0.070617676, 0.0054473877, 0.021697998, 0.003982544, 0.048828125, 0.009796143, 0.041290283, 0.04248047, 0.03805542, 0.0031375885, 0.037597656, -0.02734375, 0.040893555, -0.009391785, -0.014320374, -0.024505615, 0.0053710938, 0.0131073, 0.013153076, 0.008918762, -0.00047636032, 0.00068616867, -0.03363037, 0.0070381165, 0.037017822, 0.011604309, 0.0001732111, -0.01524353, -0.015472412, 0.041229248, 0.017242432, 0.019088745, 0.015296936, 0.06201172, 0.016357422, 0.012329102, 0.06237793, 0.048309326, 0.027877808, -0.027023315, -0.061676025, -0.008224487, 0.017990112, -0.0024719238, 0.0030326843, -0.0044441223, -0.020004272, -0.025131226, 0.04638672, -0.017532349, -0.010772705, -0.040985107, 0.017181396, -0.0011291504, -0.026855469, -0.006034851, 0.034606934, -0.018676758, -0.0024280548, -0.00032281876, -0.012374878, -0.018829346, 0.02255249, 0.014434814, 0.02458191, -0.010093689, -0.037109375, -0.01675415, 0.004333496, -0.05102539, -0.050750732, -0.012420654, 0.008926392, -0.007865906, -0.025985718, -0.0022029877, -0.008125305, -0.029647827, 0.0029029846, -0.0141067505, -0.021972656, -0.028961182, -0.058441162, -0.041900635, -0.008071899, 0.0014781952, -0.0022182465, 0.022903442, 0.06842041, 0.01878357, -0.01259613, 0.03302002, 0.0072631836, -0.025665283, -0.0025119781, 0.034576416, -0.01876831, -0.037322998, 0.00029110909, 0.035003662, 0.024932861, -0.03805542, 0.004047394, -0.021148682, 0.014083862, 0.009513855, -0.058776855, -0.0022830963, 0.027374268, -0.042785645, -0.05065918, 0.0020656586, 0.051757812, 0.018615723, -0.04373169, -0.03201294, -0.06274414, -0.01953125, 0.034179688, -0.014556885, -0.023468018, -0.030593872, -0.027404785, 0.008148193, 0.021408081, 0.011413574, 0.027908325, 0.0053710938, -0.025848389, -0.02835083, -0.0045776367, 0.034851074, 0.008033752, 0.05368042, 0.017730713, -0.0025539398, 0.032562256, -0.009338379, 0.031677246, -0.02418518, -0.010597229, -0.03552246, 0.045654297, 0.01083374, -0.020248413, 0.027374268, 0.021514893, -0.048187256, -0.00052309036, -0.06536865, 0.017044067, -0.060760498, -0.013755798, -0.0005145073, -0.042999268, -0.0077285767, -0.05154419, -0.04019165, -0.016983032, 0.024627686, 0.042114258, 0.009017944, -0.031707764, 0.040740967, -0.051208496, -0.0023918152, 0.0013198853, -0.021972656, 0.008544922, -0.015556335, 0.009880066, 0.028793335, -0.020523071, -0.007381439, 0.012619019, 0.03237915, 0.009307861, 0.021911621, 0.0031032562, 0.02079773, 0.005279541, 0.0287323, -0.024108887, 0.006038666, 0.020889282, -0.0017929077, 0.044158936, -0.027023315, 0.006072998, 0.0025367737, -0.03744507, 0.005001068, 0.0036334991, -0.019485474, 0.0057258606, 0.0003039837, -0.022583008, 0.02116394, -0.015777588, -0.06842041, 0.0016403198, -0.025726318, 0.036010742, -0.0005774498, 0.03302002, 0.012702942, -0.0071487427, -0.0059928894, 0.030029297, -0.021942139, 0.027313232, 0.037628174, 0.0019950867, -0.027938843, -0.0023899078, -0.014266968, -0.010948181, 0.036712646, 0.013397217, -0.021408081, 0.02104187, 0.027816772, 0.018508911, -0.005329132, -0.020645142, -0.015563965, -0.040985107, 0.0473938, 0.024215698, -0.0049438477, -0.06665039, 0.028396606, -0.020965576, 0.046020508, 0.023040771, 0.03201294, 0.0037002563, -0.039855957, 0.025970459, 0.016921997, 0.03225708, -0.048919678, 0.04598999, 0.011222839, 0.018447876, 0.011833191, 0.0309906, -0.017074585, 0.04458618, -0.007980347, -0.02407837, -0.032226562, -0.01751709, -0.0071105957, 0.013595581, -0.00073194504, -0.04663086, 0.031921387, 0.033721924, 0.046417236, 0.062805176, 0.034698486, 0.027267456, 0.021697998, -0.0054855347, -0.032104492, 0.057128906, -0.052093506, -0.04522705, -0.013420105, 0.00806427, 0.03753662, 0.072021484, 0.007007599, 0.012542725, 0.039794922, -0.020187378, -0.032165527, 0.000787735, -0.003042221, -0.045043945, -0.017059326, -0.020111084, 0.014961243, 0.04284668, 0.042236328, 0.03845215, -0.04257202, 0.054901123, 0.0068092346, -0.064697266, -0.031280518, -0.0038394928, -0.002817154, 0.0023708344, -0.030075073, 0.0010433197, -0.018234253, 0.07366943, -0.015129089, 0.030914307, 0.04840088, 0.0007247925, -0.02961731, -0.0099487305, -0.002626419, -0.020553589, -0.04260254, -0.012611389, -0.029281616, 0.011703491, 0.009025574, 0.034606934, -0.024017334, -0.010253906, 0.02067566, 0.0037059784, 0.015640259, -0.01474762, 0.026153564, -0.08050537, -0.015235901, -0.05029297, -0.014953613, -0.007007599, 0.012794495, 0.040100098, 0.0051345825, -0.021316528, -0.01499176, -0.057250977, 0.004219055, 0.055755615, 0.045013428, 0.017150879, -0.02079773, 0.007911682, -0.010375977, -0.039215088, -0.042114258, -0.015205383, 0.029891968, -0.0077705383, 0.015617371, -0.04272461, -0.032470703, -0.011421204, -0.020431519, 0.009498596, 0.01612854, 0.0028686523, -0.017654419, -0.013870239, 0.0060272217, 0.0030841827, 0.053985596, -0.009613037, 0.015655518, -0.017593384, -0.00048613548, -0.04537964, 0.011497498, -0.027114868, -0.009140015, 0.044769287, -0.013664246, -0.06341553, -0.07281494, 0.06982422, 0.0826416, 0.007286072, 0.04058838, 0.010940552, 0.003396988, 0.00642395, 0.018692017, -0.06439209, -0.018371582, 0.039978027, 0.023269653, -0.050567627, 0.02142334, -0.028839111, -0.046875, -0.043823242, -0.018951416, 0.0670166, -0.033843994, -0.024536133, -0.007820129, 0.0112838745, -0.004558563, -0.008956909, -0.026657104, -0.038726807, 0.029907227, -0.05368042, -0.038146973, 0.03201294, -0.024780273, 0.011581421, -0.044769287, -0.00088500977, 0.005596161, -0.03375244, 0.018539429, -0.005680084, -0.0637207, 0.023651123, -0.050231934, -0.008232117, -0.020004272, 0.0046310425, -0.008804321, 0.036895752, -0.045684814, -0.0046691895, 0.043395996, -0.00059747696, -0.008422852, -0.046142578, -0.016342163, 0.0046539307, 0.0058631897, -0.043304443, -0.029754639, 0.014389038, -0.013755798, 0.0042533875, 0.019119263, 0.0032234192, 0.005332947, 0.060791016, 0.048034668, -0.0008511543, -0.039215088, 0.053466797, 0.019012451, -0.023895264, -0.026748657, -0.048614502, -0.05267334, 0.025299072, -0.040740967, -0.01373291, 0.012504578, -0.014961243, 0.019897461, -0.004589081, -0.010391235, -0.029327393, 0.036865234, 0.005554199, 0.010437012, 0.0070343018, 0.0053901672, 0.050689697, 0.0074882507, 0.022262573, -0.0043563843, -0.00070524216, 0.032806396, 0.021530151, -0.052703857, -0.028671265, 0.022155762, 0.013137817, 0.02571106, 0.046142578, 0.038360596, -0.0357666, -0.0065574646, 0.015037537, -0.0105896, -0.021316528, -0.002275467, 0.017105103, -0.03665161, 0.044311523, 0.006008148, -0.0006661415, -5.364418e-05, -0.0014820099, 0.029922485, -0.027145386, -0.007827759, -0.040863037, -0.01739502, 0.028640747, -0.03753662, 0.003271103, -0.017364502, 0.00035524368, 0.008476257, -0.013145447, 0.033477783, 0.047912598, 0.017547607, 0.05178833, 0.018417358, 0.03289795, 0.036987305, -0.0069351196, -0.043182373, -0.04055786, -0.028305054, -0.07171631, -0.042999268, 0.05404663, 0.007663727, 0.008293152, -0.004348755, 0.0026626587, -0.0236969, 0.014053345, -0.07720947, -0.031982422, -0.057556152, -0.018249512, -0.028274536, -0.0018291473, 0.0062561035, 0.053955078, -0.029769897, -0.03857422, -0.030181885, -0.031341553, 0.001584053, 0.00969696, 0.005443573, 0.033599854, -0.017562866, 0.09411621, -0.013916016, -0.016693115, 0.0025978088, -0.0027160645, 0.027435303, 0.0026874542, 0.008865356, 0.028335571, -0.015090942, 0.02180481, 0.021270752, 0.0027751923, 0.04849243, 0.017242432, -0.028427124, -0.0011577606, 0.040405273, -0.0007328987, -0.033996582, -0.042510986, -0.011528015, -0.0015869141, 0.013977051, -0.026168823, -0.019577026, 0.026306152, 0.010055542, -0.01826477, 0.0154418945, 0.008552551, 0.0038337708, -0.011276245, -0.03326416, 0.00082826614, -0.06008911, -0.023590088, -0.0026283264, -0.02947998, 0.018661499, 0.026229858, -0.007785797, -0.0039978027, -0.019485474, 0.011108398, 0.057006836, -0.058166504, -0.0017328262, 0.016586304, 0.011436462, -0.011711121, -0.10455322, -0.033294678, -0.03024292, -0.00046133995, 0.03186035, -0.040222168, 0.07293701, 0.023132324, 0.0020065308, -0.02407837, 0.001080513, -0.009162903, -0.019546509, 0.01537323, 0.009971619, -0.010719299, 0.04663086, 0.04788208, 0.03652954, -0.0025310516, 0.024841309, -0.012077332, -0.002216339, 0.002046585, 0.03704834, -0.02267456, -0.025939941, -0.014602661, -0.029510498, 0.009765625, 0.0019779205, 0.032073975, -0.017089844, 0.02508545, -0.040405273, -0.0068092346, -0.017089844, 0.020614624, 0.030334473, 0.027267456, 0.008506775, -0.021774292, -0.037963867, 0.053100586, -0.025344849, 0.021240234, 0.008979797, -0.043151855, -0.011634827, -0.096069336, -0.008308411, -0.005832672, -0.029556274, -0.08532715, 0.061950684, 0.017959595, -0.005104065, -0.019958496, -0.042266846, -0.017593384, 0.014732361, -0.03326416, -0.05432129, -0.054748535, 0.012046814, 0.003955841, -0.028259277, -0.004043579, -0.022338867, -0.04840088, 0.06323242, -0.07342529, 0.021835327, -0.012390137, -0.00095653534, -0.029754639, -0.02406311, -0.0068740845, 0.05508423, 0.036102295, -0.008377075, -0.0046310425, -0.029159546, -0.023590088, 0.025466919, 0.032989502, 0.04260254, 0.072265625, -0.045318604, -0.017242432, -4.5835972e-05, -0.0064697266, 0.038970947, -0.0052452087, 0.018081665, -0.02355957, 0.045928955, -0.0024147034, 0.01991272, -0.011062622, -0.044708252, 0.03717041, 0.013137817, -0.024871826, -0.032806396, 0.023025513, 0.01184845, 0.013549805, 0.0025901794, -0.03466797, -0.032196045, -0.0234375, -0.024978638, 0.047546387, 0.02142334, -0.03793335, 0.032196045, 0.012191772, 0.043395996, 0.013069153, 0.01977539, -0.0050582886, 0.010635376, 0.03665161, -0.054870605, -0.02218628, -0.044921875, 0.01940918, -0.0062217712, -0.0007419586, 0.031036377, -0.008506775, -0.049560547, 0.015151978, -0.028167725, 0.006919861, 0.051116943, 0.06286621, 0.004825592, 0.036071777, -0.03277588, 0.06829834, 0.01386261, -0.045043945, 0.0009264946, -0.046173096, -0.009277344, 0.012619019, 0.0014982224, 0.042236328, 0.004875183, 0.06463623, 0.053375244, 0.024246216, -0.031097412, -0.026611328, 0.001958847, -0.031188965, -0.017730713, -0.0082092285, -0.0118255615, -0.03491211, 0.019195557, 0.03265381, 0.004470825, 0.019195557, 0.015609741, -0.01826477, -0.030426025, 0.036346436, 0.04437256, 0.043762207, -0.03994751, 0.07489014, 0.05999756, -0.0052986145, -0.0015420914, -0.022384644, 0.005847931, 0.007896423, -0.012207031, 0.0038833618, 0.041748047, -0.07537842, 0.01914978, -0.03842163, -0.030731201, -0.0052719116, -0.0062675476, 0.0034980774, -0.049621582, 0.013465881], \"0\": -0.30747904485174615, \"1\": -0.2336125218765404, \"Source\": \"Existing\"}, {\"query\": \" show me boston ground transportation\", \"query_embed\": [0.05130005, -0.004463196, 0.017196655, -0.011123657, -0.033447266, -0.018203735, -0.0039253235, -0.04437256, -0.03060913, 0.042236328, -0.041931152, -0.012901306, -0.036590576, 0.00082206726, -0.02960205, -0.061553955, 0.057922363, -0.011161804, 0.017852783, 0.0021324158, -0.017120361, 0.042388916, -0.027740479, 0.08630371, 0.0026931763, -0.010253906, -0.019424438, 0.001748085, -0.0049819946, -0.031677246, -0.005722046, 0.035614014, 0.024017334, -0.022644043, 0.00983429, 0.055511475, 0.016830444, -0.00957489, 0.004257202, -0.015525818, 0.0050468445, -0.035491943, 0.007904053, -0.042938232, -0.020080566, -0.046966553, 0.056671143, 0.0043945312, 0.013870239, 0.013496399, -0.00856781, -0.0034255981, -0.014961243, 0.07757568, -0.011817932, 0.032562256, -0.024337769, 0.009536743, 0.008132935, -0.014320374, -0.0022678375, 0.019317627, 0.02909851, 0.018356323, -0.010421753, -0.02609253, 0.0065994263, -0.0017108917, 0.01727295, 0.007446289, 0.020370483, 0.006134033, -0.00087594986, 0.019500732, 0.027053833, -0.07110596, 0.029541016, -0.01322937, -0.03274536, 0.060272217, -0.026489258, 0.025405884, -0.017349243, 0.013587952, -0.022232056, 0.0158844, -0.02319336, -0.023773193, 0.014907837, -0.019958496, 0.0109939575, 0.048980713, -0.04119873, 0.048736572, 0.011985779, -0.055908203, -0.029434204, -0.034484863, -0.023773193, -0.028274536, 0.0052261353, -0.05291748, 0.004283905, -0.00027251244, -9.0658665e-05, -0.018859863, 0.027435303, -0.056365967, 0.023605347, 0.013298035, -0.035339355, 0.13012695, 0.01007843, 0.006526947, 0.011268616, -0.005455017, -0.018341064, 0.018661499, -0.033477783, -0.017089844, 0.0335083, 0.052856445, -0.03967285, -0.018997192, 0.013282776, 0.018188477, -0.007499695, -0.015945435, 0.035949707, -0.08380127, 0.007045746, 0.058929443, -0.10870361, -0.048797607, -0.029876709, 0.03543091, -0.058807373, -0.035888672, 0.006713867, -0.032714844, 0.012031555, -0.025238037, 0.062805176, 0.013435364, -0.04333496, 0.049743652, 0.037322998, -0.020370483, -0.005695343, -0.08892822, -0.01727295, 0.0115737915, -0.03387451, 0.09484863, 0.010307312, 0.06512451, 0.003232956, 0.00080251694, 0.011642456, 0.03845215, -0.006263733, 0.0054626465, 0.028564453, -0.011039734, 0.019332886, -0.03225708, 0.010536194, 0.025360107, 0.01902771, 0.040161133, -0.018493652, 0.007904053, -0.0060806274, -0.014427185, -0.013122559, -0.012283325, -0.0073013306, 0.015853882, 0.033447266, 0.03250122, 0.028182983, -0.01727295, 0.021636963, 0.022781372, -0.054779053, -0.00070381165, -0.006866455, 0.013053894, 0.029830933, 0.0074310303, 0.011779785, 0.03918457, -0.019821167, -0.0052871704, 0.004009247, -0.012260437, -0.037078857, -0.017486572, -0.004081726, 0.0109939575, -0.0317688, 0.037963867, -0.010650635, 0.005619049, 0.07672119, -0.022994995, 0.05456543, -0.0020523071, 0.06021118, 0.018737793, -0.025161743, -0.013587952, 0.032562256, -0.072265625, -0.05154419, 0.011497498, -0.044952393, -0.07885742, -0.016845703, -0.01838684, 0.0061912537, 0.028945923, -0.018539429, 0.036102295, -0.038146973, 0.025482178, -0.03253174, 0.006046295, -0.024841309, 0.01725769, 0.04486084, 0.0013313293, 0.018432617, 0.07006836, -0.020095825, -0.008720398, 0.029678345, 0.020431519, 0.010444641, 0.006549835, 0.009056091, -0.007827759, -0.033599854, 0.02911377, -0.024719238, 0.021102905, 0.011260986, 0.021224976, 0.028320312, 0.04812622, -0.0003299713, -0.008277893, 0.0063819885, 0.036590576, 0.017929077, 0.027542114, 0.041809082, 0.014854431, -0.0057029724, 0.0362854, -0.010528564, 0.04534912, -0.024642944, -0.014228821, -0.033721924, -0.0026245117, 0.0041046143, 0.021575928, -0.0002387762, -0.0046043396, 0.012229919, -0.023376465, -0.0034923553, 0.036590576, 0.042388916, -0.003955841, -0.031051636, -0.012130737, 0.028152466, 0.01927185, 0.019058228, 0.012023926, 0.06939697, 0.01727295, 0.014762878, 0.048858643, 0.032714844, 0.008460999, -0.026138306, -0.054595947, 0.010940552, 0.009773254, -0.026733398, 0.025741577, -0.0055351257, -0.0064849854, -0.023361206, 0.04269409, -0.008522034, -0.024902344, -0.05593872, 0.012252808, 0.0054244995, -0.018661499, -0.0054969788, 0.036621094, 0.015914917, -0.014717102, -0.001039505, -0.0020427704, -0.009567261, 0.0256958, 0.0073394775, -0.0031795502, 0.004501343, -0.020812988, -0.013130188, -0.0211792, -0.037384033, -0.025177002, -0.0011377335, -0.0072250366, -0.030075073, -0.01586914, -0.0036945343, -0.009109497, -0.010009766, -0.0102005005, -0.04147339, -0.0053901672, -0.006088257, -0.033447266, -0.030090332, 0.03152466, 0.0061073303, 0.0020160675, 0.027450562, 0.02709961, 0.022125244, 0.0050201416, 0.050628662, 0.072143555, -0.012161255, -0.008850098, 0.01838684, -0.010169983, -0.03842163, -0.001329422, 0.0021629333, 0.026016235, -0.010375977, -0.014907837, -0.018585205, 2.527237e-05, 0.018600464, -0.038146973, -0.005191803, 0.0021839142, -0.018814087, -0.05645752, -0.0146484375, 0.045776367, 0.014007568, -0.02130127, -0.007827759, -0.070495605, -0.011360168, 0.0236969, -0.015258789, -0.027877808, 0.006095886, -0.021453857, -0.0053634644, 0.018966675, -0.0072402954, -0.0036792755, -0.018829346, -0.02947998, -0.04827881, -0.023483276, 0.06323242, 0.018096924, 0.051605225, 0.0031967163, 0.031402588, 0.008163452, -0.010391235, 0.024291992, 0.006614685, 0.007411957, -0.027557373, -0.0030117035, 0.005569458, -0.015975952, 0.04147339, 0.010215759, -0.04449463, 0.009803772, -0.10070801, 0.021591187, -0.059265137, -0.028747559, -0.021469116, -0.039642334, -0.00699234, -0.06866455, -0.04244995, -0.037139893, 0.015472412, 0.051483154, 0.0075035095, -0.009338379, 0.04284668, -0.036468506, -0.006839752, 0.004043579, 0.0008611679, 0.0023994446, 0.01007843, -0.011520386, 0.008094788, -0.019165039, -0.02394104, 0.0029830933, 0.028015137, -0.0027542114, 0.042388916, 0.003786087, 0.004589081, 0.008903503, 0.03375244, -0.03302002, 0.005420685, 0.023483276, -0.0073051453, 0.056732178, -0.02394104, 0.02619934, 0.0039520264, -0.037231445, 0.0055236816, -0.011833191, -0.024307251, 0.011238098, -0.007797241, -0.019104004, 0.0126571655, -0.02986145, -0.048980713, 0.034057617, -0.06060791, 0.015129089, -0.03375244, 0.03564453, -0.005355835, 0.02558899, -0.0058021545, 0.014419556, 0.022979736, 0.044403076, 0.066589355, 0.01977539, -0.08099365, 0.029281616, -0.003419876, 0.0016374588, 0.026321411, 0.007484436, -0.011932373, 0.015472412, 0.034454346, -0.0054092407, -0.019439697, -0.015670776, -0.010154724, -0.034057617, 0.03265381, 0.008964539, 0.0022010803, -0.04626465, 0.015594482, -0.0098724365, 0.03643799, 0.012542725, 0.020858765, 0.018798828, -0.041259766, 0.03463745, -0.002981186, 0.024032593, -0.05319214, 0.056427002, 0.0008072853, 0.0013656616, -0.014442444, 0.014389038, -0.0053863525, 0.0021343231, 0.019210815, -0.023208618, -0.060424805, 0.014160156, 0.019042969, -0.015541077, 0.0032215118, -0.05508423, 0.027145386, 0.026901245, 0.05960083, 0.06817627, 0.027923584, 0.026977539, 0.0129776, -0.0060653687, -0.026473999, 0.04650879, -0.04095459, -0.0115356445, -0.02041626, -0.00076818466, 0.05291748, 0.033172607, 0.031082153, 0.023956299, 0.03878784, -0.008811951, -0.017059326, -0.019348145, -0.0023727417, -0.050933838, -0.029449463, -0.016952515, 0.0064086914, 0.04916382, 0.03567505, 0.04135132, -0.028793335, 0.038116455, 0.020812988, -0.03466797, -0.023788452, -0.025909424, -0.009628296, 0.013595581, -0.0069503784, -0.006832123, 0.011299133, 0.0904541, -0.0012407303, 0.041229248, 0.05392456, 0.0039787292, -0.024673462, -0.0074653625, -0.0039520264, 0.0019159317, -0.028518677, -0.020690918, -0.057861328, 0.02293396, 0.00868988, 0.028198242, -0.03387451, -0.0035076141, 0.0069351196, 0.0013055801, 0.03250122, -0.013397217, 0.039245605, -0.059539795, -0.0178833, -0.048309326, 0.0056610107, 0.0012664795, 0.0053520203, 0.030578613, 0.008613586, -0.0015106201, -0.007419586, -0.07067871, -0.0067863464, 0.030090332, 0.064697266, 0.0088272095, -0.021270752, -0.0058555603, 0.009971619, -0.034240723, -0.037628174, -0.005077362, 0.010467529, -0.0007376671, 0.026519775, -0.040802002, -0.03616333, -0.03604126, -0.022888184, -0.016067505, 0.01436615, -0.0069503784, -0.00027370453, -0.004337311, 0.007980347, -0.0045547485, 0.013046265, -0.012504578, 0.025817871, -0.0059890747, -0.0154418945, -0.03503418, 0.027679443, -0.007347107, -0.020263672, 0.036621094, -0.029159546, -0.023727417, -0.05126953, 0.06329346, 0.070739746, -0.0126953125, 0.041900635, 0.0015087128, 0.0034503937, 0.023010254, -0.0058517456, -0.07556152, -0.006298065, 0.016906738, 0.013000488, -0.039367676, 0.0076026917, -0.014732361, -0.049072266, -0.06829834, -0.014793396, 0.0836792, -0.037353516, -0.04525757, -0.0158844, 0.049041748, 0.0034599304, -0.007972717, -0.016464233, -0.060180664, 0.029205322, -0.047698975, -0.034698486, 0.037078857, -0.03933716, -0.008392334, -0.03427124, -0.0007123947, 0.011543274, -0.019332886, 0.014945984, -0.016220093, -0.044433594, 0.018203735, -0.05218506, -0.015129089, 0.023284912, 0.043701172, -0.035217285, 0.059539795, -0.023757935, -0.02293396, 0.061798096, -0.0040779114, 0.016098022, -0.057678223, -0.027694702, 0.04107666, -0.020751953, -0.023147583, 0.0134887695, 0.0066490173, -0.0003578663, 0.028076172, 0.017105103, -0.013458252, 0.003774643, 0.029190063, 0.029296875, -0.0048828125, -0.021652222, 0.04711914, 0.00919342, -0.017288208, -0.017745972, -0.042999268, -0.038330078, 0.035858154, -0.04714966, -0.041290283, 0.0009660721, -0.018661499, 0.0049591064, -0.013687134, 0.013008118, -0.0066871643, 0.029281616, -0.01524353, 0.031097412, 0.0035324097, 0.021438599, 0.03189087, -0.00459671, 0.0062065125, 0.008430481, 0.01574707, 0.028060913, -0.008384705, -0.042877197, -0.0209198, 0.04727173, 0.009765625, 0.019973755, 0.050598145, 0.032348633, -0.05041504, -0.016937256, -0.010124207, -0.0049095154, -0.005306244, 0.013496399, 0.010093689, -0.04345703, 0.0345459, 0.016555786, 0.018173218, 0.009559631, 0.0048103333, 0.03640747, -0.018310547, -0.0039901733, -0.034729004, -0.015167236, 0.022598267, -0.035339355, -0.0048103333, -0.026611328, 0.010505676, 0.00035977364, -0.00023531914, 0.026931763, 0.05682373, 0.010147095, 0.040985107, 0.034820557, 0.033721924, 0.043762207, 0.010879517, -0.021240234, -0.02507019, -0.012207031, -0.053344727, -0.04763794, 0.025253296, 0.017913818, -0.003932953, 0.0010824203, 0.0038986206, -0.027435303, 0.008384705, -0.09100342, -0.05630493, -0.06011963, -0.026229858, -0.023910522, -0.0010356903, 0.017974854, 0.04699707, -0.039276123, -0.076660156, -0.01789856, -0.0034732819, -0.015899658, 0.045776367, 0.00020885468, 0.049194336, -0.03652954, 0.0982666, -0.044403076, -0.028717041, 0.006664276, -0.020553589, 0.04071045, 0.010986328, 0.0259552, 0.07080078, -0.021133423, 0.012359619, 0.0026474, 0.0077285767, 0.04135132, 0.0017662048, -0.019973755, 0.005744934, 0.020843506, -0.012588501, -0.024368286, -0.062286377, -0.046844482, -0.037750244, -0.0017957687, -0.062347412, -0.026062012, -0.0034656525, 0.0011138916, -0.0045776367, 0.0023880005, 0.013320923, -0.0012702942, 0.013885498, -0.051635742, 0.004348755, -0.027313232, -0.031829834, 0.015159607, -0.0067329407, -0.007621765, 0.029891968, 0.046295166, -0.040863037, -0.020843506, 0.0541687, 0.0289917, -0.0869751, -0.0021629333, 0.008865356, 0.028259277, 0.010093689, -0.044830322, -0.024475098, -0.009933472, 0.024780273, 0.0038089752, 0.00077199936, 0.02507019, 0.010322571, 0.028152466, -0.012107849, -0.005470276, 0.016830444, -0.028808594, 0.019195557, 0.015365601, -0.03012085, 0.06585693, 0.014450073, 0.058532715, -0.0036010742, 0.005897522, -0.011787415, 0.006034851, -0.0066986084, 0.030441284, -0.023757935, -0.03213501, -0.027404785, -0.0154953, 0.0135269165, 0.0132751465, -0.0016736984, -0.021957397, 0.028640747, -0.05657959, 0.010551453, -0.022033691, 0.045684814, 0.037963867, 0.035583496, 0.017807007, -7.492304e-05, -0.022018433, 0.044555664, -0.0016059875, -0.020599365, 0.033416748, -0.03652954, -0.011199951, -0.109680176, -0.027252197, 0.002210617, -0.041931152, -0.093566895, 0.06201172, 0.033477783, -0.02180481, -0.036132812, -0.029403687, -0.0037651062, 0.02168274, -0.018234253, -0.05203247, -0.07635498, 0.027389526, 0.03250122, -0.032592773, -0.0074424744, -0.018814087, -0.06329346, 0.07171631, -0.053375244, 0.020965576, -0.007167816, -0.00258255, -0.019241333, -0.027664185, -0.02835083, 0.058135986, 0.026931763, -0.021743774, -0.00053453445, -0.030853271, -0.033294678, 0.021255493, 0.03366089, 0.028793335, 0.049621582, -0.048034668, -0.04727173, 0.009986877, -0.0071754456, 0.062408447, 0.019348145, 0.025512695, -0.0657959, 0.044433594, -0.008132935, 0.01663208, 0.013160706, 0.025482178, -0.027526855, 0.051513672, -0.015419006, -0.007133484, 0.015090942, -0.008880615, 0.024917603, 0.018341064, -0.04083252, -0.01574707, -0.010848999, -0.039245605, 0.04837036, 0.018951416, -0.053833008, 0.022445679, -0.0048675537, 0.04473877, 0.01020813, 0.01474762, -0.00030446053, 0.008270264, 0.02999878, -0.056243896, -0.03173828, -0.029571533, 0.056243896, -0.019363403, -0.00013196468, 0.025756836, -0.03189087, -0.035461426, -0.025924683, -0.031463623, 0.031188965, 0.020614624, 0.040222168, -0.017440796, 0.010375977, -0.022323608, 0.037139893, 0.024734497, -0.03543091, 0.0021438599, -0.04711914, 0.0033130646, 0.021133423, -0.003929138, 0.058776855, 0.0057678223, 0.038330078, 0.022521973, 0.036865234, -0.032714844, -0.018035889, -0.0074882507, -0.0118637085, -0.009796143, -0.0047836304, 0.013160706, -0.0110321045, 0.00032162666, 0.00982666, 0.014022827, 0.0143966675, 0.006500244, -0.027557373, -0.021942139, 0.025772095, 0.024749756, 0.023040771, 0.0069618225, 0.038909912, 0.039215088, -0.0005493164, -0.015991211, -0.06945801, -0.004245758, -0.010948181, -0.041809082, 0.02470398, 0.0129776, -0.07470703, -0.004802704, -0.047729492, -0.06878662, -0.04333496, -0.017471313, -0.013381958, -0.04458618, 0.006954193], \"0\": -0.43358685545501885, \"1\": -0.1638281374546542, \"Source\": \"Existing\"}, {\"query\": \" of all airlines which airline has the most arrivals in atlanta\", \"query_embed\": [0.02079773, 0.0024147034, -0.021148682, -0.004096985, -0.016845703, -0.018753052, 0.00504303, -0.016571045, -0.0463562, 0.009346008, 0.0027179718, -0.025009155, -0.03564453, -0.047698975, 0.0146102905, -0.04043579, 0.028167725, 0.01197052, 0.0418396, -0.0041503906, -0.0072631836, 0.02319336, 0.022064209, 0.011657715, -0.00038957596, 0.04058838, -0.09893799, -0.014129639, -0.03237915, -0.037872314, -0.0023498535, 0.07324219, 0.045013428, -0.02229309, 0.017608643, 0.10046387, 0.027648926, -0.00894165, 0.049224854, -0.044311523, 0.024230957, -0.013221741, 0.02217102, -0.01651001, -0.018005371, -0.0071258545, 0.031280518, 0.015823364, 0.029159546, -0.053466797, -0.0062179565, 0.00806427, 0.00013101101, 0.010803223, -0.013511658, 0.026748657, 0.027359009, 4.887581e-05, 0.014122009, -0.06781006, -0.051971436, 0.018737793, 0.061462402, 0.044006348, 0.00907135, -0.0209198, 0.0046539307, 0.021759033, 0.011383057, 0.022369385, 0.014343262, -0.00050258636, 0.007396698, 0.02796936, -0.03149414, -0.06213379, 0.03237915, -0.0107421875, 0.01651001, 0.00970459, 0.0070724487, 0.0026016235, 0.015380859, -0.02973938, -0.0012493134, -0.0055160522, -0.005432129, -0.015586853, 0.0132369995, -0.02670288, -0.004470825, 0.0635376, -0.02154541, 0.016342163, -0.03778076, -0.0010852814, 0.0020427704, 0.024215698, -0.047027588, -0.058288574, -0.042816162, 0.001958847, -0.10498047, 0.013641357, -0.0062828064, -0.018066406, 0.018096924, 0.062438965, 0.0446167, 0.029006958, -0.014450073, 0.03265381, 0.0287323, 0.039215088, 0.0041007996, -0.064453125, -0.041748047, 0.039642334, -0.03475952, 0.00093221664, 0.025939941, 0.07647705, -0.02885437, -0.050323486, -0.01777649, -0.018203735, -0.010543823, -0.03225708, 0.0050086975, 0.018615723, 0.017562866, 0.0569458, -0.087646484, -0.08081055, -0.08648682, 0.010887146, 2.3186207e-05, -0.01852417, -0.01133728, -0.027313232, 0.04348755, -0.04348755, -0.02734375, 0.025146484, -0.00011456013, 0.02708435, 0.024261475, 0.0042037964, 0.024017334, -0.06323242, -0.008552551, -0.005016327, -0.011940002, 0.014022827, 0.05029297, 0.029815674, -0.051483154, 0.019607544, 0.042541504, 0.06945801, 0.00881958, -0.012275696, -0.0070724487, 0.012504578, 0.011993408, 0.023101807, 0.021118164, 0.014175415, 0.017349243, 0.021362305, -0.024047852, 0.0099487305, 0.0005431175, 0.005748749, 0.017471313, 0.011558533, -0.006652832, 0.0012931824, 0.0014705658, 0.01361084, 0.024459839, -0.030960083, -0.03866577, 0.042907715, -0.030166626, -0.010513306, -0.0010757446, 0.015625, 0.037078857, 0.01184082, 7.170439e-05, 0.010612488, -0.050842285, -0.02053833, -0.00018048286, 0.043518066, -0.010681152, 0.026504517, 0.01789856, -0.019439697, -0.012130737, -0.03152466, 0.049560547, 0.002122879, 0.06329346, -0.018981934, 0.024841309, -0.0025482178, 0.03326416, 0.042175293, -0.010269165, 0.019470215, -0.0065956116, -0.05392456, -0.032714844, -0.009147644, 0.040802002, -0.061431885, -0.020523071, -0.031982422, -0.036193848, 0.038604736, -0.061401367, 0.04284668, -0.0020103455, 0.01474762, -0.040771484, -0.012626648, -0.019638062, -9.679794e-05, 0.0067825317, 0.06060791, -0.0034370422, 0.011993408, -0.044921875, 3.015995e-05, 0.030532837, 0.035064697, 0.016067505, 0.0102005005, -0.012161255, -0.05215454, -0.045318604, 0.03173828, -0.070495605, -0.007144928, 0.009185791, 0.024337769, 0.004234314, 0.04345703, 0.017608643, 0.008483887, 0.011001587, 0.05090332, 0.021591187, 0.02168274, 0.06188965, 0.038085938, -0.032928467, 0.065979004, -0.03439331, 0.04623413, -0.015014648, 0.008972168, 0.0034732819, 0.0017337799, 0.004169464, 0.017623901, 0.0131073, 0.011787415, 0.007762909, -0.0713501, 0.024658203, 0.043914795, 0.0030326843, 0.04348755, 0.016860962, -0.030014038, 0.017990112, 0.02583313, -0.0028896332, 0.032409668, 0.028518677, 0.004169464, -0.0058555603, 0.029144287, 0.034698486, 0.016113281, -0.0018110275, 0.021774292, 0.03152466, 0.0020065308, -0.0005235672, 0.010429382, 0.008201599, -0.011940002, -0.0211792, 0.07611084, -0.019256592, 0.025146484, -0.093444824, 0.022598267, 0.03427124, -0.005493164, -0.025054932, 0.037109375, -0.02255249, -0.013076782, -0.010139465, -0.010910034, -0.033599854, 0.020202637, 0.021987915, 0.051330566, -0.011199951, -0.038269043, -0.009361267, 0.034454346, -0.029586792, -0.020065308, -0.024108887, -0.00062942505, -0.007575989, -0.033996582, -0.00062799454, 0.004928589, -0.048065186, 0.008132935, -0.014816284, -0.012275696, 0.034606934, -0.011360168, 0.00032019615, -0.01739502, 0.009765625, -0.012779236, 0.011985779, 0.068237305, 0.0047683716, -0.033355713, 0.010612488, -0.083618164, -0.025527954, 0.010749817, 0.020843506, -0.025238037, -0.021270752, -0.0011281967, -0.003643036, -0.007507324, -0.006462097, -0.0087509155, -0.017745972, -0.02079773, 0.053222656, -0.050811768, -0.02017212, 0.02557373, 0.026763916, -0.036376953, 0.043701172, 0.030776978, 0.007167816, -0.045898438, 0.015586853, -0.066101074, -0.03137207, -0.0059165955, -0.012580872, -0.015274048, -0.0012760162, -0.06616211, 0.05340576, 0.020950317, 0.013549805, -0.024841309, 0.044433594, -0.022750854, 0.011756897, 0.018081665, 0.034973145, 0.021453857, 0.032104492, 0.0019664764, 0.02218628, 0.009239197, -0.020080566, 0.04736328, -0.04837036, -0.022903442, -0.061553955, 0.040252686, 0.03866577, -0.007827759, 0.02330017, 0.0060043335, -0.041900635, 0.012176514, -0.06982422, 0.0009241104, 0.005428314, -0.019973755, -0.009719849, -0.0009417534, -0.011856079, -0.016479492, 0.016204834, -0.008163452, 0.043945312, -0.02128601, 0.01576233, 0.009376526, 0.039520264, -0.054534912, -0.02848816, -0.009384155, -0.030761719, 0.014656067, -0.025558472, -0.020828247, -0.00011998415, 0.01524353, -0.010971069, -0.00012898445, 0.014335632, 0.05065918, -0.018814087, -0.017242432, 0.009513855, -0.006313324, -0.0065612793, -0.016159058, -0.0033454895, -0.008720398, -0.03152466, 0.0003709793, -0.02230835, 0.03314209, 0.013244629, -0.02961731, -0.02192688, -0.02986145, -0.024093628, 0.013442993, 0.025741577, -0.0552063, -0.044311523, -0.0131073, 0.007709503, -0.017990112, -0.037506104, 0.019104004, 0.0501709, 0.010498047, -0.018981934, -0.043151855, -0.029785156, 0.03012085, -0.021697998, 0.014183044, 0.0105896, -0.016204834, 0.009765625, -0.010063171, -0.019424438, -0.0037002563, 0.000121712685, 0.009605408, -0.035614014, 0.015266418, 0.02017212, 0.058502197, -0.013694763, -0.010734558, 0.018035889, -0.046447754, 0.0050964355, 0.05239868, -0.060699463, -0.06384277, 0.047790527, -0.036010742, 0.09020996, 0.048736572, 0.025772095, 0.016159058, -0.052825928, 0.024261475, 0.03286743, 0.007411957, 0.013771057, 0.0006957054, 0.030853271, -0.00051784515, 0.0044937134, -0.0013055801, -0.015823364, 0.053253174, -0.030258179, -0.06304932, -0.03427124, -0.020706177, -0.044769287, 0.029785156, -0.022384644, -0.0065307617, 0.040618896, 0.028518677, 0.017425537, 0.018356323, 0.04083252, 0.003917694, -0.021224976, -0.015731812, -0.030944824, 0.021575928, -0.008773804, -0.093688965, 0.019088745, 0.04248047, -0.03643799, 0.0028839111, 0.010826111, 0.047302246, 0.015853882, -0.015174866, -0.010498047, 0.029403687, -0.009254456, -0.05886841, -0.0024166107, 0.016693115, 0.02319336, 0.048736572, 0.026351929, 0.052337646, -0.014442444, 0.0062332153, -0.02520752, -0.05404663, -0.020050049, -0.025421143, -0.027893066, -0.014266968, -0.0027561188, 0.03643799, 0.03186035, 0.07397461, 0.030014038, 0.00869751, -0.008300781, -0.0009918213, -0.041137695, -0.017608643, -0.017242432, 0.01524353, -0.026916504, 0.011688232, -0.030578613, -0.007827759, 0.02418518, 0.013496399, -0.022583008, -0.008903503, 0.029571533, -0.0025939941, 0.018859863, -0.030593872, 0.024963379, -0.052581787, -0.024597168, -0.041870117, 0.029205322, 0.015129089, -0.0029945374, 0.0056037903, 0.036376953, -0.002445221, 0.025558472, -0.030166626, -0.018096924, 0.0513916, 0.049194336, 0.06286621, -0.037750244, 0.03479004, -0.023284912, 0.0029144287, -0.037902832, 0.008552551, 0.02079773, -0.009361267, -0.00010305643, -0.013465881, -0.011360168, -0.015914917, 0.05493164, -0.02909851, -0.0031738281, 0.0029697418, 0.023925781, -0.03567505, -0.00774765, -0.015029907, 0.044128418, -0.049591064, 0.011375427, 0.021072388, 0.008110046, 0.031799316, -0.0027828217, -0.019332886, -0.00415802, 0.021759033, 0.012702942, -0.01576233, -0.030197144, 0.03729248, 0.051757812, -0.004283905, 0.020095825, 0.011909485, 0.016540527, -0.001411438, 0.038726807, -0.052520752, -0.025421143, -0.0056266785, 0.013618469, -0.009674072, -0.005680084, -0.0016374588, -0.044525146, -0.007949829, 0.015396118, -0.0074691772, -0.0026226044, 0.019485474, 0.038513184, -0.015289307, 0.0121154785, 0.027709961, 0.022033691, -0.0010213852, -0.019073486, -0.03125, -0.00010621548, -0.0044822693, -0.019927979, 0.0014867783, -0.06274414, -0.019607544, -0.018554688, -0.031234741, 0.016586304, -0.029418945, -0.062194824, -0.0020179749, 0.04586792, 0.007827759, -0.0071144104, 0.089782715, -0.03677368, 0.04837036, -0.023620605, 0.0087890625, -0.007785797, 0.008880615, -0.02104187, -0.028518677, -0.00018429756, -0.03390503, 0.03152466, -0.009796143, -0.0048675537, 0.03137207, -0.010810852, -0.0014591217, 0.026779175, -0.009246826, 0.026931763, 0.036071777, 0.010513306, 0.007873535, -0.025848389, 0.07611084, -0.024841309, -0.054779053, -0.029724121, -0.0231781, -0.06958008, 0.032958984, -0.044311523, 0.043182373, -0.020492554, -0.029129028, 0.00409317, -0.08099365, 0.01411438, -0.033081055, 0.028457642, -0.034729004, 0.006752014, -0.0569458, -0.0016918182, 0.030334473, -0.0078048706, 0.020690918, -0.002407074, -0.005241394, 0.018875122, 0.0135650635, -0.05731201, -0.024993896, 0.035003662, -0.0010538101, 0.03692627, 0.074645996, 0.04888916, -0.06604004, 0.016403198, -0.015350342, 0.04598999, -0.02897644, 0.009651184, 0.022079468, 0.021499634, 0.030807495, 0.015670776, 0.029510498, -0.014564514, 0.004234314, -0.04168701, -0.002538681, 0.04284668, -0.061187744, 0.0017652512, 0.04055786, 0.033721924, -0.031341553, -0.02420044, -0.013618469, 0.025466919, 0.019836426, -0.002204895, 0.030685425, 0.0075683594, -0.010795593, 0.029434204, 0.018356323, 0.04748535, -0.013626099, -0.04663086, -0.047088623, -0.0010242462, -0.07208252, -0.033203125, 0.03564453, -0.0039634705, 0.009468079, -0.0051651, -0.008323669, 0.0061454773, 0.068847656, -0.06903076, 0.030349731, -0.08770752, -0.05215454, -0.0059814453, 0.0022010803, 0.022979736, 0.07867432, -0.006164551, -0.02331543, -0.05935669, -0.04751587, 0.04107666, -0.029159546, 0.004261017, 0.028778076, -0.0011472702, 0.020645142, -0.033721924, -0.011474609, -0.027160645, -0.009315491, 0.06384277, 0.0025806427, -0.0368042, 0.023117065, 0.021652222, 0.04434204, 0.032684326, 0.028289795, 0.004722595, -0.0032253265, 0.042022705, 0.026855469, 0.046661377, 0.008354187, -0.026046753, -0.0513916, 0.0036334991, 0.04019165, 0.005432129, -0.04168701, -0.038116455, 0.07727051, 0.033447266, -0.048309326, 0.02217102, -0.0010261536, 0.027191162, 0.045135498, -0.011177063, 0.0619812, -0.0115737915, -0.030548096, 0.00059223175, -0.011230469, -0.0256958, 0.0054092407, -0.005252838, 0.025497437, -0.0016336441, -0.0051498413, 0.040802002, -0.010322571, -0.011947632, 0.006378174, 0.021652222, -0.0121536255, -0.059326172, -0.0131073, -0.025939941, 0.0002799034, 0.05996704, -0.05014038, 0.066345215, 0.023422241, 0.035186768, -0.012619019, 0.04159546, 0.014099121, -0.00687027, 0.021881104, -0.011054993, -0.04824829, -0.0010662079, 0.012672424, 0.04159546, -0.015182495, -0.0051651, 0.009979248, 0.0112838745, 0.014823914, 0.03591919, -0.04034424, -0.025497437, -0.03074646, -0.033721924, -0.0058937073, -0.036193848, 0.034240723, 0.002916336, 0.01576233, -0.007003784, 0.0028953552, -0.0082092285, 0.008483887, 0.012519836, -0.010253906, -0.0010919571, -0.012916565, -0.028152466, 0.0055503845, 0.0036411285, 0.026351929, -0.017532349, -0.023025513, -0.0256958, -0.03652954, 0.028945923, 0.042877197, 0.0019721985, -0.10455322, 0.012649536, 0.035949707, 0.009750366, -0.018875122, -0.047973633, 0.004989624, 0.00028252602, -0.003232956, 0.008979797, 0.0057029724, 0.033721924, -0.004802704, -0.03945923, -0.018081665, -0.014656067, -0.031402588, 0.06124878, -0.06744385, -0.05178833, 0.0026187897, 0.0051498413, -0.0051231384, -0.0446167, -0.037872314, 0.024169922, -0.027297974, -0.031066895, -0.0025157928, 0.00031018257, 0.0048675537, -0.042388916, -0.0154953, -0.019622803, 0.010299683, -0.033203125, -0.03692627, 0.01828003, 0.014801025, 0.051208496, 0.003232956, 0.033691406, -0.038635254, 0.0047569275, 0.005645752, 0.017364502, -0.010726929, -0.054992676, 0.07067871, -0.0039787292, -0.014839172, -0.032104492, 0.019943237, -0.0031108856, -0.03857422, -0.017044067, -0.008125305, -0.016113281, 0.0028419495, -0.028396606, 0.043426514, -0.012939453, -0.02633667, 0.04107666, 0.035247803, 0.049560547, -0.016921997, -0.00013029575, -0.0063095093, 0.004550934, 0.055999756, -0.023025513, -0.06384277, -0.01574707, 0.015716553, -0.0206604, 0.028549194, 0.06072998, 0.034118652, -0.052001953, -0.0015096664, -0.0340271, -0.021636963, -0.0022144318, -0.018920898, 0.024871826, 0.03591919, -0.0340271, 0.057281494, 0.06347656, -0.03189087, 0.006389618, -0.025939941, 0.010879517, -0.0073127747, -0.004032135, 0.031433105, 0.006336212, -0.008743286, 0.06951904, 0.020187378, -0.035705566, -0.024475098, -0.023910522, -0.033599854, -0.010231018, -0.051116943, 0.0077819824, -0.039123535, 0.011550903, 0.039093018, 0.015716553, -0.0011425018, -0.0064201355, -0.042114258, -0.006088257, 0.029006958, 0.035949707, 0.044281006, -0.03289795, 0.016967773, 0.012535095, -0.006160736, 0.034454346, -0.029586792, 0.01776123, 0.030807495, 0.015792847, -0.029937744, 0.016708374, -0.06088257, 0.027252197, -0.0044059753, 0.010177612, 0.008659363, -0.0055770874, -0.014930725, -0.028579712, 0.0026493073], \"0\": 0.031919728868735495, \"1\": -0.16507007503088594, \"Source\": \"Existing\"}, {\"query\": \" what ground transportation is available in boston\", \"query_embed\": [0.03277588, 0.0019550323, 0.0017251968, -0.021881104, -0.017868042, -0.011184692, 0.007385254, -0.02368164, -0.010597229, 0.047912598, -0.044677734, -0.02519226, -0.017745972, 0.0045204163, -0.03817749, -0.051483154, 0.06384277, -0.008728027, 0.031341553, -0.016555786, 0.0010051727, 0.041503906, -0.027801514, 0.13293457, 0.011390686, 0.010009766, -0.039764404, 0.004512787, 0.01713562, 0.0072021484, 0.0036296844, 0.0051574707, 0.03363037, -0.034820557, 0.015960693, 0.07409668, 0.009727478, -0.017486572, 0.0061683655, -0.004547119, 0.008514404, -0.024307251, 0.032836914, -0.029632568, -0.01676941, -0.024383545, 0.050933838, -0.0063591003, -0.0015697479, 0.004135132, -0.035369873, -0.028030396, -0.037322998, 0.04421997, -0.012634277, 0.008201599, 0.0029029846, -0.011695862, 0.005180359, -0.03793335, -0.0005168915, 0.042755127, 0.039764404, 0.051727295, 0.00058460236, -0.031097412, 0.038604736, 0.011871338, 0.0001231432, 0.00036358833, 0.021743774, 0.012687683, 0.008422852, 0.01576233, 0.035705566, -0.06274414, 0.012832642, -0.0027561188, -0.014625549, 0.047302246, -0.010803223, 0.019973755, -0.023468018, -0.011146545, -0.0010118484, 0.012817383, -0.007221222, -0.021347046, 0.008964539, -0.019042969, 0.0011672974, 0.005722046, -0.05206299, 0.07635498, 0.025802612, -0.033111572, -0.05758667, -0.06768799, -0.018234253, -0.02659607, 0.0036334991, -0.0546875, 0.02128601, -0.0061454773, 0.0074310303, -0.038848877, 0.040222168, -0.09436035, 0.009269714, 0.005142212, -0.052703857, 0.10974121, 0.017349243, -0.00079250336, 0.006362915, 0.011260986, -0.0035247803, 0.018249512, -0.015220642, -0.017913818, 0.040161133, 0.04724121, -0.03375244, -0.041931152, 0.010696411, -0.017730713, -0.035705566, -0.002729416, 0.026809692, -0.049102783, 0.00080394745, 0.043640137, -0.08251953, -0.054473877, -0.04058838, 0.0115737915, -0.047668457, 0.013618469, 0.0096588135, -0.061279297, 0.076171875, -0.029312134, 0.020004272, 0.06347656, -0.018310547, 0.033966064, 0.030593872, -0.0032596588, -0.004875183, -0.056396484, -0.009635925, 0.026824951, -0.016586304, 0.07940674, -0.011108398, 0.022384644, 0.028717041, -0.022842407, -0.0013723373, -0.010246277, -0.0066833496, -0.008956909, 0.014480591, -0.0010604858, 0.008415222, -0.011383057, 0.005958557, 0.026123047, 0.011444092, 0.0022068024, -0.0209198, 0.04055786, -0.015098572, -0.028167725, 0.0059661865, -0.017059326, -0.0017766953, 0.026382446, 0.030227661, -0.024536133, 0.016204834, -0.0152282715, 0.029159546, 0.022201538, -0.064453125, 0.034973145, 0.0073432922, 0.043548584, 0.013458252, 0.009544373, 0.024658203, 0.047668457, -0.060760498, 0.02494812, -0.003250122, 0.00010955334, -0.02911377, -0.010238647, -0.005935669, 0.022979736, 0.03665161, 0.027908325, -0.009895325, -0.01008606, 0.04232788, -0.024520874, 0.029006958, -0.02748108, 0.070007324, 0.008651733, -0.029541016, -0.037628174, 0.032287598, -0.047973633, -0.05795288, 0.023208618, -0.029083252, -0.050354004, -0.0062179565, -0.043182373, 0.005947113, 0.014228821, -0.02633667, 0.019256592, -0.033325195, 0.043518066, -0.035705566, 0.027420044, -0.030639648, 0.047912598, 0.03515625, -0.02017212, 0.012466431, 0.052490234, -0.031097412, 0.0071411133, 0.030944824, 0.04360962, -0.007419586, -0.006011963, 0.015182495, -0.02279663, -0.066345215, 0.016571045, -0.03479004, -0.0043525696, -0.0043678284, 0.028305054, 0.013114929, 0.02027893, 0.033996582, -0.009773254, 0.012573242, 0.05697632, 0.017349243, 0.0287323, 0.040771484, 0.0077819824, 0.017608643, 0.02810669, -0.018463135, 0.05303955, -0.011955261, -0.0010738373, -0.031555176, -0.019851685, 0.015213013, 0.022094727, 0.009712219, -0.04244995, 0.012832642, 0.013893127, 0.014884949, 0.031234741, -0.008674622, -0.0020503998, 0.006187439, -0.0149383545, 0.037139893, 0.016662598, 0.017959595, 0.0013475418, 0.04977417, 0.009124756, 0.012214661, 0.05090332, 0.04840088, 0.03253174, -0.021499634, -0.0657959, -0.0015048981, -0.0025138855, -0.029067993, 0.012123108, 0.0046043396, -0.025787354, -0.032806396, 0.05697632, -0.0104522705, 0.003704071, -0.03503418, 0.031555176, -0.0007362366, 0.008735657, -0.0065841675, 0.0635376, -0.0088272095, 0.013694763, 0.013244629, -0.0006632805, -0.0006008148, 0.032806396, 0.0047187805, -0.009010315, 0.0027713776, -0.019454956, -0.016662598, -0.033966064, -0.04916382, -0.013435364, -0.030975342, -0.018188477, 0.0051193237, -0.024368286, 0.0062294006, -0.00061035156, -0.0079193115, 0.018432617, -0.026306152, -0.027740479, -0.023422241, -0.04714966, -0.04107666, 0.031402588, 0.011230469, 0.009773254, 0.01360321, 0.036132812, 0.015182495, 0.021713257, 0.050933838, 0.06048584, 0.0034313202, -0.019760132, 0.05569458, -0.032165527, -0.04031372, 0.0023956299, 0.034698486, 0.03326416, -0.03375244, 0.0029850006, -0.02279663, 0.022964478, 0.023803711, -0.03704834, 0.008384705, 0.015930176, -0.020751953, -0.045806885, -0.015899658, 0.016815186, 0.00157547, -0.015731812, 0.0063819885, -0.057647705, -0.033294678, 0.053710938, -0.01197052, -0.008506775, -0.00047683716, 0.00032258034, -0.012702942, 0.018875122, -0.016830444, 0.019088745, 0.010093689, -0.013320923, -0.03918457, -0.012634277, 0.0446167, -0.004020691, 0.07092285, -0.004585266, 0.0050239563, 0.018417358, -0.0027656555, 0.005104065, 0.0043296814, -0.004852295, -0.0041618347, 0.0075263977, 0.022644043, -0.016555786, 0.03439331, 0.015487671, -0.06185913, 0.00058555603, -0.08428955, 0.021575928, -0.011543274, -0.035064697, -0.016204834, -0.029953003, -0.017852783, -0.03933716, -0.022888184, -0.011932373, 0.033355713, 0.046936035, -0.00040626526, -0.015357971, 0.033447266, -0.03945923, -0.012748718, 0.007247925, 0.0007429123, 0.013923645, -0.003862381, -0.030166626, 0.011978149, -0.017547607, 0.0015735626, -0.0026474, 0.04348755, 0.042297363, 0.039398193, -0.015487671, 0.016342163, -0.008491516, 0.044769287, -0.027313232, 0.022460938, 0.055023193, -0.011390686, 0.051361084, -0.028213501, -0.010765076, 0.010787964, -0.06317139, 0.01802063, 0.0030136108, -0.018325806, 0.01889038, 0.0093307495, -0.047668457, 0.011009216, -0.02557373, -0.019805908, 0.009384155, -0.02017212, 0.010368347, 0.000729084, 0.01637268, -0.015365601, 0.029266357, -0.039215088, 0.014877319, -0.008987427, 0.03768921, 0.059295654, 0.004989624, -0.06896973, 0.010810852, -0.020614624, -0.009346008, 0.029800415, 0.0042381287, -0.0289917, 0.012969971, 0.021362305, 0.040283203, -0.010955811, -0.032287598, 0.020477295, -0.030410767, 0.012207031, 0.011451721, -0.0093688965, -0.04486084, 0.011276245, -0.011924744, 0.012519836, 0.006450653, 0.02720642, 0.0014152527, -0.023284912, 0.051483154, 0.0087890625, 0.043762207, -0.06713867, 0.07598877, -0.0090408325, 0.017425537, 0.006916046, 0.031585693, -0.0054969788, 0.02130127, 0.003458023, -0.04776001, -0.047851562, 0.0137786865, -0.018966675, 0.02645874, -0.01423645, -0.0602417, 0.026245117, -0.004096985, 0.036834717, 0.031463623, 0.023773193, 0.0112838745, 0.03768921, -0.0087509155, -0.021774292, 0.034576416, -0.031188965, 0.0138168335, -0.016616821, -0.013221741, 0.03616333, 0.0501709, 0.006038666, 0.03756714, 0.03845215, -0.032348633, -0.028411865, -0.010261536, -0.0061683655, -0.05633545, -0.028167725, -0.039245605, 0.015029907, 0.049041748, 0.02810669, 0.04989624, -0.039215088, 0.050201416, 0.027359009, -0.039886475, -0.034576416, -0.027069092, -0.014678955, 0.02293396, -0.018096924, -0.025970459, -0.03237915, 0.06286621, 0.021240234, 0.028900146, 0.041778564, -0.010276794, 0.012542725, 8.839369e-05, -0.021377563, 0.0011940002, -0.03186035, -0.016174316, -0.033966064, 0.042541504, 0.020065308, 0.039123535, -0.012069702, -0.022247314, 0.010139465, -0.0046806335, 0.02835083, -0.01838684, 0.06427002, -0.06945801, -0.018920898, -0.044891357, -0.03326416, -0.029296875, 0.024368286, 0.037963867, 0.011253357, -0.018447876, 0.01449585, -0.047790527, 0.011581421, 0.048339844, 0.048217773, 0.030029297, -0.043823242, -0.010765076, 0.028640747, -0.035247803, -0.04977417, -0.0014123917, 0.057922363, -0.018600464, 0.017486572, -0.038208008, -0.03793335, -0.025436401, -0.0030994415, 0.009536743, 0.018829346, 0.0026512146, -7.05719e-05, -0.005443573, 0.008598328, -0.012252808, 0.021484375, -0.031585693, 0.03161621, -0.051971436, -0.040161133, -0.03591919, 0.033599854, -0.0259552, 0.015853882, 0.022232056, 0.0020503998, -0.0021743774, -0.070007324, 0.078430176, 0.08001709, -0.007358551, 0.034454346, 0.011352539, -0.011688232, 0.009559631, 0.02166748, -0.11401367, -0.0071868896, 0.0058174133, 0.020446777, -0.029754639, -0.014389038, 0.0009484291, -0.06665039, -0.04006958, -0.021652222, 0.07519531, -0.04031372, -0.034240723, -0.004257202, 0.028671265, -0.011650085, -0.002199173, -0.014297485, -0.049987793, 0.02961731, -0.052978516, -0.035614014, 0.026947021, -0.047546387, -0.0013008118, -0.063964844, 0.025650024, 0.010986328, 0.011558533, 0.030700684, -0.01096344, -0.029388428, 0.0015478134, -0.043121338, -0.02494812, 0.0077056885, 0.019882202, -0.02279663, 0.02607727, -0.057617188, -0.031402588, 0.06628418, 0.019088745, -0.01864624, -0.053863525, 0.009643555, 0.0079193115, -0.01171875, -0.011978149, -0.0036849976, 0.029418945, 0.007106781, 0.017944336, 0.018081665, 0.008903503, -0.015388489, 0.011405945, 0.03945923, 0.011886597, -0.0357666, 0.035247803, 0.0043029785, -0.022216797, -0.00592041, -0.038513184, -0.026824951, 0.044769287, -0.040100098, -0.014450073, 0.016906738, 0.0049972534, 0.016311646, -0.0076560974, -0.0029087067, -0.026550293, 0.025634766, 0.0048713684, 0.04336548, 0.026382446, 0.029876709, 0.030212402, -0.015541077, -0.0042495728, 0.03793335, 0.026870728, 0.030776978, -0.008880615, -0.04257202, -0.0050086975, 0.0033283234, 0.016296387, 0.011207581, 0.06048584, 0.052337646, -0.014587402, -0.001663208, 0.0046958923, -0.0065345764, -0.016494751, 0.012794495, 0.0048980713, -0.033172607, 0.04611206, 0.010902405, -0.0048599243, -0.0019760132, 0.005695343, 0.032073975, -0.023803711, -0.006801605, -0.031204224, 0.0007343292, 0.049804688, -0.032043457, 0.019241333, -0.042816162, 0.0154800415, -0.0047035217, -0.015899658, 0.016921997, 0.0335083, 0.004966736, 0.033935547, 0.011489868, 0.009346008, 0.03289795, 0.0049476624, 0.0004851818, -0.0446167, -0.035491943, -0.075805664, -0.019638062, 0.043304443, 0.027633667, -0.014625549, 0.007858276, -0.00095653534, -0.02468872, 0.013053894, -0.083618164, -0.027862549, -0.015655518, -0.017059326, -0.007865906, 0.0051727295, 0.03668213, 0.032226562, -0.018478394, -0.046569824, -0.028762817, 0.0012817383, 0.009361267, -0.004096985, 0.005256653, 0.041748047, -0.0067977905, 0.062316895, -0.025726318, -0.030548096, 0.017532349, -0.0015296936, 0.015464783, 0.0008893013, 0.0368042, 0.024627686, -0.023849487, 0.015640259, 0.012886047, 0.021057129, 0.048034668, 0.02999878, -0.0029945374, -0.0036144257, 0.016464233, -0.00374794, -0.030593872, -0.07336426, -0.08911133, -0.06500244, -0.010429382, -0.039001465, -0.028411865, -0.024780273, 0.017105103, -0.00522995, 0.01586914, 0.016860962, -0.016159058, 0.031982422, -0.053955078, 0.04284668, -0.052734375, -0.05227661, 0.0034275055, 0.019454956, 0.007621765, 0.03326416, 0.022476196, -0.010345459, -0.017807007, 0.017623901, 0.04525757, -0.08312988, -0.003900528, 0.004589081, 0.023391724, -0.010848999, -0.064819336, -0.024505615, -0.027038574, 0.026184082, 0.032440186, 0.004432678, 0.03564453, 0.027359009, 0.0013713837, -0.038604736, -0.0035648346, 0.012908936, -0.057556152, 0.03012085, 0.0034503937, -0.025039673, 0.058380127, 0.0033550262, 0.05758667, -0.013259888, 0.01651001, -0.017044067, 0.0051651, -0.02508545, 0.051208496, -0.029373169, -0.031066895, -0.02897644, -0.016113281, 0.0029773712, 0.016525269, 0.033111572, 0.006416321, 0.0051994324, -0.0068473816, -0.0079422, -0.016723633, 0.011154175, 0.025375366, -0.020111084, 0.0029945374, 0.014945984, -0.017868042, 0.043792725, -0.014442444, 0.03652954, 0.024734497, -0.035003662, -0.013366699, -0.09692383, -0.0012731552, 0.013771057, -0.028793335, -0.09466553, 0.05102539, 0.029190063, -0.020126343, -0.027862549, -0.05026245, -0.028121948, 0.017547607, -0.0357666, -0.06591797, -0.06304932, 0.006198883, 0.018188477, -0.04071045, 0.002565384, -0.040771484, -0.04260254, 0.058166504, -0.052642822, 0.0027751923, -0.00065755844, -0.0017518997, -0.03488159, -0.027954102, -0.03186035, 0.03640747, 0.013465881, -0.017105103, 0.005859375, -0.030273438, -0.04559326, 0.019744873, 0.025131226, 0.039489746, 0.06756592, -0.05001831, -0.030227661, -0.0020427704, 0.0055122375, 0.047058105, 0.0115737915, -0.00054454803, -0.060577393, 0.057525635, -0.013145447, 0.010246277, -0.0017414093, -0.0112838745, -0.02909851, 0.05102539, -0.03353882, -0.009803772, 0.01335907, -0.0012159348, 0.02029419, 0.018112183, -0.05432129, -0.030593872, -0.029403687, -0.036102295, 0.072143555, 0.0020809174, -0.043670654, 0.026412964, -0.0047073364, 0.036010742, 0.036712646, 0.016708374, 0.00014770031, 0.0099105835, 0.03829956, -0.060546875, -0.001917839, -0.024780273, 0.062347412, -0.014450073, 0.0070381165, 0.0015983582, -0.03289795, -0.024414062, 0.019226074, -0.023880005, 0.027908325, 0.04321289, 0.043670654, -0.031555176, 0.044708252, -0.018203735, 0.045837402, 0.02760315, -0.015541077, -0.005908966, -0.025680542, 0.006401062, 0.020095825, -0.0027160645, 0.04168701, -0.0025863647, 0.04525757, 0.03286743, 0.009651184, -0.01637268, 0.0035934448, -0.0054473877, -0.029541016, -0.0006866455, 0.027633667, -0.032562256, -0.01309967, -0.0052757263, 0.015625, -0.01625061, 0.010795593, 0.0082473755, 0.012634277, -0.005580902, 0.04446411, 0.038116455, 0.053466797, -0.014854431, 0.03955078, 0.046569824, -0.029876709, -0.002544403, -0.036712646, 0.0037593842, 0.0022716522, -0.040924072, 0.0069999695, -0.0059661865, -0.06402588, -0.0005464554, -0.051452637, -0.05230713, -0.020202637, -0.0104599, -0.025466919, -0.052337646, 0.0070724487], \"0\": -0.4947073345921958, \"1\": -0.05515904394920338, \"Source\": \"Existing\"}, {\"query\": \" i would like your rates between atlanta and boston on september third\", \"query_embed\": [0.025894165, 0.011138916, 0.021362305, 0.0032749176, -0.0067329407, 0.009246826, 0.012680054, -0.05847168, -0.021209717, 0.016189575, -0.04397583, -0.007167816, -0.016021729, -0.022705078, -0.0026474, -0.03942871, 0.033050537, 0.0034389496, 0.021972656, -0.0013008118, -0.024169922, 0.049102783, 0.006374359, 0.06829834, 0.034820557, -0.0069999695, -0.048583984, -0.0021781921, 0.023651123, -0.0038394928, 0.013626099, 0.0127334595, 0.018615723, -0.009170532, 0.041503906, 0.10394287, 0.07446289, -0.012794495, 0.060546875, -0.033203125, 0.025222778, -0.0066337585, -0.004550934, -0.0072250366, 0.00048303604, -0.017807007, 0.04827881, -0.01537323, 0.049682617, 0.012428284, -0.022949219, -0.014533997, -0.025909424, 0.02078247, -0.003358841, 0.0015392303, 0.012374878, 0.06756592, 0.023880005, -0.054016113, -0.039367676, 0.013183594, 0.028945923, 0.041290283, -0.009414673, -0.04220581, -0.00074481964, 0.031051636, -0.015899658, -0.009742737, 0.033721924, 0.009315491, 0.0066986084, 0.06100464, -0.042144775, -0.07574463, 0.009140015, -0.017486572, 0.03744507, 0.046936035, -0.031433105, 0.007534027, -0.017822266, -0.025161743, 0.0074768066, 0.00034880638, -0.026931763, -0.010795593, -0.023208618, -0.05380249, -0.007572174, 0.038024902, -0.09442139, -0.003873825, -0.00037646294, -0.037841797, -0.020019531, 0.020050049, -0.021499634, 0.000957489, -0.044311523, -0.0036754608, -0.037719727, -0.0059814453, 0.024124146, -0.010925293, 0.011909485, -0.016357422, 0.052093506, 0.011985779, -0.03643799, 0.097839355, 0.033050537, 0.025558472, -0.018737793, -0.031097412, 0.0030136108, 0.016403198, -0.036193848, 0.0135269165, 0.02319336, 0.07672119, -0.02684021, -0.04824829, -0.076416016, -0.048797607, 0.019439697, -0.054992676, 0.041748047, -0.021331787, 0.029678345, 0.070373535, -0.1048584, -0.087890625, -0.07092285, 0.04171753, 0.053222656, -0.014045715, -0.0046310425, -0.0069770813, 0.02468872, -0.0143585205, 0.0074653625, 0.010818481, -0.014259338, 0.052581787, 0.026168823, -0.0014572144, 0.00069475174, -0.08001709, -0.018508911, -0.008384705, -0.0043907166, 0.012687683, -0.000995636, 0.04815674, -0.040496826, 0.010536194, -0.011543274, 0.042938232, -0.010986328, -0.0023231506, -0.004852295, -0.013587952, -0.014968872, 0.0064735413, 0.046569824, 0.003648758, 0.01637268, 0.011245728, 0.010520935, -0.01739502, -0.02407837, 0.0019874573, 0.01361084, 0.033355713, 0.016967773, 0.0055351257, 0.010467529, 0.0011539459, -0.024505615, -0.033721924, -0.008979797, 0.019042969, -0.029220581, -0.0006699562, -0.006160736, -0.009277344, 0.006134033, 0.0007419586, 0.014472961, 0.0357666, -0.051849365, -0.035064697, 0.01965332, 0.02482605, -0.0073547363, 0.010475159, 0.0158844, 0.0051994324, -0.019470215, 0.0496521, -0.0077552795, 0.045196533, 0.07861328, 0.0112838745, 0.04019165, -0.008987427, 0.057159424, 0.015060425, -0.027130127, 0.0043640137, 0.021743774, -0.06359863, -0.052337646, 0.034973145, -0.004425049, -0.06555176, -0.007209778, -0.020584106, -0.04208374, 0.043914795, -0.072143555, -0.013870239, -0.015899658, 0.015686035, -0.020584106, 0.012756348, -0.036865234, 0.03942871, -0.012870789, -0.015586853, -0.006538391, 0.07128906, 0.008987427, 0.013328552, 0.058288574, 0.04421997, 0.0016527176, -0.050811768, 0.004447937, -0.026809692, -0.030929565, 0.018508911, -0.04425049, -0.023162842, 0.011917114, 0.010345459, 0.017364502, 0.031585693, 0.010765076, -0.026794434, 0.00045752525, 0.0025596619, 0.026504517, 0.0006299019, -0.0262146, 0.008049011, -0.031555176, 0.05368042, -0.02720642, 0.058807373, 0.044921875, -0.004650116, -0.024246216, 0.0059432983, -0.009101868, -0.0023918152, 0.00907135, 0.011772156, 0.0024757385, -0.03842163, 0.010498047, 0.019485474, -0.07397461, 0.036499023, -0.0057792664, 0.0029563904, 0.008354187, 0.0075187683, 0.025497437, 0.03692627, 0.043060303, 0.005317688, 0.03933716, 0.06359863, -0.0042419434, -0.0019779205, 0.01159668, 0.00422287, 0.017303467, 0.031585693, 0.013130188, 0.034851074, -0.0010404587, -0.006088257, -0.017471313, 0.016647339, 0.022735596, 0.007686615, -0.0692749, 0.01737976, 0.0009050369, -0.018951416, 0.013542175, 0.055725098, 0.0006980896, 0.01473999, 0.013442993, -0.008872986, -0.0074157715, 0.00038146973, 0.0102005005, 0.022109985, -0.009506226, -0.0440979, -0.02418518, 0.016204834, -0.04434204, -0.018753052, 0.015220642, -0.024810791, -0.041046143, -0.028717041, -0.038208008, 0.013305664, -0.041168213, -0.010154724, 0.0039138794, -0.0231781, -0.03881836, -0.03866577, -0.057128906, 0.025100708, 0.018371582, 0.0020065308, -0.0052757263, 0.045410156, -0.015319824, -0.029266357, -0.030578613, -0.049316406, 0.0038547516, -0.010665894, 0.040252686, -0.004333496, -0.03918457, -0.008094788, -0.00046229362, 0.030380249, -0.06149292, 0.00579834, -0.040130615, 0.009864807, 0.016204834, -0.054656982, 0.025054932, 0.01574707, 0.007835388, -0.036346436, 0.029403687, 0.012535095, -0.003545761, 0.0030403137, 0.0129470825, -0.04498291, -0.002922058, -0.0079574585, -0.018875122, -0.023361206, 0.008781433, -0.06109619, 0.054656982, 0.009353638, 0.012794495, -0.007843018, -0.051239014, -0.03741455, 0.016586304, -0.020568848, 0.02293396, -0.020126343, 0.059783936, -0.0059051514, 0.0181427, -0.011482239, -0.08050537, 0.022659302, -0.0063552856, 0.028366089, 0.000104248524, 0.044311523, 0.03137207, -0.028289795, 0.009651184, 0.022399902, -0.08270264, 0.0062217712, -0.033996582, 0.0050201416, 0.02078247, -0.009727478, 0.018203735, 0.014343262, 0.00039935112, 0.028701782, 0.023712158, -0.006866455, 0.03829956, -0.02935791, 0.011665344, -0.024429321, 0.026367188, -0.07757568, -0.006904602, 0.0067634583, -0.0041618347, 0.0032901764, -0.00944519, 0.0037002563, 0.023727417, -0.025924683, -0.02003479, 0.00084352493, 0.020812988, 0.012031555, 0.008148193, 0.011695862, 0.029144287, -0.024993896, 0.0051498413, -0.033111572, 0.002008438, -0.015396118, 0.004020691, 0.02079773, -0.021575928, 0.023666382, -0.020996094, -0.0059127808, -0.078125, -0.0010261536, 0.050964355, -0.009567261, 0.07373047, -0.04638672, -7.891655e-05, -0.02027893, -0.0345459, 0.012626648, -0.032714844, 0.036102295, -0.012557983, 0.03125, -0.0049057007, -0.012626648, -0.017593384, 0.051605225, -0.04135132, 0.05831909, 0.07910156, -0.01789856, 0.013328552, 0.007610321, 0.005218506, -0.051605225, 0.04156494, -0.00025892258, -0.022201538, 0.039398193, 0.014839172, 0.03491211, -0.0006093979, 0.00060224533, 0.00083732605, -0.040161133, 0.028915405, 0.033050537, -0.04534912, -0.061584473, 0.06573486, -0.030380249, 0.06536865, 0.050628662, 0.03805542, -0.00067424774, -0.051727295, 0.033081055, 0.0012426376, 0.013145447, -0.0024223328, 0.011451721, 0.037719727, -0.011932373, 0.0033817291, 0.0074768066, -0.013999939, 0.04928589, -0.010421753, -0.014328003, -0.032196045, -0.0385437, -0.03439331, -0.001830101, -0.03604126, -0.033843994, 0.07867432, 0.007385254, 0.009010315, 0.05593872, 0.055908203, 0.008583069, -0.0042304993, -0.028152466, -0.005306244, 0.027252197, 0.014251709, -0.039489746, 0.018844604, 0.0069465637, 0.018493652, 0.024780273, -0.011871338, 0.021148682, 0.02809143, 0.0045318604, -0.04763794, 0.012550354, 0.050994873, -0.050964355, -0.054016113, -0.019882202, 0.0014791489, 0.088256836, 0.0134887695, 0.0062713623, -0.034179688, -0.027648926, -0.0016365051, -0.0014629364, -0.015129089, -0.008964539, -0.015853882, 0.032989502, -0.0008573532, 0.027252197, 0.006134033, 0.0625, 0.021743774, 0.026229858, -0.017028809, -0.031158447, 0.015853882, -0.029022217, -0.008995056, -0.018585205, 0.023361206, -0.014083862, -0.0063667297, 0.051361084, 0.017410278, 0.014076233, -0.053649902, 0.023757935, 0.00032877922, 0.0058250427, 0.0017080307, -0.034820557, -0.011268616, -0.04006958, -0.03491211, -0.037231445, -0.01626587, -0.021118164, -0.012771606, 0.03289795, 0.033233643, -0.008224487, -0.00655365, -0.090270996, -0.0021038055, 0.023590088, 0.05709839, 0.0051956177, -0.024642944, -0.00022780895, -0.0039520264, -0.0062942505, -0.033935547, 0.000893116, 0.0107040405, -0.018173218, 0.0021018982, -0.014305115, 0.011680603, 0.005279541, 0.00819397, -0.057525635, -0.002008438, 0.018325806, -0.0017700195, -0.009048462, -0.0129852295, -0.02078247, 0.046691895, -0.020492554, 0.046142578, -0.0103302, -0.031585693, -0.053375244, 0.0051078796, -0.008094788, 0.014877319, 0.013633728, -0.0075798035, -0.0032730103, -0.012535095, 0.016799927, 0.027359009, 0.0012292862, 0.019180298, -0.016082764, 0.01979065, -0.014053345, -0.015159607, -0.038879395, -0.008842468, -0.0058898926, -0.013298035, -0.021133423, -0.0057678223, -0.00806427, -0.01361084, 0.006877899, 0.02407837, 0.013092041, -0.020050049, 0.017242432, -0.00374794, 0.006137848, 0.028259277, -0.04019165, -0.05029297, -0.055114746, -0.029281616, -0.04257202, -0.050628662, 0.011100769, -0.03491211, -0.008842468, -0.06048584, -0.017700195, -0.0022010803, -0.0013895035, 0.010574341, 0.0046920776, -0.046691895, 0.010383606, 0.016540527, 0.034088135, 0.007774353, 0.09631348, -0.042785645, 0.052764893, -0.05303955, -0.00705719, 0.02305603, -0.02128601, -0.0073661804, -0.048461914, -0.038879395, -0.018066406, 0.04269409, -0.026901245, 0.0044136047, 0.0104599, -0.041778564, 0.012084961, 0.02015686, -0.037322998, 0.017944336, 0.03387451, -0.0016117096, 0.022140503, -0.017623901, 0.09100342, 0.0038108826, -0.055541992, -0.020446777, -0.027435303, -0.02279663, 0.033111572, -0.0418396, 0.019042969, 0.018585205, -0.026519775, -0.022613525, 0.027999878, 0.031097412, -0.004032135, 0.014167786, 0.01965332, -0.030670166, -0.009773254, 0.019134521, 0.012992859, 0.0127334595, -0.006324768, 0.027389526, -0.010864258, 0.026641846, 0.019165039, -0.06665039, -0.046020508, 0.050354004, -0.023239136, 0.03390503, 0.040802002, 0.021148682, -0.059783936, 0.00541687, -0.0038776398, 0.04434204, 0.009811401, 0.04135132, -0.004421234, -0.011489868, 0.019226074, 0.006313324, 0.014862061, -0.03353882, 0.0041923523, -0.0008587837, -0.030899048, 0.009231567, -0.044189453, 0.009223938, 0.01965332, -0.02658081, 0.05105591, 0.015525818, 0.00040721893, 0.015563965, -0.034301758, -0.0055885315, 0.036743164, 0.016204834, -0.007434845, -0.026947021, 0.0053253174, -0.017730713, 0.018081665, 0.055480957, -0.014122009, 0.025405884, -0.059661865, -0.02468872, 0.007484436, 0.08532715, -0.039001465, 0.024154663, 0.007472992, -0.021087646, 0.006702423, -0.07305908, 0.013320923, -0.08319092, -0.095581055, -0.004825592, 0.01424408, 0.017791748, 0.05404663, -0.004611969, 0.050567627, -0.084472656, -0.024627686, -0.011749268, 0.017562866, 0.008705139, 0.03933716, -0.021728516, 0.06604004, -0.03060913, -0.012969971, 0.035003662, 0.021514893, 0.04071045, -0.048583984, 0.017852783, -0.033447266, -0.017944336, 0.0014810562, 0.034301758, 0.02935791, 0.030700684, 0.012359619, 0.00017213821, 0.024520874, 0.039611816, -0.0020275116, 0.0035476685, -0.019821167, -0.011451721, 0.013458252, -0.025970459, 0.015296936, -0.03778076, 0.033233643, 0.018356323, -0.0016822815, 0.022888184, 0.03387451, -0.0064468384, -0.03387451, -0.08673096, 0.004459381, 0.0041236877, -0.026046753, 0.01737976, -0.010414124, -0.010276794, 0.017486572, -0.011306763, 0.03164673, -0.025878906, -0.019638062, 0.07086182, -0.029968262, -0.02178955, 0.034240723, 0.007194519, -0.023849487, -0.051483154, -0.011245728, -0.010147095, 0.011489868, 0.025314331, -0.028305054, 0.04928589, 0.02230835, 0.07080078, -0.008430481, 0.024520874, 0.03842163, 0.011161804, -0.01335907, 0.013618469, -0.026168823, -0.0012865067, 0.04324341, 0.02104187, 0.04058838, -0.0014400482, -0.032836914, 0.014678955, 0.06384277, -0.0066947937, -0.028152466, -0.025344849, -0.013282776, -0.027160645, 0.027252197, 0.005393982, 0.017440796, -0.025222778, 0.011360168, -0.006511688, 0.0256958, 0.00023293495, 0.058685303, 0.020080566, -0.035064697, 0.037078857, -0.0047035217, -0.03765869, 0.055419922, -0.016738892, 0.030929565, 0.0007715225, 0.0037631989, -0.034301758, -0.07312012, 0.0049209595, -0.015060425, 5.7697296e-05, -0.06085205, 0.055145264, -0.0051574707, -0.008346558, -0.02229309, -0.015205383, -0.0014953613, 0.016342163, -0.0022449493, -0.0006709099, -0.011306763, 0.014099121, -0.033966064, -0.06286621, 0.00035572052, -0.030578613, -0.022766113, 0.08557129, -0.11755371, -0.01322937, -0.0006504059, -0.009635925, -0.031799316, -0.01864624, -0.01008606, 0.016479492, 0.014289856, -0.024780273, -0.013290405, 0.010391235, -0.028045654, 0.020874023, -0.0029258728, 0.050994873, 0.005306244, -0.029159546, -0.029754639, 0.01878357, -0.017745972, 0.020095825, 0.015792847, 0.016525269, -0.043640137, 0.01776123, -0.022109985, 0.0022792816, -0.023223877, -0.06463623, 0.031555176, 0.0032310486, -0.03149414, -0.012840271, 0.004055023, 0.01977539, -0.06518555, -0.0058403015, -0.039398193, -0.04321289, -0.01574707, -0.020935059, 0.029159546, 0.0181427, -0.015068054, 0.026123047, 0.03314209, 0.036499023, -0.010955811, 0.016326904, -0.0023384094, -0.0034923553, 0.020614624, -0.06414795, -0.03857422, -0.040802002, 0.045166016, 0.017028809, 0.0005245209, 0.02319336, 0.018692017, -0.035186768, 0.019058228, -0.016036987, -0.026519775, 0.09399414, 0.01991272, 0.012832642, 0.017303467, -0.03894043, 0.032043457, -0.010421753, -0.010215759, -0.008621216, -0.017791748, -0.004371643, -0.00491333, 0.0093307495, 0.060668945, -0.006881714, 0.025039673, 0.019897461, -0.0069351196, -0.015235901, -0.020751953, -0.021057129, -0.0072402954, -0.025527954, 0.0053215027, -0.015220642, 0.009742737, 0.009613037, 0.030197144, 0.013572693, 0.030593872, -0.010688782, -0.009239197, -0.022628784, 0.017196655, 0.04284668, 0.024978638, -0.028381348, -0.02166748, 0.01675415, -0.015701294, 0.022979736, 0.019195557, 0.015357971, -0.0019702911, -0.04067993, 0.00064229965, -0.009742737, -0.05038452, 0.0385437, -0.03704834, -0.02293396, 0.0077781677, -0.0073776245, -0.0008907318, -0.05822754, 0.0107803345], \"0\": 0.1468313746968361, \"1\": -0.08728665219451401, \"Source\": \"Existing\"}, {\"query\": \"How can I find a taxi or a bus when the plan lands?\", \"query_embed\": [0.020324707, 0.030334473, 0.006389618, 0.0062065125, 0.0036773682, -0.0076942444, 0.012901306, -0.07019043, -0.005466461, -0.008415222, -0.05105591, 0.024215698, -0.046966553, 0.0052490234, 0.021942139, -0.05908203, 0.040496826, 0.006816864, 0.006286621, -0.026855469, 0.03314209, -0.009902954, -0.039642334, 0.13452148, -0.007637024, 0.060455322, -0.009094238, -0.01991272, -0.030227661, 0.002155304, 0.00016510487, 0.008758545, 0.020568848, -0.041870117, 0.03302002, 0.03363037, 0.02279663, -0.0284729, -0.0009703636, 0.011688232, 0.0050315857, -0.022537231, -0.01637268, -0.036865234, -0.012672424, -0.012954712, 0.0038414001, -0.027069092, 0.029907227, 0.04095459, -0.028121948, 0.025100708, -0.031677246, 0.0061149597, -0.0024929047, 0.011619568, -0.029388428, -0.004085541, 0.016647339, 0.015312195, 0.018035889, 0.030792236, 0.019866943, 0.021575928, -0.026351929, 0.01676941, 0.010398865, -0.008659363, 0.03704834, -0.051483154, -0.03289795, 0.035064697, 0.023986816, 0.033813477, -0.012275696, -0.066467285, 0.036132812, -0.014419556, -0.00014913082, 0.027816772, -0.0012226105, 0.00057029724, 0.0015649796, -0.017822266, -0.002544403, 0.00086545944, -0.008255005, -0.008552551, -0.036895752, 0.010002136, -0.03656006, -0.03955078, -0.007873535, 0.003780365, -0.0061836243, -0.025024414, 0.0060691833, 0.021026611, -0.021438599, 0.0054244995, 0.01600647, -0.051605225, 0.0413208, -0.040771484, 0.037261963, 0.054595947, -0.009124756, -0.06451416, 0.04559326, -0.0022296906, -0.013442993, 0.07702637, -0.01576233, 0.023132324, -0.08807373, -0.005619049, -0.056793213, -0.04171753, -0.028366089, -0.009178162, 0.0036239624, 0.044036865, -0.049591064, -0.042388916, 0.053009033, -0.015289307, -0.012039185, 0.01537323, 0.045074463, 0.021270752, 0.018508911, 0.009674072, -0.13012695, -0.07873535, -0.07733154, 0.005306244, -0.002943039, 0.030227661, 0.001876831, -0.026351929, 0.07537842, -0.016799927, 0.03012085, 0.052856445, -0.023712158, -0.001537323, 0.008453369, 0.015899658, 0.011199951, -0.028869629, -0.009727478, -0.008575439, 0.008293152, 0.018539429, 0.005592346, -0.00075626373, 0.012771606, -0.00157547, -0.017623901, -0.013053894, 0.023239136, -0.016159058, 0.004711151, -0.01486969, -0.018478394, -0.0033454895, -0.07946777, 0.008361816, 0.017929077, -0.023162842, 0.0103302, 0.044281006, 0.018798828, -0.03286743, -0.0037555695, -0.02520752, -0.00868988, 0.024246216, 0.018661499, 0.018417358, 0.025299072, -0.02960205, 0.05328369, 0.01184082, -0.06964111, 0.082336426, 0.026016235, 0.11828613, -0.011779785, 0.01586914, 0.052001953, 0.044403076, -0.04034424, 0.012825012, 0.011909485, 0.0033473969, -0.030914307, 0.017974854, 0.013053894, -0.04727173, 0.0070228577, -0.00044107437, 0.013000488, 0.029251099, 0.030090332, 0.0043525696, 0.0011501312, -0.0154800415, 0.01084137, 0.030090332, 0.01210022, -0.00541687, -0.032714844, 0.041809082, 8.970499e-05, 0.0030879974, -0.032562256, -0.0029964447, -0.002521515, -0.02281189, 0.018478394, 0.001996994, 0.0027236938, 0.00522995, -0.022064209, 0.024291992, -0.022994995, 0.032989502, -0.00042700768, 0.030792236, 0.0317688, -0.01335144, -0.04385376, -0.010406494, -0.03967285, 0.023986816, 0.0031032562, 0.058166504, -0.009689331, -0.008361816, -0.0019607544, 0.0015363693, -0.03945923, 0.017166138, -0.051574707, -0.046875, -0.009109497, 0.0016107559, 0.006263733, 0.036712646, 0.043914795, 0.024108887, 0.0007791519, -0.019866943, 0.021743774, 0.027038574, -0.032165527, -0.037231445, -0.0034713745, -0.062347412, 0.035583496, -0.042144775, -0.05050659, -0.0044517517, -0.0021247864, 0.0036907196, 0.03277588, 0.037963867, -0.023712158, -0.046844482, 0.028427124, 0.08679199, -0.014007568, -0.00466156, 0.0047950745, -0.015403748, -0.017456055, 0.02670288, -0.011047363, -0.024169922, 0.00233078, 0.07080078, 0.014144897, -0.013473511, -0.021316528, 0.012428284, -0.015823364, -0.009963989, 0.024627686, 0.006916046, 0.04055786, -0.0077667236, 0.013420105, -0.015823364, -0.0021533966, -0.02746582, -0.041809082, 0.07495117, -0.012390137, 0.0065956116, -0.03555298, 0.015396118, 0.004207611, -0.036346436, -0.032714844, 0.0770874, 0.010154724, -0.013999939, -0.035949707, -0.097229004, 0.059631348, -0.033416748, 0.025634766, -0.048706055, 0.019073486, 0.02104187, -0.031219482, 0.008850098, -0.036224365, 0.03479004, 0.034698486, 0.024520874, -0.01713562, 0.01386261, -0.0009551048, -0.004020691, 0.007411957, -0.021453857, -0.052246094, 0.037475586, 0.0035991669, 0.0026397705, -0.01411438, 0.036346436, -0.009689331, 0.023757935, 0.0118637085, -0.020523071, -0.00831604, 0.028213501, 0.013786316, 0.029083252, -0.0011796951, -0.053649902, 0.00894165, -0.079833984, -0.022201538, -0.02583313, 0.13134766, 0.040802002, -0.03378296, 0.064697266, 0.011756897, 0.011428833, 0.014678955, 0.021331787, -0.006538391, 0.0030403137, -0.015792847, -0.05618286, 0.025878906, 0.021377563, 0.010101318, -0.038970947, -0.019927979, -0.04537964, -0.012039185, -0.00038576126, 0.0023841858, 0.038116455, -0.039031982, -0.01399231, 0.03451538, -0.001991272, 0.024261475, 0.0008006096, 0.05380249, 0.0036754608, 0.025543213, 0.037841797, 0.0048065186, 0.004257202, 0.03543091, -0.011161804, -0.01335907, 0.030303955, -0.018203735, -0.011779785, -0.0074272156, 0.0035266876, -0.007736206, 0.035461426, -0.03024292, 0.027999878, -0.014129639, -0.022277832, -0.045562744, -0.020019531, -0.111694336, 0.04095459, -0.049682617, -0.044403076, -0.017593384, -0.04107666, 0.018722534, -0.06585693, -0.017990112, -0.0501709, 0.022567749, 0.05230713, 0.009132385, -0.043273926, 0.015563965, -0.0075950623, -0.0058250427, -0.003818512, 0.04598999, 0.00573349, -0.0010757446, -0.030822754, 0.02355957, 0.01612854, 0.026748657, 0.0014219284, 0.05895996, -0.015151978, 0.049835205, -0.035614014, 0.021270752, 0.01928711, 0.037078857, -0.029891968, -0.009147644, -0.007751465, -0.009475708, 0.00592041, -0.018951416, -0.029327393, 0.021011353, -0.032196045, 0.0013065338, 0.01914978, 0.00045895576, 0.029678345, -0.046081543, 0.037353516, 0.0057296753, -0.0028266907, -0.038848877, -0.064331055, -0.037109375, 0.011871338, 0.0032196045, 0.026977539, 0.008483887, 0.0904541, 0.002937317, 0.0032978058, 0.06506348, -0.01322937, -0.0043907166, -0.007499695, -0.054473877, 0.0060539246, 0.03262329, -0.018493652, 0.009010315, 0.015380859, 0.0048217773, 0.0052337646, 0.030639648, -0.00434494, -0.0010089874, -0.0069236755, 0.021942139, 0.008552551, -0.0071640015, -0.012130737, -0.004547119, 0.0061149597, 0.016738892, 0.0008459091, 0.08343506, -0.0010442734, 0.052459717, -0.0017328262, -0.03286743, -0.009101868, 0.014404297, 0.04269409, 0.04067993, -0.00013816357, 0.021697998, 0.064697266, -0.024887085, -0.009895325, -0.0038223267, -0.019607544, -0.022827148, -0.04928589, -0.005504608, 0.014503479, 0.012397766, 0.03652954, 0.027297974, 0.0025978088, -0.013946533, 0.02154541, 0.02305603, 0.019821167, -0.008110046, 0.017730713, 0.039276123, -0.007610321, -0.0038528442, 0.015068054, 0.021133423, -0.022567749, 0.017578125, 0.00025343895, 0.034423828, 0.035858154, -0.0129470825, 0.024093628, 0.020492554, 0.016036987, -0.040374756, 0.01727295, 0.008308411, -0.0022506714, -0.00982666, -0.031433105, -0.008300781, 0.0154953, 0.04473877, 0.02154541, -0.008636475, -0.03111267, 0.009811401, 0.0023231506, 0.030807495, 0.016189575, -0.029891968, 0.0045318604, -0.017547607, -0.0050849915, -0.01789856, 0.015823364, -0.012718201, -0.03201294, -0.0029010773, 0.014854431, 0.023147583, -0.037872314, -0.05038452, 0.026916504, 0.020690918, -0.014587402, 0.003818512, -0.0031204224, 0.011451721, 0.016906738, 0.008705139, -0.01777649, 0.053771973, 0.025848389, -0.014152527, -0.055267334, 0.022918701, -0.019882202, -0.025482178, -0.0043144226, 0.04498291, -0.00818634, 0.032318115, -0.011550903, 0.01763916, 0.022872925, -0.009262085, 0.00074481964, 0.028060913, 0.0032863617, 0.0012369156, 0.053649902, -0.05984497, 0.021652222, 0.0016460419, 0.006793976, -0.04925537, -0.03842163, 0.016860962, 0.024353027, -0.038360596, -0.068115234, 0.037750244, 0.0032157898, 0.03878784, 0.04812622, 0.053588867, 0.005016327, -0.0019350052, 0.008872986, 0.0076293945, -0.0062408447, 0.031799316, 0.007827759, -0.030349731, 0.041229248, -0.03186035, -0.015640259, -0.006008148, 0.014343262, 0.011146545, -0.04510498, -0.0038261414, 0.047821045, -0.098083496, 0.078430176, 0.0725708, 0.00687027, 0.03552246, 0.008132935, 0.008972168, 0.0028266907, 0.047576904, -0.025543213, -0.040527344, 0.020507812, 0.01966858, 0.02267456, 0.020095825, 0.017623901, -0.080444336, -0.03286743, -0.048583984, 0.034240723, -0.039031982, -0.044281006, 0.028152466, -0.027191162, -0.0026130676, -0.012664795, -0.064697266, -0.022949219, 0.06222534, -0.0076675415, -0.00944519, 0.022766113, -0.019973755, -0.030563354, 0.012207031, 0.024490356, 0.014152527, 0.010154724, -0.018157959, 0.0015668869, -0.010368347, 0.0063056946, -0.03945923, -0.054534912, -0.036499023, -0.032043457, 0.011581421, -0.035736084, -0.055114746, -0.02609253, 0.052856445, 0.0024967194, 0.004272461, -0.046844482, -0.029663086, -0.017074585, 0.09289551, 0.025222778, -0.012619019, -0.013404846, 0.02230835, -0.03704834, 0.012939453, 0.017822266, 0.004142761, -0.0317688, -0.037078857, -0.024368286, 0.0052261353, -0.0073242188, 0.030654907, 0.03024292, 0.034484863, 0.0030765533, -0.03970337, -0.03704834, 0.020690918, -0.051635742, 0.017532349, 0.051757812, 0.036224365, -0.025787354, 0.013648987, -0.07696533, -0.009552002, 0.032684326, 0.010360718, 0.026153564, 0.00017917156, 0.0104904175, 0.004535675, 0.012031555, -0.005344391, -0.0005030632, 0.0071640015, 0.035339355, -0.066467285, -0.023956299, 0.026733398, -0.012397766, -0.0018987656, -0.0033340454, -0.0107803345, 0.0018587112, 0.016311646, 0.031341553, 0.060333252, -0.031921387, 0.020370483, 0.0018358231, -0.005241394, 0.04058838, 0.015823364, 0.012397766, 0.009437561, -0.020233154, 0.0335083, -0.014198303, -0.015548706, -0.022445679, 0.023971558, 0.023635864, 0.053344727, -0.04437256, -0.06976318, 0.014541626, 0.03741455, 0.030960083, -0.01537323, 0.03149414, 0.006000519, 0.00762558, 0.021835327, -0.0029449463, 0.013450623, 0.016448975, 0.02142334, 0.045013428, 0.026763916, 0.04083252, 0.047180176, 0.018844604, 0.036712646, -0.054748535, -0.0052871704, 0.028274536, 0.012062073, 0.018478394, -0.04067993, 0.016326904, -0.03161621, -0.018737793, 0.008255005, -0.04220581, -0.021377563, 0.01763916, 0.0084991455, -0.03579712, 0.033813477, -0.043640137, 0.034362793, 0.011123657, 0.0006070137, -0.00349617, -0.0013017654, 0.0006175041, -0.044921875, 0.004760742, 0.008895874, 0.015235901, 0.025146484, -0.012023926, 0.00096702576, 0.006095886, 0.012397766, 0.04156494, 0.0046577454, -0.003622055, 0.0021572113, 0.036468506, 0.008399963, 0.001335144, 0.05432129, 0.00025629997, 0.0067481995, -0.0018882751, -0.0692749, -0.060028076, -0.052886963, -0.0024261475, 0.018112183, -0.04953003, -0.06506348, 0.04849243, -0.0151901245, -0.022720337, 0.011947632, -0.042022705, 0.054107666, -0.038391113, 0.0028476715, -0.009384155, 0.027770996, -0.001745224, -0.016983032, 0.020828247, 0.016586304, 0.008018494, -0.0031642914, 0.00028562546, 0.02760315, -0.020217896, 0.002357483, 0.028945923, 0.009887695, 0.005947113, -0.03414917, -0.029373169, -0.039520264, 0.022521973, 0.020095825, 0.07910156, -0.026870728, 0.023544312, -0.012557983, -0.014221191, -0.016708374, -0.029815674, 0.03326416, -0.026245117, -0.017562866, 0.005012512, 0.040161133, -0.0077209473, 0.026824951, -0.03552246, -0.04788208, -0.025375366, 0.042388916, 0.0017995834, 0.008628845, -0.020812988, -0.03778076, -0.023773193, 0.018600464, -0.0014572144, 0.023544312, -0.014122009, -0.011291504, 0.0062026978, -0.036499023, -0.012580872, -0.010719299, -0.016098022, 0.03652954, 0.024978638, -0.027648926, -0.0013837814, -0.015670776, -0.006088257, 0.028167725, 0.010940552, -0.0064430237, 0.027450562, 0.0025997162, -0.027740479, 0.011924744, -0.030410767, -0.02557373, 0.013999939, -0.0022678375, -0.007537842, -0.016693115, -0.0126571655, -0.029891968, -0.032196045, 0.02230835, -0.009422302, -0.011222839, -0.01398468, -0.010551453, -0.004890442, -0.030151367, -0.0030155182, -0.039093018, 0.003227234, 0.03439331, -0.03817749, 0.023101807, -0.0016269684, 0.017349243, -0.026977539, 0.008865356, -0.010955811, 0.0087890625, 0.04034424, -0.026947021, 0.011375427, 0.022155762, -0.057159424, -0.040130615, -0.057128906, 0.0054893494, -0.04083252, -0.09136963, -0.018615723, 0.022399902, 0.08215332, 0.07409668, -0.03967285, 0.09906006, -0.008346558, 0.0009121895, 0.005870819, 0.03778076, 0.0009727478, 0.030181885, 0.08117676, 0.0078048706, 0.0007915497, -0.012687683, -0.003332138, 0.033691406, -0.04788208, -0.02017212, -0.009597778, -0.07043457, -0.008476257, -0.04763794, 0.046936035, -0.009773254, -0.052764893, -0.0045433044, -0.028427124, 0.010948181, -0.034332275, 0.020843506, 0.008598328, 0.030197144, 0.04071045, -0.02670288, 0.009048462, -0.019821167, -0.05215454, 0.015960693, -0.03277588, -0.028060913, -0.03253174, 0.015930176, -0.010215759, 0.0105896, -0.0021743774, 0.05303955, 0.029190063, -0.0054244995, 0.03314209, -0.014633179, 0.023284912, 0.017852783, -0.026351929, -0.00077342987, -0.018035889, 0.030258179, 0.0022201538, -0.008163452, 0.044921875, -0.024307251, -0.002565384, 0.001991272, 0.03540039, -0.010665894, -0.00033903122, -0.016036987, 0.013977051, 0.018356323, -0.018478394, -0.091796875, -0.008216858, 0.03527832, 0.036834717, -0.027694702, -0.003862381, -0.00737381, 0.072387695, -0.0012674332, 0.013427734, 0.027252197, 0.014404297, -0.0072021484, 0.03857422, 0.027359009, -0.046722412, 0.00016355515, 0.029266357, 0.008049011, 0.020309448, 0.024276733, -0.006313324, 0.05053711, -0.02218628, -0.00067329407, -0.014694214, -0.006652832, -0.012237549, -0.0063438416, -0.07714844, -0.032226562, 0.006412506], \"0\": -0.33223829660215987, \"1\": 0.1351759114326414, \"Source\": \"New\"}]}}, {\"mode\": \"vega-lite\"});\n",
              "</script>"
            ],
            "text/plain": [
              "alt.LayerChart(...)"
            ]
          },
          "execution_count": 62,
          "metadata": {},
          "output_type": "execute_result"
        }
      ],
      "source": [
        "# Create column for representing chart legend\n",
        "df_sem_pc2['Source'] = 'Existing'\n",
        "df_sem_pc2.at[len(df_sem_pc2)-1, 'Source'] = \"New\"\n",
        "\n",
        "# Plot on a chart\n",
        "df_sem_pc2.columns = df_sem_pc2.columns.astype(str)\n",
        "selection = list(range(sample)) + [-1]\n",
        "generate_chart(df_sem_pc2.iloc[selection],'0','1',color='Source',title='Semantic Search')"
      ]
    },
    {
      "cell_type": "markdown",
      "metadata": {
        "id": "5PFdImbkeut9"
      },
      "source": [
        "# The query about \"a taxi or a bus\" is located closest to documents about ground transportation"
      ]
    },
    {
      "cell_type": "code",
      "execution_count": null,
      "metadata": {
        "id": "YQYDn6ddeVEP"
      },
      "outputs": [],
      "source": []
    }
  ],
  "metadata": {
    "colab": {
      "provenance": []
    },
    "kernelspec": {
      "display_name": "Python 3",
      "name": "python3"
    },
    "language_info": {
      "name": "python"
    }
  },
  "nbformat": 4,
  "nbformat_minor": 0
}
