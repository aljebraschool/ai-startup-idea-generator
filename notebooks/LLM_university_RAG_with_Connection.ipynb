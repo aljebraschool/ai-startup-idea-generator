{
  "nbformat": 4,
  "nbformat_minor": 0,
  "metadata": {
    "colab": {
      "provenance": [],
      "authorship_tag": "ABX9TyNf439uTKWaWVeC5mApO/Ir",
      "include_colab_link": true
    },
    "kernelspec": {
      "name": "python3",
      "display_name": "Python 3"
    },
    "language_info": {
      "name": "python"
    }
  },
  "cells": [
    {
      "cell_type": "markdown",
      "metadata": {
        "id": "view-in-github",
        "colab_type": "text"
      },
      "source": [
        "<a href=\"https://colab.research.google.com/github/aljebraschool/ai-startup-idea-generator/blob/master/LLM_university_RAG_with_Connection.ipynb\" target=\"_parent\"><img src=\"https://colab.research.google.com/assets/colab-badge.svg\" alt=\"Open In Colab\"/></a>"
      ]
    },
    {
      "cell_type": "markdown",
      "source": [
        "# What Are Connectors?\n",
        "Connectors are independent REST APIs that can be used in a RAG workflow to provide secure, real-time access to private data.\n",
        "\n",
        "In enterprises, data lives in many different places. The ability of enterprises to realize the full value of RAG rests on their ability to bring these data sources tog#ether. Cohere’s build-your-own connectors framework enables developers to develop a connector to any datastore that offers an accompanying search API."
      ],
      "metadata": {
        "id": "IaEL4yewevkW"
      }
    },
    {
      "cell_type": "markdown",
      "source": [
        "At a high level, here’s what connectors do. When the Chat endpoint calls a connector, what happens is that the endpoint is sending a query to the search endpoint of that connector. The connector will then return the list of documents that it deems the most relevant to the query.\n",
        "\n",
        "The build-your-own connectors framework allows developers to build any logic behind a connector. For example, you can define the retrieval implementation—whether it’s running a semantic similarity search over a vector database, searching over an existing full-text search engine, or utilizing the existing search APIs of platforms like Google Drive or Notion.\n",
        "\n",
        "Additionally, in connector mode, most of the RAG building blocks are taken care of by the endpoint. This includes deciding whether to retrieve information, generating queries, retrieving documents, chunking and reranking documents (post-retrieval), and generating the response."
      ],
      "metadata": {
        "id": "vv8qs2hQfO3n"
      }
    },
    {
      "cell_type": "markdown",
      "source": [
        "Recall that in the previous chapter (document mode), we implemented the following steps.\n",
        "\n",
        "Step 1: Get the user message\n",
        "Step 2: Call the Chat endpoint in query-generation mode\n",
        "If at least one query is generated:\n",
        "Step 3: Retrieve and rerank relevant documents\n",
        "Step 4: Call the Chat endpoint in document mode to generate a grounded response with citations\n",
        "If no query is generated:\n",
        "Step 4: Call the Chat endpoint in normal mode to generate a direct response\n",
        "In connector mode, this is simplified to the following two steps.\n",
        "\n",
        "Step 1: Get the user message\n",
        "Step 2: Call the Chat endpoint in connector mode to generate a response (this can be either a grounded response with citations or a direct response)"
      ],
      "metadata": {
        "id": "0qU5Gza_feWh"
      }
    },
    {
      "cell_type": "markdown",
      "source": [
        "# Step-by-Step Guide\n",
        "\n",
        "We’ll build a RAG chatbot that can search the web, retrieve relevant results to a user query, and generate grounded responses to the query."
      ],
      "metadata": {
        "id": "qTfG5CZjfn-x"
      }
    },
    {
      "cell_type": "code",
      "execution_count": null,
      "metadata": {
        "id": "WsOSo7KXZTb_"
      },
      "outputs": [],
      "source": [
        "!pip install cohere -q"
      ]
    },
    {
      "cell_type": "code",
      "source": [
        "import cohere\n",
        "import uuid\n",
        "from cohere import ChatConnector"
      ],
      "metadata": {
        "id": "P8lGOJ4ff5E6"
      },
      "execution_count": null,
      "outputs": []
    },
    {
      "cell_type": "code",
      "source": [
        "co = cohere.ClientV2(\"COHERE_API_KEY\") # Get your free API key: https://dashboard.cohere.com/api-keys"
      ],
      "metadata": {
        "id": "4VSjSK2meyhZ"
      },
      "execution_count": null,
      "outputs": []
    },
    {
      "cell_type": "markdown",
      "source": [
        "# Create the Chatbot Component\n",
        "\n",
        "The change from document mode to connector mode requires just one change to the Chat endpoint, which is swapping the documents parameter with the connectors parameter.\n",
        "\n",
        "Here’s how it looks with the web search connector. We supply the connector id, which is web-search as an argument to the connectors parameter.\n",
        "\n",
        "\n",
        "\n",
        "> response = co.chat_stream(message=\"What is LLM university\",\n",
        "     connectors = [ChatConnector(id=\"web-search)])\n",
        "\n"
      ],
      "metadata": {
        "id": "p0xHxSrwgI4J"
      }
    },
    {
      "cell_type": "markdown",
      "source": [
        "The one line of code above is enough to get a full RAG-enabled response—the response text, the citations, and the source documents, which in this case are snippets from the most relevant information available on the web based on a given user message.\n",
        "\n",
        "But in order to run this in a multi-turn chatbot scenario, we need to build the chatbot component. The good news is that we can adapt the chatbot we built in the previous chapter.\n",
        "\n",
        "There are a few changes to make, including:\n",
        "\n",
        "Remove the query generation logic (done by the endpoint)\n",
        "Remove the retrieval logic (done by the endpoint)\n",
        "Change the Chatbot initialization to use connectors instead\n",
        "Use the connectors parameter instead of documents in the Chat endpoint call"
      ],
      "metadata": {
        "id": "H0lhNYRmg2Ks"
      }
    },
    {
      "cell_type": "code",
      "source": [
        "class Chatbot:\n",
        "  def __init__(self, connectors : list[str]):\n",
        "        \"\"\"\n",
        "        Initializes an instance of the Chatbot class.\n",
        "\n",
        "        \"\"\"\n",
        "\n",
        "        self.conversation_id = str(uuid.uuid4())\n",
        "        self.connectors = [ ChatConnector(id = connector) for connector in connectors]\n",
        "\n",
        "  def run(self):\n",
        "        \"\"\"\n",
        "        Runs the chatbot application.\n",
        "\n",
        "        \"\"\"\n",
        "\n",
        "        while True:\n",
        "          # Get the user message\n",
        "          message = input(\"user: \")\n",
        "\n",
        "           # Typing \"quit\" ends the conversation\n",
        "          if message.lower() == \"quit\":\n",
        "            print(\"Ending Chat... \")\n",
        "            break\n",
        "\n",
        "          # else:                       # If using Google Colab, remove this line to avoid printing the same thing twice\n",
        "          #   print(f\"User: {message}\") # If using Google Colab, remove this line to avoid printing the same thing twice\n",
        "\n",
        "          # Generate response\n",
        "          response = co.chat_stream(\n",
        "                    message=message,\n",
        "                    model=\"command-r-plus\",\n",
        "                    conversation_id=self.conversation_id,\n",
        "                    connectors=self.connectors,\n",
        "            )\n",
        "\n",
        "          # Print the chatbot response, citations, and documents\n",
        "          print(\"\\nChatbot:\")\n",
        "          citations = []\n",
        "          cited_documents = []\n",
        "\n",
        "          # Display response\n",
        "          for event in response:\n",
        "            if event.event_type == \"text-generation\":\n",
        "              print(event.text, end = \"\")\n",
        "            elif event.event_type == \"citation-generation\":\n",
        "              citations.extend(event.citations)\n",
        "            elif event.event_type == \"stream-end\":\n",
        "              cited_documents = event.response.documents\n",
        "\n",
        "          # Display citations and source documents\n",
        "          if citations:\n",
        "            print(\"\\n\\nCITATIONS:\")\n",
        "            for citation in citations:\n",
        "              print(citation)\n",
        "\n",
        "            print(\"\\nDOCUMENTS:\")\n",
        "            for document in cited_documents:\n",
        "              print({'id': document['id'],\n",
        "                      'snippet': document['snippet'][:400] + '...',\n",
        "                      'title': document['title'],\n",
        "                      'url': document['url']})\n",
        "\n",
        "          print(f\"\\n{'-'*100}\\n\")\n",
        "\n",
        "\n"
      ],
      "metadata": {
        "id": "0LXuTwBlgIef"
      },
      "execution_count": null,
      "outputs": []
    },
    {
      "cell_type": "markdown",
      "source": [
        "We can now run the chatbot.  For this, we create the instance of `Chatbot` using Cohere's managed web-search connector.  Then we run the chatbot by invoking the `run()` method.\n",
        "\n",
        "The format of each citation is:\n",
        "- `start`: The starting point of a span where one or more documents are referenced\n",
        "- `end`: The ending point of a span where one or more documents are referenced\n",
        "- `text`: The text representing this span\n",
        "- `document_ids`: The IDs of the documents being referenced (`doc_0` being the ID of the first document passed to the `documents` creating parameter in the endpoint call, and so on)"
      ],
      "metadata": {
        "id": "S0Oy5sTglfRu"
      }
    },
    {
      "cell_type": "code",
      "source": [
        "# Define the connector\n",
        "connector = ['web-search']\n",
        "\n",
        "# Create an instance of the Chatbot class\n",
        "chatbot = Chatbot(connector)\n",
        "\n",
        "# Run the chatbot\n",
        "chatbot.run()"
      ],
      "metadata": {
        "colab": {
          "base_uri": "https://localhost:8080/"
        },
        "id": "dPIG3wbGf3fA",
        "outputId": "aad1a94b-d768-4974-9a6a-68065862ebc0"
      },
      "execution_count": null,
      "outputs": [
        {
          "output_type": "stream",
          "name": "stdout",
          "text": [
            "user: hello \n",
            "\n",
            "Chatbot:\n",
            "Hello! How can I help you today?\n",
            "----------------------------------------------------------------------------------------------------\n",
            "\n",
            "user: how are you doing today?\n",
            "\n",
            "Chatbot:\n",
            "I don't have feelings, so I don't have good or bad days. How are you doing today?\n",
            "----------------------------------------------------------------------------------------------------\n",
            "\n",
            "user: tell me about yourself?\n",
            "\n",
            "Chatbot:\n",
            "I am an AI assistant chatbot trained to assist human users by providing thorough responses. I am designed to be helpful and harmless. I am always learning and evolving based on the data I receive. My goal is to make your life easier and more efficient by providing you with the information you need when you need it.\n",
            "----------------------------------------------------------------------------------------------------\n",
            "\n",
            "user: can you tell me briefly about what you can help me with? what is your knowledge base?\n",
            "\n",
            "Chatbot:\n",
            "I can help you with a wide range of tasks and topics. My knowledge base includes a vast array of information that I have been trained on, including but not limited to:\n",
            "\n",
            "- General knowledge and common sense\n",
            "- Science and technology\n",
            "- Culture and entertainment\n",
            "- History and geography\n",
            "- Language and literature\n",
            "- Sports and leisure activities\n",
            "- Health and fitness\n",
            "- And much more!\n",
            "\n",
            "You can ask me questions, and I will provide you with thorough responses based on my knowledge base. I can also assist you with tasks such as generating text, summarizing texts, extracting information from data, and providing personalized recommendations.\n",
            "----------------------------------------------------------------------------------------------------\n",
            "\n",
            "user: can you Prophet muhammed\n",
            "\n",
            "Chatbot:\n",
            "Muhammad (c. 570 – 8 June 632 CE) was an Arab religious, social, and political leader and the founder of Islam. He is regarded as the final messenger and prophet by all the main branches of Islam who was sent by God to guide humanity to the right way. He is also known as the final Prophet and messenger according to the Quran and Sunnah. \n",
            "\n",
            "Muhammad was born in Mecca, a city in the Arabian Peninsula, on a Monday in the once prestigious but losing Bani Hashim clan of the Quraysh, the ruling tribe of Mecca. His father, Abdullah, died before his birth, and his mother, Amina, died when he was six. He was raised by his paternal grandfather, Abd al-Muttalib, and later by his uncle, Abu Talib. \n",
            "\n",
            "Muhammad worked as a shepherd and a merchant in his early years. At the age of 25, he went to Syria as a merchant for Khadijah, a wealthy widow 15 years his senior. Khadijah was impressed by Muhammad's good manners, honesty, and deep thought and proposed to him. They were married, and Muhammad remained monogamously married to Khadijah until her death. \n",
            "\n",
            "Muhammad began receiving revelations from God at the age of 40 in the year 610 CE. The first revealed verses were the first five verses of Surah Al-Alaq, which the archangel Gabriel brought from God to Muhammad in the Cave of Hira in Mount Hira. These revelations became the basis of the Quran, the central religious text of Islam. \n",
            "\n",
            "Muhammad began preaching the oneness of God and stamping out idolatry in pre-Islamic Arabia. This led to opposition and persecution by the Meccans, and he and his followers fled to Medina in 622 CE, an event known as the Hijrah. In Medina, Muhammad united the tribes and drafted the Constitution of Medina, which formed a \"kind of alliance or federation\" among the communities. \n",
            "\n",
            "Muhammad led his followers in several battles against the Meccans, including the Battle of Badr, the Battle of Uhud, and the Battle of the Trench. In 630 CE, he marched on Mecca with 10,000 converts and seized the city with minimal casualties. By the time of his death in 632 CE, most of the Arabian Peninsula had converted to Islam. \n",
            "\n",
            "Muhammad died on June 8, 632, at the age of 62 or 63, in Medina. He is buried at al-Masjid an-Nabawi (the Mosque of the Prophet) in Medina, one of the first mosques he built.\n",
            "\n",
            "CITATIONS:\n",
            "start=9 end=16 text='(c. 570' document_ids=['web-search_0', 'web-search_2', 'web-search_5']\n",
            "start=19 end=32 text='8 June 632 CE' document_ids=['web-search_0', 'web-search_2']\n",
            "start=41 end=85 text='Arab religious, social, and political leader' document_ids=['web-search_0']\n",
            "start=94 end=111 text='founder of Islam.' document_ids=['web-search_0', 'web-search_1', 'web-search_4']\n",
            "start=134 end=161 text='final messenger and prophet' document_ids=['web-search_0', 'web-search_3']\n",
            "start=173 end=195 text='main branches of Islam' document_ids=['web-search_3']\n",
            "start=204 end=251 text='sent by God to guide humanity to the right way.' document_ids=['web-search_3']\n",
            "start=276 end=303 text='final Prophet and messenger' document_ids=['web-search_2']\n",
            "start=321 end=338 text='Quran and Sunnah.' document_ids=['web-search_2']\n",
            "start=362 end=367 text='Mecca' document_ids=['web-search_0', 'web-search_2', 'web-search_5']\n",
            "start=371 end=400 text='city in the Arabian Peninsula' document_ids=['web-search_2', 'web-search_4']\n",
            "start=407 end=413 text='Monday' document_ids=['web-search_2']\n",
            "start=421 end=480 text='once prestigious but losing Bani Hashim clan of the Quraysh' document_ids=['web-search_2']\n",
            "start=486 end=508 text='ruling tribe of Mecca.' document_ids=['web-search_2', 'web-search_4']\n",
            "start=513 end=552 text='father, Abdullah, died before his birth' document_ids=['web-search_0', 'web-search_2', 'web-search_5']\n",
            "start=562 end=598 text='mother, Amina, died when he was six.' document_ids=['web-search_0', 'web-search_2']\n",
            "start=620 end=657 text='paternal grandfather, Abd al-Muttalib' document_ids=['web-search_0', 'web-search_2']\n",
            "start=676 end=693 text='uncle, Abu Talib.' document_ids=['web-search_0', 'web-search_2']\n",
            "start=717 end=725 text='shepherd' document_ids=['web-search_2']\n",
            "start=732 end=740 text='merchant' document_ids=['web-search_2', 'web-search_4']\n",
            "start=768 end=777 text='age of 25' document_ids=['web-search_2', 'web-search_4']\n",
            "start=790 end=822 text='Syria as a merchant for Khadijah' document_ids=['web-search_2', 'web-search_4']\n",
            "start=826 end=839 text='wealthy widow' document_ids=['web-search_4']\n",
            "start=840 end=860 text='15 years his senior.' document_ids=['web-search_4']\n",
            "start=898 end=937 text='good manners, honesty, and deep thought' document_ids=['web-search_2']\n",
            "start=942 end=958 text='proposed to him.' document_ids=['web-search_2', 'web-search_4']\n",
            "start=982 end=1049 text='Muhammad remained monogamously married to Khadijah until her death.' document_ids=['web-search_2', 'web-search_4']\n",
            "start=1077 end=1097 text='revelations from God' document_ids=['web-search_0', 'web-search_2', 'web-search_3']\n",
            "start=1105 end=1114 text='age of 40' document_ids=['web-search_0', 'web-search_2', 'web-search_3']\n",
            "start=1127 end=1134 text='610 CE.' document_ids=['web-search_0', 'web-search_2']\n",
            "start=1139 end=1160 text='first revealed verses' document_ids=['web-search_0', 'web-search_2']\n",
            "start=1170 end=1204 text='first five verses of Surah Al-Alaq' document_ids=['web-search_0']\n",
            "start=1216 end=1233 text='archangel Gabriel' document_ids=['web-search_0', 'web-search_2', 'web-search_3']\n",
            "start=1270 end=1297 text='Cave of Hira in Mount Hira.' document_ids=['web-search_0', 'web-search_2']\n",
            "start=1327 end=1345 text='basis of the Quran' document_ids=['web-search_0', 'web-search_4']\n",
            "start=1351 end=1383 text='central religious text of Islam.' document_ids=['web-search_0', 'web-search_3']\n",
            "start=1415 end=1478 text='oneness of God and stamping out idolatry in pre-Islamic Arabia.' document_ids=['web-search_0', 'web-search_3']\n",
            "start=1491 end=1532 text='opposition and persecution by the Meccans' document_ids=['web-search_0', 'web-search_3']\n",
            "start=1567 end=1583 text='Medina in 622 CE' document_ids=['web-search_0', 'web-search_1', 'web-search_2']\n",
            "start=1607 end=1614 text='Hijrah.' document_ids=['web-search_0', 'web-search_1', 'web-search_3']\n",
            "start=1635 end=1652 text='united the tribes' document_ids=['web-search_0']\n",
            "start=1669 end=1691 text='Constitution of Medina' document_ids=['web-search_0']\n",
            "start=1708 end=1740 text='\"kind of alliance or federation\"' document_ids=['web-search_0']\n",
            "start=1847 end=1861 text='Battle of Badr' document_ids=['web-search_0']\n",
            "start=1867 end=1881 text='Battle of Uhud' document_ids=['web-search_0']\n",
            "start=1891 end=1912 text='Battle of the Trench.' document_ids=['web-search_0']\n",
            "start=1916 end=1922 text='630 CE' document_ids=['web-search_4']\n",
            "start=1927 end=1964 text='marched on Mecca with 10,000 converts' document_ids=['web-search_0', 'web-search_4']\n",
            "start=1969 end=2009 text='seized the city with minimal casualties.' document_ids=['web-search_0', 'web-search_4']\n",
            "start=2038 end=2044 text='632 CE' document_ids=['web-search_0']\n",
            "start=2046 end=2099 text='most of the Arabian Peninsula had converted to Islam.' document_ids=['web-search_0']\n",
            "start=2119 end=2130 text='June 8, 632' document_ids=['web-search_0', 'web-search_2']\n",
            "start=2139 end=2154 text='age of 62 or 63' document_ids=['web-search_0']\n",
            "start=2159 end=2166 text='Medina.' document_ids=['web-search_0', 'web-search_2']\n",
            "start=2173 end=2240 text='buried at al-Masjid an-Nabawi (the Mosque of the Prophet) in Medina' document_ids=['web-search_0']\n",
            "start=2253 end=2276 text='first mosques he built.' document_ids=['web-search_0']\n",
            "\n",
            "DOCUMENTS:\n",
            "{'id': 'web-search_0', 'snippet': 'Muhammad (c. 570 – 8 June 632 CE) was an Arab religious, social, and political leader and the founder of Islam. According to Islam, he was a prophet who was divinely inspired to preach and confirm the monotheistic teachings of Adam, Noah, Abraham, Moses, Jesus, and other prophets. He is believed to be the Seal of the Prophets and last Ulu al-ʿAzm Prophet in Islam. Along with the Quran, his teachin...', 'title': 'Muhammad - Wikipedia', 'url': 'https://en.wikipedia.org/wiki/Muhammad'}\n",
            "{'id': 'web-search_2', 'snippet': \"Don't have an account? Register\\n\\nDon't have an account? Register\\n\\nin: Prophets, Muhammad (ﷺ)\\n\\nProphet Muhammad (ﷺ)\\n\\nPosition established\\n\\nAbu Bakr (Sunni claim)\\n\\nMedina, Saudi Arabia\\n\\nProphet Muhammad (ca. 571 - June 8, 632), peace be upon him, is the Messenger of Allah (SWT), and the final Prophet of Islam. He is known as the final Prophet and messenger according to the Qur'an and Sunnah. He was ...\", 'title': 'Prophet Muhammad (ﷺ) | Islam Wiki | Fandom', 'url': 'https://islam.fandom.com/wiki/Prophet_Muhammad_(%EF%B7%BA)'}\n",
            "{'id': 'web-search_5', 'snippet': 'https://premium.britannica.com/premium-membership/?utm_source=premium&utm_medium=nav-login-box&utm_campaign=evergreen\\n\\nNew Articles History & Society\\n\\nLifestyles & Social Issues\\n\\nPhilosophy & Religion\\n\\nPolitics, Law & Government\\n\\nWorld History Science & Tech\\n\\nTechnology Biographies\\n\\nBrowse Biographies Animals & Nature\\n\\nBirds, Reptiles & Other Vertebrates\\n\\nBugs, Mollusks & Other Invertebrates\\n\\nFoss...', 'title': 'Muhammad - Prophet, Islam, Arabia | Britannica', 'url': 'https://www.britannica.com/biography/Muhammad/Biography-according-to-the-Islamic-tradition'}\n",
            "{'id': 'web-search_1', 'snippet': 'https://premium.britannica.com/premium-membership/?utm_source=premium&utm_medium=nav-login-box&utm_campaign=evergreen\\n\\nNew Articles History & Society\\n\\nLifestyles & Social Issues\\n\\nPhilosophy & Religion\\n\\nPolitics, Law & Government\\n\\nWorld History Science & Tech\\n\\nTechnology Biographies\\n\\nBrowse Biographies Animals & Nature\\n\\nBirds, Reptiles & Other Vertebrates\\n\\nBugs, Mollusks & Other Invertebrates\\n\\nFoss...', 'title': 'Muhammad | Biography, History, & Facts | Britannica', 'url': 'https://www.britannica.com/biography/Muhammad'}\n",
            "{'id': 'web-search_4', 'snippet': 'Muhammad was a prophet and founder of Islam.\\n\\nBy Biography.com Editors and Greg TimmonsUpdated: Apr 10, 2024 3:07 PM EDT\\n\\nWe may earn commission from links on this page, but we only recommend products we back.\\n\\nThe Life of Muhammad\\n\\nThe Prophet Muhammad\\n\\nThe Death of Muhammad\\n\\nMuhammad was the prophet and founder of Islam. Most of his early life was spent as a merchant. At age 40, he began to have...', 'title': 'Muhammad: Biography, Prophet, Founder of Islam', 'url': 'https://www.biography.com/religious-figures/muhammad'}\n",
            "{'id': 'web-search_3', 'snippet': \"In Islam, Muḥammad (Arabic: مُحَمَّد) is venerated as the Seal of the Prophets and earthly manifestation of primordial divine light (Nūr), who transmitted the eternal word of God (Qur'ān) from the angel Gabriel (Jabrāʾīl) to humans and jinn. Muslims believe that the Quran, the central religious text of Islam, was revealed to Muhammad by God, and that Muhammad was sent to guide people to Islam, whi...\", 'title': 'Muhammad in Islam - Wikipedia', 'url': 'https://en.wikipedia.org/wiki/Muhammad_in_Islam'}\n",
            "\n",
            "----------------------------------------------------------------------------------------------------\n",
            "\n",
            "user: What is Cohere's LLM University\n",
            "\n",
            "Chatbot:\n",
            "LLM University (LLMU) is a learning destination for developers and technical professionals to master Enterprise AI technologies. It offers comprehensive resources, expert-led courses, and step-by-step guides to help users enhance their skills and stay ahead in the rapidly evolving AI landscape. The courses are designed to help users start building quickly, drive innovation, and unlock the full potential of AI in their enterprises.\n",
            "\n",
            "CITATIONS:\n",
            "start=15 end=21 text='(LLMU)' document_ids=['web-search_0']\n",
            "start=27 end=47 text='learning destination' document_ids=['web-search_0']\n",
            "start=52 end=90 text='developers and technical professionals' document_ids=['web-search_0']\n",
            "start=94 end=128 text='master Enterprise AI technologies.' document_ids=['web-search_0']\n",
            "start=139 end=162 text='comprehensive resources' document_ids=['web-search_0']\n",
            "start=164 end=182 text='expert-led courses' document_ids=['web-search_0']\n",
            "start=188 end=207 text='step-by-step guides' document_ids=['web-search_0']\n",
            "start=222 end=242 text='enhance their skills' document_ids=['web-search_0']\n",
            "start=247 end=295 text='stay ahead in the rapidly evolving AI landscape.' document_ids=['web-search_0']\n",
            "start=335 end=357 text='start building quickly' document_ids=['web-search_0']\n",
            "start=359 end=375 text='drive innovation' document_ids=['web-search_0']\n",
            "start=381 end=434 text='unlock the full potential of AI in their enterprises.' document_ids=['web-search_0']\n",
            "\n",
            "DOCUMENTS:\n",
            "{'id': 'web-search_0', 'snippet': 'Introducing Command R7B: Fast and efficient generative AI Learn more\\n\\nWelcome to LLM University, your premier learning destination for mastering Enterprise AI technologies. Designed for developers and technical professionals, our hub offers comprehensive resources, expert-led courses, and step-by-step guides to help you start building quickly and stay ahead in the rapidly evolving AI landscape. Jo...', 'title': 'LLM University (LLMU)', 'url': 'https://cohere.com/llmu'}\n",
            "\n",
            "----------------------------------------------------------------------------------------------------\n",
            "\n",
            "user: quit\n",
            "Ending Chat... \n"
          ]
        }
      ]
    },
    {
      "cell_type": "code",
      "source": [],
      "metadata": {
        "id": "zRstLpUDmAWN"
      },
      "execution_count": null,
      "outputs": []
    }
  ]
}