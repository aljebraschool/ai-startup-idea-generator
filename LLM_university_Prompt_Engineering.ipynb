{
  "nbformat": 4,
  "nbformat_minor": 0,
  "metadata": {
    "colab": {
      "provenance": [],
      "authorship_tag": "ABX9TyPqagFpVjx+m5kvxfsdNCA0",
      "include_colab_link": true
    },
    "kernelspec": {
      "name": "python3",
      "display_name": "Python 3"
    },
    "language_info": {
      "name": "python"
    }
  },
  "cells": [
    {
      "cell_type": "markdown",
      "metadata": {
        "id": "view-in-github",
        "colab_type": "text"
      },
      "source": [
        "<a href=\"https://colab.research.google.com/github/aljebraschool/ai-startup-idea-generator/blob/master/LLM_university_Prompt_Engineering.ipynb\" target=\"_parent\"><img src=\"https://colab.research.google.com/assets/colab-badge.svg\" alt=\"Open In Colab\"/></a>"
      ]
    },
    {
      "cell_type": "code",
      "execution_count": null,
      "metadata": {
        "id": "OtiBj_79VCiF"
      },
      "outputs": [],
      "source": [
        "!pip install cohere -q"
      ]
    },
    {
      "cell_type": "code",
      "source": [
        "import cohere"
      ],
      "metadata": {
        "id": "bpftF0h5VSbH"
      },
      "execution_count": null,
      "outputs": []
    },
    {
      "cell_type": "code",
      "source": [
        "co = cohere.ClientV2(\"COHERE_API_KEY\") # Get your free API key: https://dashboard.cohere.com/api-keys"
      ],
      "metadata": {
        "id": "HizPgvOoVeCq"
      },
      "execution_count": null,
      "outputs": []
    },
    {
      "cell_type": "code",
      "source": [
        "def generate_text(prompt, temp = 0):\n",
        "  response = co.chat_stream(\n",
        "      model = \"command-r-plus-08-2024\",\n",
        "      messages = [{\"role\": \"user\", \"content\": prompt}],\n",
        "      temperature = temp\n",
        "  )\n",
        "\n",
        "  for event in response:\n",
        "     if event.type == \"content-delta\":\n",
        "      print(event.delta.message.content.text, end=\"\")"
      ],
      "metadata": {
        "id": "C931eopEVviT"
      },
      "execution_count": null,
      "outputs": []
    },
    {
      "cell_type": "code",
      "source": [
        "user_input = \"a wireless headphone product named the CO-1T\"\n",
        "\n",
        "prompt = f\"\"\"write a creative product description for {user_input}\"\"\"\n",
        "\n",
        "generate_text(prompt, temp = 0.5)"
      ],
      "metadata": {
        "colab": {
          "base_uri": "https://localhost:8080/"
        },
        "id": "FxruOF6yW-J0",
        "outputId": "ddb54cc7-2295-4068-c6a0-29348cfaf3f9"
      },
      "execution_count": null,
      "outputs": [
        {
          "output_type": "stream",
          "name": "stdout",
          "text": [
            "Unleash your listening experience with the revolutionary CO-1T wireless headphones, the ultimate audio companion for the modern music enthusiast. Step into a world of immersive sound, where every beat and melody comes alive.\n",
            "\n",
            "Crafted with precision, the CO-1T boasts a sleek and ergonomic design, ensuring a comfortable fit for extended listening sessions. The lightweight build and soft cushions provide a seamless blend of style and functionality, allowing you to wear them all day without compromise.\n",
            "\n",
            "Experience audio excellence as the custom-designed drivers deliver a rich and detailed soundscape. From thundering bass to crystal-clear highs, every note is reproduced with exceptional clarity, letting you discover hidden nuances in your favourite tracks. Immerse yourself in a 360-degree auditory journey, whether you're grooving to a live concert recording or getting lost in a cinematic soundtrack.\n",
            "\n",
            "Wireless freedom is at your fingertips with Bluetooth 5.0 technology, offering seamless connectivity and a stable connection. Roam freely without the hassle of tangled cords, and enjoy uninterrupted music streaming from your favourite devices. The intuitive touch controls on the earcup let you effortlessly navigate your playlist, adjust volume, and manage calls with a simple tap.\n",
            "\n",
            "The CO-1T is engineered to keep up with your busy lifestyle, featuring a long-lasting battery that provides hours of uninterrupted playback on a single charge. Quick charging technology gives you a boost when you need it, so you're never far from your favourite tunes.\n",
            "\n",
            "With its elegant aesthetics and premium materials, the CO-1T headphones are a statement piece that reflects your refined taste. Choose from a range of stylish colours to match your personal style and let the headphones become an extension of your personality.\n",
            "\n",
            "Elevate your everyday audio encounters and transform the way you listen. The CO-1T wireless headphones are not just a device; they're an invitation to a captivating sonic adventure. Get ready to press play and embark on a journey where music becomes an unforgettable experience!"
          ]
        }
      ]
    },
    {
      "cell_type": "markdown",
      "source": [
        "\n",
        "\n",
        "---\n",
        "A simple and short prompt can get you started, but in most cases, you’ll need to add specificity to your instructions. A generic prompt will return a generic response, and in most cases, that’s not what we want. In the same way that specific instructions will help humans do our job well, a model needs to be supplied with specific details to guide its response.\n",
        "\n",
        "Going back to the previous prompt, the generated product description was great, but what if we wanted it to include specific things, such as its features, who it is designed for, and so on? We can adjust the prompt to take more inputs from the user, like so:\n"
      ],
      "metadata": {
        "id": "E_V3yF_2Zw49"
      }
    },
    {
      "cell_type": "code",
      "source": [
        "user_input_product = \"a wireless headphone product named the CO-1T\"\n",
        "user_input_keywords = '\"bluetooth\", \"wireless\", \"fast charging\"'\n",
        "user_input_customer = \"a software developer who works in noisy offices\"\n",
        "user_input_describe = \"benefits of this product\"\n",
        "\n",
        "prompt = f\"\"\"Write a creative product description for {user_input_product}, \\\n",
        "with the keywords {user_input_keywords} for {user_input_customer}, and descripbe {user_input_describe}\n",
        "\n",
        "\"\"\"\n",
        "\n",
        "generate_text(prompt, temp = 0.5)"
      ],
      "metadata": {
        "colab": {
          "base_uri": "https://localhost:8080/"
        },
        "id": "kxorQP8TYSZC",
        "outputId": "ee9fdd43-49e4-4b71-e623-bd77ac322ac1"
      },
      "execution_count": null,
      "outputs": [
        {
          "output_type": "stream",
          "name": "stdout",
          "text": [
            "Introducing the CO-1T Wireless Headphones: Your Ultimate Audio Companion for Coding Bliss!\n",
            "\n",
            "As a software developer, you know the importance of staying focused in noisy office environments, and the CO-1T is here to revolutionize your productivity. These headphones are not just a device; they're a developer's best friend, offering an immersive audio experience with cutting-edge technology.\n",
            "\n",
            "**Bluetooth Freedom:**\n",
            "Say goodbye to tangled wires and hello to seamless connectivity! The CO-1T utilizes Bluetooth technology, ensuring you can roam freely around your workspace without any restrictions. Connect effortlessly to your devices, allowing you to compile code, debug, and create masterpieces without any distractions.\n",
            "\n",
            "**Noise-Canceling Productivity Boost:**\n",
            "Noisy colleagues and bustling offices can't disrupt your workflow anymore. These headphones provide active noise cancellation, creating a peaceful bubble where you can concentrate solely on your code. Immerse yourself in a world of silence, ensuring every line of code is written with precision and clarity.\n",
            "\n",
            "**Crystal-Clear Audio, Every Time:**\n",
            "Experience superior sound quality tailored for the discerning developer's ear. The CO-1T delivers crisp audio, making it easier to focus on voice calls, webinars, or even relaxing with your favorite tunes during breaks. From complex algorithms to soothing melodies, every detail will be heard with remarkable clarity.\n",
            "\n",
            "**Fast Charging, No Delays:**\n",
            "Time is precious, and the CO-1T respects your schedule. Equipped with fast-charging technology, these headphones ensure you're never out of the game for long. A quick charge provides hours of playback, so you can power through urgent projects without worrying about battery life.\n",
            "\n",
            "With its sleek design, ergonomic fit, and long-lasting comfort, the CO-1T is the perfect companion for long coding sessions. Its intuitive controls allow you to manage calls and music effortlessly, keeping you in control of your audio environment.\n",
            "\n",
            "Invest in the CO-1T and transform your coding experience. Stay focused, productive, and immersed in a world where the only noise is the sound of your success!"
          ]
        }
      ]
    },
    {
      "cell_type": "markdown",
      "source": [
        "\n",
        "\n",
        "---\n",
        "There are many other angles to add specificity to a prompt. Here are some examples:\n",
        "\n",
        "Style: Telling the model to provide a response that follows a certain style or framework. For example, instead of asking the model to “Generate an ad copy for a wireless headphone product” in the generic sense, we ask it to follow a certain style, such as “Generate an ad copy for a wireless headphone product, following the AIDA Framework – Attention, Interest, Desire, Action.”\n",
        "Tone: Adding a line mentioning how the tone of a piece of text should be, such as professional, inspirational, fun, serious, and so on. For example, “Tone: casual”\n",
        "Persona: Telling the model to act like a certain persona helps to add originality and quality to the response. For example, “You are a world-class content marketer. Write a product description for…”\n",
        "Length: Telling the model to generate text with a specific length, be it in words, paragraphs, and others. This helps guide the model to be verbose, concise, or somewhere in between. For example, “Write in three paragraphs the benefits of …”\n"
      ],
      "metadata": {
        "id": "0sIW4hj5bkuD"
      }
    },
    {
      "cell_type": "markdown",
      "source": [
        "\n",
        "\n",
        "\n",
        "---\n",
        "\n",
        "In real applications, being able to add context to a prompt is key because this is what enables personalized generative AI for a team or company. It makes many use cases possible, such as intelligent assistants, customer support, and productivity tools, that retrieve the right information from a wide range of sources and add it to the prompt.\n",
        "\n",
        "This is a whole topic on its own, but to provide some idea, this demo shows an example of information retrieval in action. In this article though, we’ll assume that the right information is already retrieved and added to the prompt.\n",
        "\n",
        "Here’s an example where we ask the model to list the features of the CO-1T wireless headphone without any additional context:\n",
        "\n",
        "This generates a response that the model makes up since it doesn’t have any information to refer to.\n",
        "\n"
      ],
      "metadata": {
        "id": "sa11ZsIfcUF-"
      }
    },
    {
      "cell_type": "code",
      "source": [
        "user_input =\"What are the key features of the CO-1T wireless headphone\"\n",
        "prompt = user_input\n",
        "\n",
        "generate_text(prompt, temp=0)"
      ],
      "metadata": {
        "colab": {
          "base_uri": "https://localhost:8080/"
        },
        "id": "JuLlDEDJajel",
        "outputId": "d9f50047-eb39-4301-e371-3402e1974c71"
      },
      "execution_count": null,
      "outputs": [
        {
          "output_type": "stream",
          "name": "stdout",
          "text": [
            "The CO-1T wireless headphones are a popular audio product, offering a range of features that enhance the listening experience. Here are some of its key features:\n",
            "\n",
            "- **Active Noise Cancellation (ANC):** This is one of the standout features of the CO-1T headphones. ANC technology uses microphones to detect external noise and generates opposite sound waves to cancel it out, providing a quieter and more immersive audio environment for the listener. This feature is especially useful for travelers, commuters, or anyone in noisy environments who want to enjoy their music or focus on work without distractions.\n",
            "\n",
            "- **Wireless Connectivity:** As the name suggests, these headphones offer wireless connectivity, typically via Bluetooth. This allows users to connect to various devices like smartphones, tablets, laptops, and more without the hassle of tangled cables. Bluetooth provides a stable connection and a reasonable range of movement, ensuring freedom of movement during use.\n",
            "\n",
            "- **Audio Quality:** CO-1T headphones are known for their high-quality sound reproduction. They often feature advanced drivers and audio processing technologies to deliver clear, detailed sound with a balanced frequency response. The headphones may offer support for high-resolution audio formats, providing an enhanced listening experience for audiophiles.\n",
            "\n",
            "- **Comfort and Design:** These headphones are designed for extended wear, featuring soft ear cushions and an adjustable headband for a comfortable fit. The ergonomic design ensures that users can wear them for long periods without fatigue. The CO-1T headphones often have a sleek and modern aesthetic, available in various colors to suit personal style preferences.\n",
            "\n",
            "- **Battery Life:** Wireless headphones heavily rely on battery power, and the CO-1T model typically offers long-lasting battery life. Users can enjoy hours of uninterrupted music playback or talk time on a single charge. Some models may also support fast charging, providing a quick boost of power for extended use.\n",
            "\n",
            "- **Controls and Microphone:** On-ear controls allow users to adjust volume, play/pause music, skip tracks, and answer/end calls without reaching for their connected device. The built-in microphone enables hands-free calling and voice assistant activation, providing convenience and ease of use.\n",
            "\n",
            "- **Portability and Foldable Design:** Many CO-1T headphones have a foldable design, making them easy to pack and carry during travel. The headphones often come with a protective case or pouch, ensuring they remain safe and secure when not in use.\n",
            "\n",
            "- **Smart Features:** Some advanced models may offer additional smart features like touch controls, customizable sound profiles, and compatibility with mobile apps for personalized settings and updates.\n",
            "\n",
            "- **Durability and Build Quality:** These headphones are usually built to last, with durable materials and construction to withstand daily use. Water resistance is a feature in some models, protecting against sweat and light rain.\n",
            "\n",
            "The CO-1T wireless headphones aim to provide an exceptional audio experience with a focus on comfort, convenience, and advanced features. It is always a good idea to check the specific model's specifications and reviews to ensure it meets your individual needs and preferences."
          ]
        }
      ]
    },
    {
      "cell_type": "markdown",
      "source": [
        "\n",
        "\n",
        "---\n",
        "And here’s the same request to the model, this time with the product description of the product added as context.\n"
      ],
      "metadata": {
        "id": "KM-yQF6GcuBS"
      }
    },
    {
      "cell_type": "code",
      "source": [
        "context = \"\"\"Think back to the last time you were working without any distractions in the office. That's right...I bet it's been a while. \\\n",
        "With the newly improved CO-1T noise-cancelling Bluetooth headphones, you can work in peace all day. Designed in partnership with \\\n",
        "software developers who work around the mayhem of tech startups, these headphones are finally the break you've been waiting for. With \\\n",
        "fast charging capacity and wireless Bluetooth connectivity, the CO-1T is the easy breezy way to get through your day without being \\\n",
        "overwhelmed by the chaos of the world.\"\"\"\n",
        "\n",
        "user_input = \"What are the key features of the CO-1T wireless headphone\"\n",
        "\n",
        "prompt = f\"\"\"{context}\n",
        "Given the information above, answer this question: {user_input}\"\"\"\n",
        "\n",
        "generate_text(prompt, temp=0)"
      ],
      "metadata": {
        "colab": {
          "base_uri": "https://localhost:8080/"
        },
        "id": "yA1NmVF4cfq-",
        "outputId": "157eb440-e3f2-4916-a8e2-6c5281dba59a"
      },
      "execution_count": null,
      "outputs": [
        {
          "output_type": "stream",
          "name": "stdout",
          "text": [
            "The CO-1T wireless headphones boast several impressive features, making them an attractive option for those seeking a productive and peaceful work environment. Here are the key features:\n",
            "\n",
            "- **Noise-Canceling Technology:** The primary highlight is its noise-canceling capability, allowing users to block out surrounding distractions, especially in busy office settings or noisy tech startups. This feature ensures you can focus solely on your tasks without interruptions.\n",
            "\n",
            "- **Fast Charging:** CO-1T headphones are designed with fast charging in mind, enabling users to quickly power up their headphones for extended use. This is particularly beneficial for those who need their headphones ready for an entire workday without frequent charging breaks.\n",
            "\n",
            "- **Wireless Bluetooth Connectivity:** These headphones offer a wireless connection via Bluetooth, providing freedom of movement and eliminating the hassle of tangled wires. Users can easily connect to their devices and enjoy uninterrupted audio without being physically tethered to their workstations.\n",
            "\n",
            "- **Long-Lasting Battery Life:** With efficient battery management, the CO-1T headphones can provide all-day usage, ensuring you can work without worrying about running out of battery. \n",
            "\n",
            "- **Developer-Friendly Design:** The headphones are specifically tailored to the needs of software developers, who often work in bustling environments. By collaborating with developers, the design ensures it caters to the unique challenges of their profession.\n",
            "\n",
            "The CO-1T headphones seem to be an ideal companion for professionals seeking a quiet and efficient workspace, especially in chaotic or noisy surroundings."
          ]
        }
      ]
    },
    {
      "cell_type": "markdown",
      "source": [
        "\n",
        "\n",
        "---\n",
        "So far, we saw how to get the model to generate responses that follow certain styles or include specific information. But we can also get the model to generate responses in a certain format. Let’s look at a couple of them: markdown tables and JSON strings.\n",
        "\n",
        "Here, the task is to extract information from a list of invoices. Instead of providing the information in plain text, we can prompt the model to generate a table that contains all the information required.\n"
      ],
      "metadata": {
        "id": "LSYScDZAdGGl"
      }
    },
    {
      "cell_type": "code",
      "source": [
        "prompt=\"\"\"Turn the following information into a table with columns Invoice Number, Merchant Name, and Account Number.\n",
        "Bank Invoice: INVOICE #0521 MERCHANT ALLBIRDS ACC XXX3846\n",
        "Bank Invoice: INVOICE #6781 MERCHANT SHOPPERS ACC XXX9877\n",
        "Bank Invoice: INVOICE #0777 MERCHANT CN TOWER ACC XXX3846\n",
        "\"\"\"\n",
        "\n",
        "generate_text(prompt, temp=0)"
      ],
      "metadata": {
        "colab": {
          "base_uri": "https://localhost:8080/"
        },
        "id": "LNvFlbtCcyrM",
        "outputId": "d4655232-d078-4107-ad49-4fb9207c38da"
      },
      "execution_count": null,
      "outputs": [
        {
          "output_type": "stream",
          "name": "stdout",
          "text": [
            "| Invoice Number | Merchant Name | Account Number |\n",
            "|---|---|---|\n",
            "| #0521 | ALLBIRDS | XXX3846 |\n",
            "| #6781 | SHOPPERS | XXX9877 |\n",
            "| #0777 | CN TOWER | XXX3846 |"
          ]
        }
      ]
    },
    {
      "cell_type": "code",
      "source": [
        "prompt=\"\"\"Turn the following information into a JSON string with the following keys: Invoice Number, Merchant Name, and Account Number.\n",
        "Bank Invoice: INVOICE #0521 MERCHANT ALLBIRDS ACC XXX3846\n",
        "Bank Invoice: INVOICE #6781 MERCHANT SHOPPERS ACC XXX9877\n",
        "Bank Invoice: INVOICE #0777 MERCHANT CN TOWER ACC XXX3846\n",
        "\"\"\"\n",
        "\n",
        "generate_text(prompt, temp=0)"
      ],
      "metadata": {
        "colab": {
          "base_uri": "https://localhost:8080/"
        },
        "id": "zBscD6IUdJqi",
        "outputId": "d2213fa9-bb2f-49fc-a55e-cb248a7ef7e5"
      },
      "execution_count": null,
      "outputs": [
        {
          "output_type": "stream",
          "name": "stdout",
          "text": [
            "[\n",
            "    {\n",
            "        \"Invoice Number\": \"0521\",\n",
            "        \"Merchant Name\": \"ALLBIRDS\",\n",
            "        \"Account Number\": \"XXX3846\"\n",
            "    },\n",
            "    {\n",
            "        \"Invoice Number\": \"6781\",\n",
            "        \"Merchant Name\": \"SHOPPERS\",\n",
            "        \"Account Number\": \"XXX9877\"\n",
            "    },\n",
            "    {\n",
            "        \"Invoice Number\": \"0777\",\n",
            "        \"Merchant Name\": \"CN TOWER\",\n",
            "        \"Account Number\": \"XXX3846\"\n",
            "    }\n",
            "]"
          ]
        }
      ]
    },
    {
      "cell_type": "code",
      "source": [
        "prompt=\"\"\"Turn the following message to a virtual assistant into the correct action:\n",
        "Send a message to Alison to ask if she can pick me up tonight to go to the concert together\"\"\"\n",
        "\n",
        "generate_text(prompt, temp=0)"
      ],
      "metadata": {
        "colab": {
          "base_uri": "https://localhost:8080/"
        },
        "id": "eY8Nbx3sdOtI",
        "outputId": "4bb1c3c8-7a78-4ab7-81f7-341c9607addb"
      },
      "execution_count": null,
      "outputs": [
        {
          "output_type": "stream",
          "name": "stdout",
          "text": [
            "**Subject: Concert Transportation**\n",
            "\n",
            "Hi Alison,\n",
            "\n",
            "I hope this message finds you well. I wanted to reach out and ask if you would be available to give me a ride to the concert tonight. It would be great to go together and I thought it might be more convenient to travel with you if possible.\n",
            "\n",
            "Please let me know if this works for you, and feel free to suggest an alternative arrangement if not.\n",
            "\n",
            "Thank you, and I look forward to hearing from you soon!\n",
            "\n",
            "Best regards,\n",
            "[Your Name]"
          ]
        }
      ]
    },
    {
      "cell_type": "code",
      "source": [
        "er_input = \"Send a message to Alison to ask if she can pick me up tonight to go to the concert together\"\n",
        "\n",
        "prompt=f\"\"\"Turn the following message to a virtual assistant into the correct action:\n",
        "\n",
        "Message: Ask my aunt if she can go to the JDRF Walk with me October 6th\n",
        "Action: can you go to the jdrf walk with me october 6th\n",
        "\n",
        "Message: Ask Eliza what should I bring to the wedding tomorrow\n",
        "Action: what should I bring to the wedding tomorrow\n",
        "\n",
        "Message: Send message to supervisor that I am sick and will not be in today\n",
        "Action: I am sick and will not be in today\n",
        "\n",
        "Message: {user_input}\"\"\"\n",
        "\n",
        "generate_text(prompt, temp=0)"
      ],
      "metadata": {
        "colab": {
          "base_uri": "https://localhost:8080/"
        },
        "id": "UtFoc2iQdwdJ",
        "outputId": "abca1f19-1ea3-4fa6-fc45-b2c8425a1ce2"
      },
      "execution_count": null,
      "outputs": [
        {
          "output_type": "stream",
          "name": "stdout",
          "text": [
            "Message: Ask my aunt if she can go to the JDRF Walk with me October 6th\n",
            "Action: Hey Aunt, are you available to join me for the JDRF Walk on October 6th? I'd love to have your company and support for the event. Let me know if you're interested, and we can plan accordingly!"
          ]
        }
      ]
    },
    {
      "cell_type": "markdown",
      "source": [
        "# Chain of Thought\n",
        "\n",
        "One specific way to provide examples in a prompt is to show responses that include a reasoning step. This way, we are asking the model to “think” first rather than going straight to the response. In tasks involving mathematical questions, for example, there is a huge difference between directly giving the answer and adding a reasoning step in between.\n",
        "\n",
        "This concept is called chain of thought prompting, introduced by Wei et al.\n",
        "\n",
        "First let’s look at a prompt without a chain of thought. It contains one example of a question followed by the answer, without any intermediate calculation step. It also contains the new question we want to answer."
      ],
      "metadata": {
        "id": "N7D0eu7xeHAk"
      }
    },
    {
      "cell_type": "code",
      "source": [
        "prompt=f\"\"\"Q: Roger has 5 tennis balls. He buys 2 more cans of tennis balls. Each can has 3 tennis balls. \\\n",
        "How many tennis balls does he have now?\n",
        "A: The answer is 11.\n",
        "---\n",
        "Q: The cafeteria had 23 apples. If they used 20 to make lunch and bought 6 more, how many apples do they have?\n",
        "A: The answer is 9.\n",
        "---\n",
        "Q: A box has 10 balls and a half of the balls are red balls. How many red balls are in the box if 4 red balls are added?\n",
        "A:\"\"\"\n",
        "\n",
        "generate_text(prompt, temp=0)"
      ],
      "metadata": {
        "colab": {
          "base_uri": "https://localhost:8080/"
        },
        "id": "7dTFMBKOeA7K",
        "outputId": "f4e909de-d8d8-4393-ca64-b18b9476598f"
      },
      "execution_count": null,
      "outputs": [
        {
          "output_type": "stream",
          "name": "stdout",
          "text": [
            "The answer is 7.\n",
            "\n",
            "Initially, there are 10 balls in the box, and half of them are red, so there are 5 red balls. When 4 more red balls are added, the total number of red balls becomes 9."
          ]
        }
      ]
    },
    {
      "cell_type": "markdown",
      "source": [
        "Now, let’s repeat that, this time with a chain of thought. Now, the example answer contains a reasoning step, describing the calculation logic to get to the final answer, before giving the final answer."
      ],
      "metadata": {
        "id": "SagiR37Tegpa"
      }
    },
    {
      "cell_type": "code",
      "source": [
        "prompt=f\"\"\"Q: Roger has 5 tennis balls. He buys 2 more cans of tennis balls. Each can has 3 tennis balls. \\\n",
        "How many tennis balls does he have now?\n",
        "A: Roger started with 5 balls. 2 cans of 3 tennis balls each is 6 tennis balls. 5 + 6 = 11. \\\n",
        "The answer is 11.\n",
        "---\n",
        "Q: The cafeteria had 23 apples. If they used 20 to make lunch and bought 6 more, how many apples do they have?\n",
        "A: The cafeteria started with 23 apples. They used 20 to make lunch, so they have 23 - 20 = 3 apples. They bought 6 more apples, so they have 3 + 6 = 9 apples. \\\n",
        "The answer is 9.\n",
        "---\n",
        "Q: A box has 12 balls and a half of the balls are red balls. How many red balls are in the box if 4 red balls are added?\n",
        "A:\"\"\"\n",
        "\n",
        "generate_text(prompt, temp=0)"
      ],
      "metadata": {
        "colab": {
          "base_uri": "https://localhost:8080/"
        },
        "id": "ZV_g0tYbedRm",
        "outputId": "5fc555c9-3308-4aa0-dd18-1d1592a1b7a2"
      },
      "execution_count": null,
      "outputs": [
        {
          "output_type": "stream",
          "name": "stdout",
          "text": [
            "There are 12 balls in the box and half of them are red, so there are 12 / 2 = 6 red balls. If 4 red balls are added, there are 6 + 4 = 10 red balls. The answer is 10."
          ]
        }
      ]
    },
    {
      "cell_type": "markdown",
      "source": [
        "# step\n",
        "\n",
        "To steer the model toward generating higher-quality responses, it can be helpful to add instructions for the model to generate intermediate steps before generating the final output. The information generated during these steps helps enrich the model’s context before it generates the final response.\n",
        "\n",
        "There could be another scenario where we specifically need the response to contain specific information. In this case, we can specify what we need in the prompt.\n",
        "\n",
        "Let’s use an example of generating startup ideas. We can get the model to directly generate an idea for a given industry, like so:"
      ],
      "metadata": {
        "id": "TMx3zORgeypD"
      }
    },
    {
      "cell_type": "code",
      "source": [
        "user_input = \"education\"\n",
        "\n",
        "prompt = f\"\"\"Generate a startup idea for this industry: {user_input}\"\"\"\n",
        "\n",
        "generate_text(prompt, temp=0.5)"
      ],
      "metadata": {
        "colab": {
          "base_uri": "https://localhost:8080/"
        },
        "id": "4xcSAav6ejsz",
        "outputId": "f4ad8eae-ee58-4486-cfc9-80235748558f"
      },
      "execution_count": null,
      "outputs": [
        {
          "output_type": "stream",
          "name": "stdout",
          "text": [
            "Here's a startup idea for the education industry:\n",
            "\n",
            "**Personalized Learning Platform for K-12 Students**\n",
            "\n",
            "The startup will create an innovative online learning platform tailored to the unique needs of K-12 students, aiming to revolutionize the way education is delivered and make learning more engaging and effective.\n",
            "\n",
            "**Problem Statement:**\n",
            "Traditional classroom teaching often struggles to cater to the diverse learning needs of students, leading to a one-size-fits-all approach. Many students may fall behind or fail to reach their full potential due to a lack of personalized attention and engagement.\n",
            "\n",
            "**Solution:**\n",
            "- **Adaptive Learning Modules:** Develop an adaptive learning system that creates personalized learning paths for each student. The platform will assess students' strengths, weaknesses, and learning styles through interactive quizzes and exercises. It will then generate customized lesson plans, ensuring students receive targeted instruction in areas they need the most help.\n",
            "\n",
            "- **Interactive and Engaging Content:** Create a library of interactive educational content, including videos, simulations, games, and virtual reality experiences. This immersive content will make learning more enjoyable and memorable, especially for subjects like science, history, and geography.\n",
            "\n",
            "- **Real-Time Progress Tracking:** Implement a comprehensive progress tracking system that provides students, parents, and teachers with real-time updates on individual performance. This feature will help identify areas of improvement and allow teachers to offer timely interventions.\n",
            "\n",
            "- **Online Tutoring and Mentorship:** Build a network of qualified tutors and mentors who can provide one-on-one online support to students. These mentors will offer guidance, answer questions, and provide additional explanations to reinforce learning.\n",
            "\n",
            "- **Collaborative Learning Environment:** Facilitate peer-to-peer learning by creating virtual study groups and collaborative projects. This approach encourages students to learn from and teach each other, fostering a sense of community.\n",
            "\n",
            "- **Teacher Support Tools:** Develop resources and analytics dashboards to assist teachers in identifying student trends and adapting their teaching methods accordingly. This empowers teachers to provide more personalized instruction in the classroom.\n",
            "\n",
            "**Monetization:**\n",
            "- Charge a subscription fee for students to access the personalized learning platform and its advanced features.\n",
            "- Offer premium tutoring services with expert mentors at an additional cost.\n",
            "- Partner with schools and educational institutions to provide the platform as a comprehensive learning solution.\n",
            "\n",
            "**Benefits:**\n",
            "- Improved learning outcomes and student engagement.\n",
            "- Personalized education tailored to individual needs.\n",
            "- Enhanced teacher efficiency and effectiveness.\n",
            "- Accessible and affordable supplementary education.\n",
            "\n",
            "This startup idea aims to bridge the gap between traditional education and modern technology, ensuring that every student receives a high-quality, personalized learning experience."
          ]
        }
      ]
    },
    {
      "cell_type": "markdown",
      "source": [
        "\n",
        "\n",
        "---\n",
        "Alternatively, we can ask the model to generate information in steps, such as describing the problem to be solved and the target audience experiencing this problem.\n"
      ],
      "metadata": {
        "id": "97tiwZNrfALp"
      }
    },
    {
      "cell_type": "code",
      "source": [
        "user_input = \"education\"\n",
        "\n",
        "prompt = f\"\"\"Generate a startup idea for this industry: {user_input}\n",
        "First, describe the problem to be solved.\n",
        "Next, describe the target audience of this startup idea.\n",
        "Next, describe the startup idea and how it solves the problem for the target audience.\n",
        "Next, provide a name for the given startup.\n",
        "\n",
        "Use the following format:\n",
        "Industry: <the given industry>\n",
        "The Problem: <the given problem>\n",
        "Audience: <the given target audience>\n",
        "Startup Idea: <the given idea>\n",
        "Startup Name: <the given name>\"\"\"\n",
        "\n",
        "generate_text(prompt, temp=0.9)"
      ],
      "metadata": {
        "colab": {
          "base_uri": "https://localhost:8080/"
        },
        "id": "ajtn1ucie21s",
        "outputId": "3077318d-c0ba-4fb5-a2e0-e503d85317ee"
      },
      "execution_count": null,
      "outputs": [
        {
          "output_type": "stream",
          "name": "stdout",
          "text": [
            "Industry: Education\n",
            "The Problem: Students often struggle with motivation and engagement, especially when learning remotely or through online platforms. This lack of engagement can lead to poor academic performance and decreased learning outcomes.\n",
            "\n",
            "Audience: Students of all ages, from primary school to university level, who are enrolled in online courses or remote learning programs. This also targets educators and institutions seeking innovative ways to enhance the learning experience.\n",
            "\n",
            "Startup Idea: Introducing 'EngageLearn'—an interactive learning platform that revolutionizes education by making it immersive and highly engaging. EngageLearn offers a unique approach by transforming traditional lessons into interactive games, virtual simulations, and augmented reality experiences. \n",
            "\n",
            "For example, history lessons can become virtual time-travel adventures, where students explore ancient civilizations and make historical discoveries. Science classes can involve interactive experiments in virtual labs, allowing students to learn through practical application. Each learning module will have built-in incentives and rewards to encourage students to complete tasks and progress through the curriculum.\n",
            "\n",
            "The platform also provides personalized learning paths, adapting to each student's pace and learning style. EngageLearn offers a comprehensive dashboard for educators to track student progress, identify areas of improvement, and provide tailored feedback. This real-time data analysis ensures that educators can quickly address learning gaps and keep students motivated.\n",
            "\n",
            "Startup Name: EngageLearn."
          ]
        }
      ]
    },
    {
      "cell_type": "code",
      "source": [],
      "metadata": {
        "id": "SQAKnLFyfEKC"
      },
      "execution_count": null,
      "outputs": []
    }
  ]
}