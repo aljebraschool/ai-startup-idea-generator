{
  "nbformat": 4,
  "nbformat_minor": 0,
  "metadata": {
    "colab": {
      "provenance": [],
      "authorship_tag": "ABX9TyMJh8wMBwXbT5pX7IeVEnz2",
      "include_colab_link": true
    },
    "kernelspec": {
      "name": "python3",
      "display_name": "Python 3"
    },
    "language_info": {
      "name": "python"
    }
  },
  "cells": [
    {
      "cell_type": "markdown",
      "metadata": {
        "id": "view-in-github",
        "colab_type": "text"
      },
      "source": [
        "<a href=\"https://colab.research.google.com/github/aljebraschool/ai-startup-idea-generator/blob/master/LLM_university_Use_Case_Patterns.ipynb\" target=\"_parent\"><img src=\"https://colab.research.google.com/assets/colab-badge.svg\" alt=\"Open In Colab\"/></a>"
      ]
    },
    {
      "cell_type": "code",
      "execution_count": null,
      "metadata": {
        "colab": {
          "base_uri": "https://localhost:8080/"
        },
        "id": "wnGb_Mt9Wuyu",
        "outputId": "d2f07060-1a4c-49dc-e995-81818173f55a"
      },
      "outputs": [
        {
          "output_type": "stream",
          "name": "stdout",
          "text": [
            "\u001b[2K   \u001b[90m━━━━━━━━━━━━━━━━━━━━━━━━━━━━━━━━━━━━━━━━\u001b[0m \u001b[32m249.9/249.9 kB\u001b[0m \u001b[31m5.1 MB/s\u001b[0m eta \u001b[36m0:00:00\u001b[0m\n",
            "\u001b[2K   \u001b[90m━━━━━━━━━━━━━━━━━━━━━━━━━━━━━━━━━━━━━━━━\u001b[0m \u001b[32m3.1/3.1 MB\u001b[0m \u001b[31m42.1 MB/s\u001b[0m eta \u001b[36m0:00:00\u001b[0m\n",
            "\u001b[?25h"
          ]
        }
      ],
      "source": [
        "!pip install cohere -q"
      ]
    },
    {
      "cell_type": "code",
      "source": [
        "import cohere"
      ],
      "metadata": {
        "id": "QRaqzqp-XBAg"
      },
      "execution_count": null,
      "outputs": []
    },
    {
      "cell_type": "code",
      "source": [
        "co = cohere.ClientV2(\"COHERE_API_KEY\") # Get your free API key: https://dashboard.cohere.com/api-keys"
      ],
      "metadata": {
        "id": "ERZoWuzPXC3d"
      },
      "execution_count": null,
      "outputs": []
    },
    {
      "cell_type": "code",
      "source": [
        "def generate_text(prompt, temp = 0):\n",
        "  response = co.chat_stream(\n",
        "      model = \"command-r-plus-08-2024\",\n",
        "      messages = [{\"role\": \"user\", \"content\": prompt}],\n",
        "      temperature= temp\n",
        "\n",
        "  )\n",
        "  for event in response:\n",
        "    if event.type == \"content-delta\":\n",
        "      print(event.delta.message.content.text, end = \"\")"
      ],
      "metadata": {
        "id": "2BpkhAdBXMxS"
      },
      "execution_count": null,
      "outputs": []
    },
    {
      "cell_type": "markdown",
      "source": [
        "\n",
        "\n",
        "---\n",
        "Our examples will revolve around a company’s activities for launching a new wireless headphone product, such as getting the word out, managing customer interactions, and so on. For this, let’s define a text snippet containing the product description. We’ll be utilizing this snippet in several examples throughout this article.\n"
      ],
      "metadata": {
        "id": "5lV60CG0Yqn6"
      }
    },
    {
      "cell_type": "code",
      "source": [
        "product=\"\"\"The CO-1T is a wireless headphone product that uses Bluetooth technology to connect to your devices. \\\n",
        "It has a long battery life and can be quickly charged using the included USB cable. The headphone is \\\n",
        "lightweight and comfortable, ideal for long periods of use. It has a built-in microphone for making calls, \\\n",
        "and a button to control the volume. The CO-1T is a great choice for anyone looking for a wireless headphone \\\n",
        "product with great battery life.\"\"\""
      ],
      "metadata": {
        "id": "gKnPaXxpYfaJ"
      },
      "execution_count": null,
      "outputs": []
    },
    {
      "cell_type": "markdown",
      "source": [
        "# Writing\n",
        "\n",
        "We’ll start with the most general type of use case, which is writing.\n",
        "\n",
        "Here we can ask the model to write freeform text, for example, with this prompt: “Create an email about the launch of the wireless headphone product”. But that alone might not be very useful in practical applications because the generated text can go in very different directions. We may want to add more context and specificity to the prompt.\n",
        "\n",
        "Here’s how we can do that. Let’s say we’re building an application for users to enter some bullet points and get a complete email written. We can set up the prompt in the following way: create a variable for the user to input some text and merge that, together with the product description, into the main prompt."
      ],
      "metadata": {
        "id": "DupWQ0H6Yxjp"
      }
    },
    {
      "cell_type": "code",
      "source": [
        "user_input = \"\"\"\n",
        "- announce product launce\n",
        "-create a call to action\n",
        "-mention live chat for support\n",
        "\n",
        "\"\"\"\n",
        "\n",
        "prompt = f\"\"\"\n",
        "{product} create an email about the product above mentioning the following {user_input}\n",
        "\n",
        "\"\"\""
      ],
      "metadata": {
        "id": "o31TUL9LYutR"
      },
      "execution_count": null,
      "outputs": []
    },
    {
      "cell_type": "code",
      "source": [
        "response = generate_text(prompt, temp = 0.5)\n",
        "\n",
        "print(response)"
      ],
      "metadata": {
        "colab": {
          "base_uri": "https://localhost:8080/"
        },
        "id": "jziumoGfZ5IX",
        "outputId": "4a70c790-25b3-4fc4-b986-0475249900c9"
      },
      "execution_count": null,
      "outputs": [
        {
          "output_type": "stream",
          "name": "stdout",
          "text": [
            "Subject: Introducing the CO-1T Wireless Headphones: Unparalleled Audio Experience\n",
            "\n",
            "Dear Valued Customers,\n",
            "\n",
            "We are thrilled to announce the launch of our newest innovation in wireless audio technology: the CO-1T Headphones! Prepare to elevate your listening experience with a device that seamlessly blends performance and convenience.\n",
            "\n",
            "**Unparalleled Audio Experience:**\n",
            "The CO-1T is designed with your comfort and audio preferences in mind. Its lightweight construction ensures you can enjoy your favorite music, podcasts, or calls for extended periods without any discomfort. The Bluetooth connectivity provides a stable and wireless connection to your devices, allowing you to move freely without tangles and interruptions.\n",
            "\n",
            "**Long-Lasting Battery Life:**\n",
            "Say goodbye to frequent charging! The CO-1T boasts an impressive battery life, allowing you to enjoy uninterrupted audio for hours on end. And when it's time to recharge, the included USB cable ensures a quick and efficient process, getting you back to your audio adventures in no time.\n",
            "\n",
            "**Convenient Controls and Hands-Free Calls:**\n",
            "These headphones offer a seamless user experience. The built-in microphone enables crystal-clear hands-free calls, allowing you to stay connected while on the move. The dedicated volume button provides easy control over your audio levels, ensuring you can quickly adjust the sound to your preference.\n",
            "\n",
            "As we introduce this exciting product, we invite you to be among the first to experience the CO-1T's exceptional performance:\n",
            "\n",
            "[Call to Action: \"Pre-order Now and Receive a Special Launch Discount!\"]\n",
            "\n",
            "Simply visit our website and navigate to the CO-1T product page. Our secure checkout process will ensure a smooth shopping experience.\n",
            "\n",
            "If you have any questions or require assistance, our dedicated support team is here to help. Feel free to reach out via our website's live chat feature, where our experts are available 24/7 to address any inquiries you may have.\n",
            "\n",
            "Don't miss out on this opportunity to upgrade your audio journey with the CO-1T Wireless Headphones. We look forward to hearing your feedback and ensuring your satisfaction.\n",
            "\n",
            "Best regards,\n",
            "[Your Company Name]\n",
            "Support TeamNone\n"
          ]
        }
      ]
    },
    {
      "cell_type": "markdown",
      "source": [
        "# Question Answering\n",
        "\n",
        "This use case is about answering a question that a user asks, be it in a single-turn, question answering scenario or a multi-turn, chatbot setting.\n",
        "\n",
        "Question answering can take place in either a closed or open setting. In a closed-book question answering setting, we rely on the model to answer questions based on the general knowledge from which it has been trained. Here’s one example:"
      ],
      "metadata": {
        "id": "zragMYl4alLK"
      }
    },
    {
      "cell_type": "code",
      "source": [
        "user_input =\"What features should I consider when choosing a wireless headphone\"\n",
        "prompt = user_input\n",
        "\n",
        "response = generate_text(prompt, temp=0.5)\n",
        "print(response)"
      ],
      "metadata": {
        "colab": {
          "base_uri": "https://localhost:8080/"
        },
        "id": "O5cxVooLaFiQ",
        "outputId": "2df90c42-ea27-4325-fb6c-a99b8b596791"
      },
      "execution_count": null,
      "outputs": [
        {
          "output_type": "stream",
          "name": "stdout",
          "text": [
            "Choosing wireless headphones can depend on various personal preferences and specific needs. Here are some important features to consider:\n",
            "\n",
            "- **Sound Quality:** The primary purpose of headphones is audio playback, so sound quality is crucial. Look for headphones with clear, balanced sound, deep bass response, and good noise isolation. Consider reviews that focus on audio performance and check if the headphones support high-resolution audio codecs like aptX, LDAC, or AAC for improved wireless audio quality.\n",
            "\n",
            "- **Battery Life:** Wireless headphones rely on battery power, so battery life is a significant factor. Longer battery life ensures you won't need to charge your headphones frequently. Look for headphones that offer at least 20-30 hours of playback time on a single charge, and consider models with fast charging capabilities for added convenience.\n",
            "\n",
            "- **Comfort and Design:** You'll likely wear headphones for extended periods, so comfort is essential. Look for headphones with soft earpads, adjustable headbands, and a lightweight design. Over-ear headphones generally provide better comfort for long listening sessions, while on-ear and in-ear designs can be more portable. Choose a style and design that suits your preferences and intended use.\n",
            "\n",
            "- **Connectivity:** Ensure the headphones have a stable and reliable wireless connection. Bluetooth is the most common wireless technology, so check for the latest Bluetooth version (Bluetooth 5.0 or higher) for improved range and connectivity. Some headphones also offer multi-device pairing, allowing you to connect to multiple devices simultaneously.\n",
            "\n",
            "- **Noise Cancellation:** Active Noise Cancellation (ANC) is a popular feature that blocks out ambient noise, providing a better listening experience in noisy environments. If you often travel or work in loud spaces, consider headphones with effective ANC. However, keep in mind that ANC can impact battery life.\n",
            "\n",
            "- **Controls and Microphone:** Consider the ease of use and functionality of controls for volume, playback, and call management. Some headphones have touch controls, while others have physical buttons. Additionally, if you plan to use the headphones for calls, check for a good built-in microphone with noise reduction capabilities for clear voice transmission.\n",
            "\n",
            "- **Portability and Case:** If you intend to carry your headphones around, look for a compact and portable design. Some models come with a carrying case, which can protect your headphones when not in use. True wireless earbuds, in particular, often come with charging cases that provide additional battery life.\n",
            "\n",
            "- **Durability and Water Resistance:** If you plan to use your headphones during workouts or in outdoor environments, consider headphones with some level of water and sweat resistance. IPX4 or higher ratings indicate better protection against water and sweat.\n",
            "\n",
            "- **Price and Brand:** Wireless headphones come in various price ranges. Determine your budget and look for headphones that offer the best value for your money. Well-known audio brands often have a reputation for quality, but many lesser-known brands also offer excellent products.\n",
            "\n",
            "- **Additional Features:** Other features to consider include voice assistant support (e.g., Siri, Google Assistant), customizable EQ settings, app integration for additional controls, and compatibility with specific devices or platforms (e.g., Apple, Android).\n",
            "\n",
            "Remember to read reviews, compare different models, and try them out if possible to find the wireless headphones that best suit your preferences and requirements.None\n"
          ]
        }
      ]
    },
    {
      "cell_type": "markdown",
      "source": [
        "\n",
        "\n",
        "---\n",
        "This works well for a question that is open-ended and doesn’t have one correct answer. But let’s say we have a customer asking for specific information about the wireless headphone, such as its feature set. For this, we need to turn to an extractive question answering setting.\n",
        "\n",
        "In this setting, we can get the model to refer to specific knowledge bases to help it do its job well. This way, we can design a system that can handle questions that require factual responses.\n",
        "\n",
        "Here, a customer asks a product question. We can append the customer’s question and the product description to the prompt, as follows.\n"
      ],
      "metadata": {
        "id": "S9HoNvy-bUEY"
      }
    },
    {
      "cell_type": "code",
      "source": [
        "user_input = \"\"\"How do i control the sound level\"\"\"\n",
        "\n",
        "prompt = f\"\"\"\n",
        "{product} Use the context provided in here to answer the question. {user_input}\n",
        "\"\"\""
      ],
      "metadata": {
        "id": "bJhjUXQXa6RF"
      },
      "execution_count": null,
      "outputs": []
    },
    {
      "cell_type": "code",
      "source": [
        "response = generate_text(prompt, temp = 0)\n",
        "\n",
        "print(response)"
      ],
      "metadata": {
        "colab": {
          "base_uri": "https://localhost:8080/"
        },
        "id": "B1PGm2vabpy1",
        "outputId": "8bd6d8e1-48fc-443a-8b5b-f93805578b0a"
      },
      "execution_count": null,
      "outputs": [
        {
          "output_type": "stream",
          "name": "stdout",
          "text": [
            "To control the sound level on the CO-1T wireless headphones, you can use the dedicated button provided on the device. This button is designed to allow you to adjust the volume according to your preference. By pressing this button, you can increase or decrease the volume, making it easier to find the desired sound level for your listening experience. \n",
            "\n",
            "The volume control button is typically located on one of the earcups or in-line on the headphones, depending on the design of the CO-1T model. It is a simple and convenient feature that provides quick access to volume adjustments without the need to access your connected device.None\n"
          ]
        }
      ]
    },
    {
      "cell_type": "markdown",
      "source": [
        "# Brainstorming\n",
        "\n",
        "Another form of writing is brainstorming, where we want the model to generate a list of options based on a given prompt. This can be for writing outlines, generating ideas, providing critical analysis, and so on. This use case forces the model to go broad and cover different perspectives of a situation.\n",
        "\n",
        "In this example, we want the model to act as an assistant to a customer support agent in identifying possible ways to troubleshoot a technical problem that a customer is facing."
      ],
      "metadata": {
        "id": "U2DYEEgecCuP"
      }
    },
    {
      "cell_type": "code",
      "source": [
        "user_input = \"\"\"I can't get the bluetooth connection working\"\"\"\n",
        "\n",
        "prompt = f\"\"\"{product} A customer provides the following complaint {user_input} about this product.\n",
        "\n",
        "Provide a bulleted list to trobleshoot the problem so that we can advice the customer on how to fix it.\n",
        "\"\"\""
      ],
      "metadata": {
        "id": "zwmA4aWxbzHH"
      },
      "execution_count": null,
      "outputs": []
    },
    {
      "cell_type": "code",
      "source": [
        "response  = generate_text(prompt, temp = 0.3)\n",
        "\n",
        "print(response)"
      ],
      "metadata": {
        "colab": {
          "base_uri": "https://localhost:8080/"
        },
        "id": "DyVNUv43cUtx",
        "outputId": "6670b479-1e90-4915-f215-32f6180c9c88"
      },
      "execution_count": null,
      "outputs": [
        {
          "output_type": "stream",
          "name": "stdout",
          "text": [
            "To help the customer resolve the Bluetooth connectivity issue with the CO-1T headphones, consider the following troubleshooting steps:\n",
            "\n",
            "- **Check Device Compatibility:** Ensure that the customer's device (phone, laptop, or tablet) is compatible with Bluetooth technology and supports the necessary Bluetooth profiles for audio streaming. Advise the customer to verify this in their device's settings or user manual.\n",
            "\n",
            "- **Enable Bluetooth on the Device:** Ask the customer to check if Bluetooth is enabled on their device. Sometimes, a simple toggle on/off can refresh the connection.\n",
            "\n",
            "- **Pair the Headphones:**\n",
            "   - Make sure the headphones are in pairing mode. This is often done by holding down the power button for a few seconds until a light blinks, indicating pairing mode.\n",
            "   - Instruct the customer to locate the Bluetooth settings on their device and search for nearby devices. The CO-1T headphones should appear in the list of available devices.\n",
            "   - If the headphones don't appear, ask the customer to try bringing the headphones closer to the device and ensure there are no obstacles or interference.\n",
            "\n",
            "- **Forget and Reconnect:** If the device has previously been paired with other Bluetooth devices, it might be beneficial to \"forget\" those devices temporarily and then try reconnecting the CO-1T headphones:\n",
            "   - In the device's Bluetooth settings, locate the list of paired devices and select the option to \"forget\" or \"remove\" the CO-1T headphones.\n",
            "   - Then, follow the pairing process again as outlined above.\n",
            "\n",
            "- **Update Device Software:** Suggest that the customer checks for any available software updates for their device. Sometimes, outdated software can cause connectivity issues.\n",
            "\n",
            "- **Reset Headphones:** If the issue persists, recommend resetting the headphones to their factory settings. This process varies by model, so providing the customer with instructions from the product manual or online resources specific to the CO-1T model will be helpful.\n",
            "\n",
            "- **Check for Physical Damage:** Inspect the headphones and the device for any physical damage, especially to the Bluetooth antenna (if visible). Damage to these components could impact connectivity.\n",
            "\n",
            "- **Contact Support:** If all else fails, advise the customer to contact the product's customer support team for further assistance. They might provide additional troubleshooting steps or offer a replacement if the issue is due to a manufacturing defect.None\n"
          ]
        }
      ]
    },
    {
      "cell_type": "markdown",
      "source": [
        "# Transforming\n",
        "\n",
        "The first thing that comes to mind when thinking about generative models is their ability to write a fresh piece of text, but one aspect that is rather understated is their ability to synthesize an existing piece of text.\n",
        "\n",
        "One example is transforming a passage of text into a different form, making it reusable for different purposes.\n",
        "\n",
        "For example, creating a list of Frequently Asked Questions (FAQs) about wireless headphones is crucial, but it requires some effort to create. We can cut short this process by getting the model to generate a list of FAQs based on the product description, as follows:"
      ],
      "metadata": {
        "id": "W2FKB9HsdYxD"
      }
    },
    {
      "cell_type": "code",
      "source": [
        "prompt = f\"\"\"turn the follwoing product description {product} into a list of frequently asked questions (FAQ)\"\"\"\n",
        "\n",
        "response = generate_text(prompt, temp = 0)\n",
        "\n",
        "print(response)"
      ],
      "metadata": {
        "colab": {
          "base_uri": "https://localhost:8080/"
        },
        "id": "zL1q8v9EdI_k",
        "outputId": "d133d501-363b-472f-d908-e47017399ba8"
      },
      "execution_count": null,
      "outputs": [
        {
          "output_type": "stream",
          "name": "stdout",
          "text": [
            "Here is a list of FAQs based on the product description:\n",
            "\n",
            "---\n",
            "\n",
            "**Q: What is the CO-1T?**\n",
            "A: The CO-1T is a wireless headphone designed for an enhanced audio experience.\n",
            "\n",
            "**Q: How do these headphones connect to my devices?**\n",
            "A: They utilize Bluetooth technology for seamless wireless connectivity with your smartphones, tablets, or laptops.\n",
            "\n",
            "**Q: What are the battery specifications?**\n",
            "A: The CO-1T boasts an impressive battery life, ensuring extended usage. It can be conveniently charged using the supplied USB cable.\n",
            "\n",
            "**Q: Is this headphone comfortable for extended wear?**\n",
            "A: Absolutely! Its lightweight design and ergonomic structure make it ideal for prolonged use without causing discomfort.\n",
            "\n",
            "**Q: Does it support hands-free calling?**\n",
            "A: Yes, it features a built-in microphone for clear voice calls, and a dedicated button allows you to control the volume and manage calls with ease.\n",
            "\n",
            "**Q: What makes the CO-1T stand out?**\n",
            "A: The CO-1T is a perfect blend of convenience and performance. Its wireless connectivity, extended battery life, and comfortable design make it an excellent choice for those seeking a reliable wireless headphone solution.\n",
            "\n",
            "---\n",
            "\n",
            "Let me know if you would like me to elaborate on any of these points or provide additional FAQs for this product. I can also restructure the information in a different format if you wish to highlight specific features.None\n"
          ]
        }
      ]
    },
    {
      "cell_type": "markdown",
      "source": [
        "# Summarizing\n",
        "\n",
        "One popular use case for synthesizing text is summarization. Here we take a long passage of text and summarize it to its essence. These can be articles, conversation transcripts, reports, meeting notes, and so on.\n",
        "\n",
        "In this example, we create a prompt to summarize a list of customer reviews about the wireless headphone."
      ],
      "metadata": {
        "id": "M0mTIBE9eLec"
      }
    },
    {
      "cell_type": "code",
      "source": [
        "user_input =\"\"\"Customer reviews of the CO-1T wireless headphones:\n",
        "\n",
        "\"The CO-1T is a great pair of headphones! The design is sleek and modern, and the headphones are \\\n",
        "very comfortable to wear. The sound quality is excellent, and I can hear every detail of my music. \\\n",
        "The built-in microphone means I can make calls without having to take my phone out of my pocket. I \\\n",
        "highly recommend the CO-1T to anyone looking for a great pair of wireless headphones!\"\n",
        "\n",
        "\"I'm very disappointed with the CO-1T. The design is nice, but the battery life is terrible. I can \\\n",
        "only use them for a few hours before they need to be recharged. This is very inconvenient, and I'm \\\n",
        "not sure if I can recommend them to anyone.\"\n",
        "\n",
        "\"The CO-1T is a mixed bag. The speaker quality is great, but the built-in microphone's quality is \\\n",
        "poor. I can hear every detail of my music, but my voice sounds distorted when I make calls. The \\\n",
        "design is nice, and the headphones are comfortable to wear, but the battery life is only average. \\\n",
        "I'm not sure if I can recommend them to anyone.\"\n",
        "\"\"\"\n",
        "\n",
        "prompt = f\"\"\"Summarize the following\n",
        "{user_input}\n",
        "\n",
        "\"\"\""
      ],
      "metadata": {
        "id": "LqAdyuNMd9iU"
      },
      "execution_count": null,
      "outputs": []
    },
    {
      "cell_type": "code",
      "source": [
        "response = generate_text(prompt, temp = 0.3)\n",
        "\n",
        "print(response)"
      ],
      "metadata": {
        "colab": {
          "base_uri": "https://localhost:8080/"
        },
        "id": "8m45Zd3iekaC",
        "outputId": "e2b9956b-d4f4-4f13-e3c2-d2c978677579"
      },
      "execution_count": null,
      "outputs": [
        {
          "output_type": "stream",
          "name": "stdout",
          "text": [
            "The CO-1T wireless headphones have received mixed reviews from customers. On the positive side, many users praise their sleek design, comfort, and excellent sound quality, allowing for an immersive music experience. The built-in microphone is a convenient feature for hands-free calls. However, there are some drawbacks. One reviewer expressed disappointment with the short battery life, which requires frequent recharging. Another customer mentioned that while the speaker quality is good, the microphone's performance is poor during calls. Additionally, the battery life is considered average by one user. Overall, the CO-1T seems to have both pros and cons, with some users recommending them for their sound and design, while others are hesitant due to the battery and microphone issues.None\n"
          ]
        }
      ]
    },
    {
      "cell_type": "markdown",
      "source": [
        "# Rewriting\n",
        "\n",
        "Rewriting text is another useful use case where you need to modify some aspects of the text while maintaining its overall meaning. One example is changing the tone of a piece of text to tailor it to a specific audience. Here we want to rewrite the product description so it’s more relatable to students."
      ],
      "metadata": {
        "id": "oY_Lh5Wxe440"
      }
    },
    {
      "cell_type": "code",
      "source": [
        "user_input = 'college student'\n",
        "\n",
        "prompt = f\"\"\"create a version of this product description that is tailored towards {user_input}\"\"\""
      ],
      "metadata": {
        "id": "D7a5tG5Deo9p"
      },
      "execution_count": null,
      "outputs": []
    },
    {
      "cell_type": "code",
      "source": [
        "response = generate_text(prompt, temp = 0.5)\n",
        "\n",
        "print(response)"
      ],
      "metadata": {
        "colab": {
          "base_uri": "https://localhost:8080/"
        },
        "id": "ut2SBLO6fXyk",
        "outputId": "a9b3dd59-ae91-4ce6-8884-9ac5bf70831d"
      },
      "execution_count": null,
      "outputs": [
        {
          "output_type": "stream",
          "name": "stdout",
          "text": [
            "Are you tired of lugging around heavy textbooks and struggling to stay organized? It's time to upgrade your study routine with the ultimate solution: the [Product Name] Digital Note-Taking System! Say hello to your new academic sidekick that will revolutionize the way you tackle college life.\n",
            "\n",
            "As a college student, you're constantly on the move, jumping from lectures to study groups and back again. The [Product Name] is designed to keep up with your fast-paced lifestyle. Imagine having all your notes, textbooks, and study materials in one lightweight and sleek device. No more heavy backpacks or frantically searching for that one missing lecture slide!\n",
            "\n",
            "This powerful tool offers a seamless note-taking experience, allowing you to type, write, or sketch your ideas effortlessly. With its advanced stylus, you can take notes just like you would on paper, ensuring a natural and intuitive workflow. Quickly jot down equations during your math lecture, highlight important passages in your digital textbook, or create visual mind maps for your group project.\n",
            "\n",
            "For those all-night study sessions, the [Product Name] has got your back. Its long-lasting battery ensures you won't be interrupted by unexpected shutdowns. And with its adjustable lighting settings,None\n"
          ]
        }
      ]
    },
    {
      "cell_type": "markdown",
      "source": [
        "# Extracting\n",
        "\n",
        "Another extremely useful way of looking at text synthesis is information extraction. Here we leverage the model’s ability to capture the context of a piece of text to extract the right information as specified by the prompt.\n",
        "\n",
        "Here is an example of an email that a customer is, unfortunately, asking for a refund for the wireless headphone. We can have the model process this email by getting it to extract information, such as the product name, refund reason, and pick-up address."
      ],
      "metadata": {
        "id": "fjOvBe5sgG68"
      }
    },
    {
      "cell_type": "code",
      "source": [
        "user_input =\"\"\"I am writing to request a refund for a recent CO-1T purchase I made on your platform. \\\n",
        "Unfortunately, the produce has not met my expectations due to its poor battery life. \\\n",
        "Please arrange for the pick-up at this address: to 171 John Street, Toronto ON, M5T 1X2.\"\"\"\n",
        "\n",
        "prompt = f\"\"\"Extract the product, refund reason and pick-up address from {user_input}\"\"\""
      ],
      "metadata": {
        "id": "2EYDf5cffbBb"
      },
      "execution_count": null,
      "outputs": []
    },
    {
      "cell_type": "code",
      "source": [
        "response = generate_text(prompt, temp = 0)\n",
        "\n",
        "print(response)"
      ],
      "metadata": {
        "colab": {
          "base_uri": "https://localhost:8080/"
        },
        "id": "Ffr4Fzf7grfn",
        "outputId": "b8e16357-4df8-49e0-8a7b-db9178a423a9"
      },
      "execution_count": null,
      "outputs": [
        {
          "output_type": "stream",
          "name": "stdout",
          "text": [
            "Product: CO-1T\n",
            "Refund reason: Poor battery life\n",
            "Pick-up address: 171 John Street, Toronto, ON M5T 1X2None\n"
          ]
        }
      ]
    },
    {
      "cell_type": "code",
      "source": [
        "prompt =f\"\"\"Extract as JSON the product, refund reason and pick-up address from this email:\n",
        "\n",
        "{user_input}\n",
        "\"\"\"\n",
        "\n",
        "response = co.chat(\n",
        "  model=\"command-r-plus\",\n",
        "  messages=[{\"role\": \"user\", \"content\": prompt}], # Change is on this line\n",
        "  response_format={\n",
        "    \"type\": \"json_object\",\n",
        "    \"schema\": {\n",
        "      \"type\": \"object\",\n",
        "      \"required\": [\"product\", \"refund_reason\", \"pickup_address\"],\n",
        "      \"properties\": {\n",
        "        \"product\": { \"type\": \"string\" },\n",
        "        \"refund_reason\": { \"type\": \"string\" },\n",
        "        \"pickup_address\": { \"type\": \"string\" }\n",
        "      }\n",
        "    }\n",
        "  })\n",
        "\n",
        "print(response.message.content[0].text) # Change this line"
      ],
      "metadata": {
        "colab": {
          "base_uri": "https://localhost:8080/"
        },
        "id": "84pLntNsiE25",
        "outputId": "50fa8236-43fc-49ed-9b96-bbe71a15e8c7"
      },
      "execution_count": null,
      "outputs": [
        {
          "output_type": "stream",
          "name": "stderr",
          "text": [
            "WARNING:cohere.client:The `response_format.schema` parameter is an experimental feature and may change in future releases.\n",
            "To suppress this warning, set `log_warning_experimental_features=False` when initializing the client.\n"
          ]
        },
        {
          "output_type": "stream",
          "name": "stdout",
          "text": [
            "{\n",
            "  \"product\": \"Battery\",\n",
            "  \"refund_reason\": \"The battery drains fast\",\n",
            "  \"pickup_address\": \"None provided\"\n",
            "}\n"
          ]
        }
      ]
    },
    {
      "cell_type": "markdown",
      "source": [
        "A more robust approach for handling text extraction is to use the structured output generation feature of the API. You can specify a JSON schema that the model will match when generating its response."
      ],
      "metadata": {
        "id": "OCtL_KGNiAMJ"
      }
    },
    {
      "cell_type": "markdown",
      "source": [
        "# Classifying\n",
        "\n",
        "One of the most widely deployed use cases in NLP is text classification. Here, the task is to classify a piece of text into one of a few predefined classes. In this example, we want to classify incoming customer messages into one of three categories: Order, Support, or Refunds.\n",
        "\n",
        "We can create the prompt as follows."
      ],
      "metadata": {
        "id": "pcfhQKfHg9A2"
      }
    },
    {
      "cell_type": "code",
      "source": [
        "user_input = \"\"\"The battery drain fast\"\"\"\n",
        "\n",
        "prompt = f\"\"\"\n",
        "The follwing is a user message\n",
        "{user_input} to the customer support agent. Classify the message into one of the following categories: Order, Support, or Refunds.\n",
        "\n",
        "\"\"\""
      ],
      "metadata": {
        "id": "hWkbCq2Bgu9R"
      },
      "execution_count": null,
      "outputs": []
    },
    {
      "cell_type": "code",
      "source": [
        "generate_text(prompt, temp = 0)"
      ],
      "metadata": {
        "colab": {
          "base_uri": "https://localhost:8080/"
        },
        "id": "CR6X_ZmmhhXo",
        "outputId": "ba1a8fcb-9f27-49e9-f621-fd49947662cb"
      },
      "execution_count": null,
      "outputs": [
        {
          "output_type": "stream",
          "name": "stdout",
          "text": [
            "Support."
          ]
        }
      ]
    },
    {
      "cell_type": "markdown",
      "source": [
        "\n",
        "\n",
        "---\n",
        "Alternatively, the Classify endpoint provides a simple API for running text classification. The endpoint leverages Cohere’s embeddings models and makes it easy to add training examples and even create custom models that are specifically tailored to your task.\n",
        "\n",
        "Here’s how we can use the Classify endpoint. It requires a minimum of two examples per class, which is passed as an argument to the API call. We have six examples altogether – two for each class.\n"
      ],
      "metadata": {
        "id": "IeJk4RM5khG5"
      }
    },
    {
      "cell_type": "code",
      "source": [
        "from cohere import ClassifyExample\n",
        "\n",
        "response = co.classify(\n",
        "  model='embed-english-v3.0',\n",
        "  inputs=[user_input],\n",
        "  examples=[ClassifyExample(text=\"I can\\'t connect to the bluetooth\", label=\"Support\"),\n",
        "            ClassifyExample(text=\"Why is max volume so low\", label=\"Support\"),\n",
        "            ClassifyExample(text=\"When will my order arrive\", label=\"Order\"),\n",
        "            ClassifyExample(text=\"How much is the shipping cost\", label=\"Order\"),\n",
        "            ClassifyExample(text=\"What is your refund policy\", label=\"Refunds\"),\n",
        "            ClassifyExample(text=\"How do I return my product\", label=\"Refunds\")])\n",
        "print(response.classifications[0].predictions[0])"
      ],
      "metadata": {
        "colab": {
          "base_uri": "https://localhost:8080/"
        },
        "id": "PcQTZtEjhkLA",
        "outputId": "f50addf2-bc84-4c43-8591-7f7d58184f13"
      },
      "execution_count": null,
      "outputs": [
        {
          "output_type": "stream",
          "name": "stdout",
          "text": [
            "Support\n"
          ]
        }
      ]
    },
    {
      "cell_type": "code",
      "source": [],
      "metadata": {
        "id": "u4cfo67Rlrp1"
      },
      "execution_count": null,
      "outputs": []
    }
  ]
}